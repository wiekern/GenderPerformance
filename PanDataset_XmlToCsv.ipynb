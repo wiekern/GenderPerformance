{
 "cells": [
  {
   "cell_type": "code",
   "execution_count": null,
   "metadata": {},
   "outputs": [],
   "source": [
    "import xml.etree.ElementTree as ET\n",
    "import pandas as pd\n",
    "import glob\n",
    "import os\n",
    "import re\n",
    "import numpy as np\n",
    "from pathlib import Path"
   ]
  },
  {
   "cell_type": "code",
   "execution_count": null,
   "metadata": {},
   "outputs": [],
   "source": [
    "train_label_file = Path.cwd() / 'datasets/pan/en.txt'\n",
    "train_xml_files_dir =  Path.cwd() / 'datasets/pan/text_xml'\n",
    "tweets_all = dict()\n",
    "tweets_all_cleaned = dict()\n",
    "tweets_all_df = None\n",
    "\n",
    "gender_map = {'female':1, 'male':0}\n",
    "author_labels = dict()\n",
    "for line in open(train_label_file, 'r'):\n",
    "    res = line.split(':::')\n",
    "    author_labels[res[0]] = gender_map[res[1].rstrip('\\n')]\n",
    "\n",
    "for xml_file in train_xml_files_dir.glob('*.xml'):\n",
    "    tree = ET.parse(xml_file)\n",
    "    root = tree.getroot()\n",
    "    tweets_single = []\n",
    "    tweets_single_cleaned = []\n",
    "    for cdata in root.iter('document'):\n",
    "        tweets_single.append(cdata.text)\n",
    "        text = cdata.text\n",
    "        text = text.encode('ascii', 'ignore').decode('ascii')\n",
    "        cleaned_text = re.sub(r'@\\S+|https?:\\/\\/.*[\\r\\n]*', '', text, flags=re.MULTILINE)\n",
    "        tweets_single_cleaned.append(cleaned_text)\n",
    "        \n",
    "    path, file = os.path.split(xml_file)\n",
    "    author_id = file.rstrip('.xml')\n",
    "    tweets_all[author_id] = tweets_single\n",
    "    tweets_all_cleaned[author_id] = tweets_single_cleaned\n",
    "    number_of_tweets = len(tweets_single_cleaned)\n",
    "    author_repeated = np.repeat(author_id, number_of_tweets)\n",
    "    gender_repeated = np.repeat(author_labels[author_id], number_of_tweets)\n",
    "    if tweets_all_df is None:\n",
    "        tweets_all_df = pd.DataFrame(data={'id': author_repeated, 'text': tweets_single_cleaned, 'gender': gender_repeated})\n",
    "    else:\n",
    "        df = pd.DataFrame({'id':author_repeated, 'text': tweets_single_cleaned, 'gender': gender_repeated})\n",
    "        tweets_all_df = pd.concat([tweets_all_df, df], ignore_index=True)\n",
    "        print(tweets_all_df.shape)"
   ]
  },
  {
   "cell_type": "code",
   "execution_count": null,
   "metadata": {},
   "outputs": [],
   "source": [
    "train_data.replace(to_replace=[r\"\\\\t|\\\\n|\\\\r\", \"\\t|\\n|\\r\"], value=[\"\",\"\"], regex=True, inplace=True)\n",
    "test_data.replace(to_replace=[r\"\\\\t|\\\\n|\\\\r\", \"\\t|\\n|\\r\"], value=[\"\",\"\"], regex=True, inplace=True)\n",
    "train_data.to_csv('pan_train.csv', index=False, header=False)\n",
    "test_data.to_csv('pan_test.csv', index=False, header=False)"
   ]
  },
  {
   "cell_type": "code",
   "execution_count": null,
   "metadata": {},
   "outputs": [],
   "source": [
    "from pathlib import Path\n",
    "dataset_dir = Path.cwd() / 'datasets/pan'\n",
    "train_df = pd.read_csv(dataset_dir / 'training_gender_text.csv', names=['Gender', 'Text'])\n",
    "validation_df = pd.read_csv(dataset_dir / 'validation_gender_text.csv', names=['Gender', 'Text'])\n",
    "test_df = pd.read_csv(dataset_dir / 'test_name_text_gender.csv', names=['UserId', 'Text', 'Gender'])"
   ]
  },
  {
   "cell_type": "code",
   "execution_count": null,
   "metadata": {},
   "outputs": [],
   "source": [
    "concat_df = pd.concat([train_df, validation_df], ignore_index=True, names=['Gender', 'Text'])\n",
    "concat_df.head()"
   ]
  },
  {
   "cell_type": "code",
   "execution_count": null,
   "metadata": {},
   "outputs": [],
   "source": [
    "concat_df.shape"
   ]
  },
  {
   "cell_type": "code",
   "execution_count": null,
   "metadata": {},
   "outputs": [],
   "source": [
    "from sklearn.model_selection import train_test_split\n",
    "\n",
    "# 80/20 train/validation\n",
    "train_df, validation_df = train_test_split(concat_df, test_size=0.2)"
   ]
  },
  {
   "cell_type": "code",
   "execution_count": null,
   "metadata": {},
   "outputs": [],
   "source": [
    "from pathlib import Path\n",
    "dataset_dir = Path.cwd() / 'datasets/pan_new'"
   ]
  },
  {
   "cell_type": "code",
   "execution_count": null,
   "metadata": {},
   "outputs": [],
   "source": [
    "train_df.to_csv(dataset_dir / 'training_gender_text.csv', index=False, header=False)\n",
    "validation_df.to_csv(dataset_dir / 'validation_gender_text.csv', index=False, header=False)"
   ]
  },
  {
   "cell_type": "code",
   "execution_count": null,
   "metadata": {},
   "outputs": [],
   "source": [
    "train_len = train_df.shape[0]\n",
    "print(train_len)"
   ]
  },
  {
   "cell_type": "code",
   "execution_count": null,
   "metadata": {},
   "outputs": [],
   "source": [
    "validation_len = validation_df.shape[0]"
   ]
  },
  {
   "cell_type": "code",
   "execution_count": null,
   "metadata": {},
   "outputs": [],
   "source": [
    "validation_len"
   ]
  },
  {
   "cell_type": "code",
   "execution_count": null,
   "metadata": {},
   "outputs": [],
   "source": [
    "test_len = test_df.shape[0]"
   ]
  },
  {
   "cell_type": "code",
   "execution_count": null,
   "metadata": {},
   "outputs": [],
   "source": [
    "total_size = train_len + validation_len + test_len"
   ]
  },
  {
   "cell_type": "code",
   "execution_count": null,
   "metadata": {},
   "outputs": [],
   "source": [
    "import matplotlib.pyplot as plt\n",
    "labels = 'Training', 'Validation', 'Test'\n",
    "sizes = [train_len/total_size, validation_len/total_size, test_len/total_size]\n",
    "explode = (0, 0, 0)  # only \"explode\" the 2nd slice (i.e. 'Hogs')\n",
    "\n",
    "fig1, ax1 = plt.subplots()\n",
    "ax1.pie(sizes, explode=explode, labels=labels, autopct='%1.1f%%',\n",
    "        shadow=True, startangle=90)\n",
    "ax1.axis('equal')  # Equal aspect ratio ensures that pie is drawn as a circle.\n",
    "\n",
    "plt.show()"
   ]
  }
 ],
 "metadata": {
  "kernelspec": {
   "display_name": "Python 3",
   "language": "python",
   "name": "python3"
  },
  "language_info": {
   "codemirror_mode": {
    "name": "ipython",
    "version": 3
   },
   "file_extension": ".py",
   "mimetype": "text/x-python",
   "name": "python",
   "nbconvert_exporter": "python",
   "pygments_lexer": "ipython3",
   "version": "3.7.3"
  }
 },
 "nbformat": 4,
 "nbformat_minor": 2
}
