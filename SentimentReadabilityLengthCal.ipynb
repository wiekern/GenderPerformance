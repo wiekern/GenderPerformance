{
 "cells": [
  {
   "cell_type": "markdown",
   "metadata": {},
   "source": [
    "# Notebook for calculating sentiment, readability and length"
   ]
  },
  {
   "cell_type": "code",
   "execution_count": 1,
   "metadata": {},
   "outputs": [],
   "source": [
    "import pandas as pd\n",
    "import numpy as np"
   ]
  },
  {
   "cell_type": "code",
   "execution_count": 2,
   "metadata": {},
   "outputs": [],
   "source": [
    "import gzip\n",
    "import csv\n",
    "import string\n",
    "import math\n",
    "import nltk\n",
    "from nltk.tokenize import sent_tokenize, word_tokenize\n",
    "from nltk.corpus import cmudict\n",
    "from nltk.corpus import stopwords\n",
    "from nltk.tokenize import RegexpTokenizer\n",
    "import matplotlib.pyplot as plt\n",
    "import matplotlib.patches as mpatches\n",
    "from datetime import datetime\n",
    "%matplotlib inline"
   ]
  },
  {
   "cell_type": "code",
   "execution_count": 3,
   "metadata": {},
   "outputs": [
    {
     "data": {
      "text/html": [
       "<div>\n",
       "<style scoped>\n",
       "    .dataframe tbody tr th:only-of-type {\n",
       "        vertical-align: middle;\n",
       "    }\n",
       "\n",
       "    .dataframe tbody tr th {\n",
       "        vertical-align: top;\n",
       "    }\n",
       "\n",
       "    .dataframe thead th {\n",
       "        text-align: right;\n",
       "    }\n",
       "</style>\n",
       "<table border=\"1\" class=\"dataframe\">\n",
       "  <thead>\n",
       "    <tr style=\"text-align: right;\">\n",
       "      <th></th>\n",
       "      <th>business_id</th>\n",
       "      <th>stars</th>\n",
       "      <th>useful</th>\n",
       "      <th>text</th>\n",
       "      <th>timestamp</th>\n",
       "      <th>gender</th>\n",
       "    </tr>\n",
       "  </thead>\n",
       "  <tbody>\n",
       "    <tr>\n",
       "      <td>0</td>\n",
       "      <td>ujmEBvifdJM6h6RLv4wQIg</td>\n",
       "      <td>1.0</td>\n",
       "      <td>3.0</td>\n",
       "      <td>Went in for a broken finger, was asked if I wa...</td>\n",
       "      <td>1.525800e+09</td>\n",
       "      <td>1</td>\n",
       "    </tr>\n",
       "    <tr>\n",
       "      <td>1</td>\n",
       "      <td>I5TnTKHzJuLA0YLZPGCNwQ</td>\n",
       "      <td>5.0</td>\n",
       "      <td>0.0</td>\n",
       "      <td>Absolutely love this place! Great food for the...</td>\n",
       "      <td>1.472864e+09</td>\n",
       "      <td>1</td>\n",
       "    </tr>\n",
       "    <tr>\n",
       "      <td>2</td>\n",
       "      <td>3dC3opMY67zrquz_yYc-tw</td>\n",
       "      <td>1.0</td>\n",
       "      <td>0.0</td>\n",
       "      <td>Frequent this place a lot, well today there wa...</td>\n",
       "      <td>1.493149e+09</td>\n",
       "      <td>1</td>\n",
       "    </tr>\n",
       "    <tr>\n",
       "      <td>3</td>\n",
       "      <td>_GqNHoWtBOksNcfVjnl0YQ</td>\n",
       "      <td>5.0</td>\n",
       "      <td>0.0</td>\n",
       "      <td>Phil Brown is a very knowledgeable person, he ...</td>\n",
       "      <td>1.491937e+09</td>\n",
       "      <td>1</td>\n",
       "    </tr>\n",
       "    <tr>\n",
       "      <td>4</td>\n",
       "      <td>WSGHEQdcdbBWXDpna99EiQ</td>\n",
       "      <td>5.0</td>\n",
       "      <td>0.0</td>\n",
       "      <td>I absolutely love this place. It's delicious a...</td>\n",
       "      <td>1.480817e+09</td>\n",
       "      <td>1</td>\n",
       "    </tr>\n",
       "  </tbody>\n",
       "</table>\n",
       "</div>"
      ],
      "text/plain": [
       "              business_id  stars  useful  \\\n",
       "0  ujmEBvifdJM6h6RLv4wQIg    1.0     3.0   \n",
       "1  I5TnTKHzJuLA0YLZPGCNwQ    5.0     0.0   \n",
       "2  3dC3opMY67zrquz_yYc-tw    1.0     0.0   \n",
       "3  _GqNHoWtBOksNcfVjnl0YQ    5.0     0.0   \n",
       "4  WSGHEQdcdbBWXDpna99EiQ    5.0     0.0   \n",
       "\n",
       "                                                text     timestamp  gender  \n",
       "0  Went in for a broken finger, was asked if I wa...  1.525800e+09       1  \n",
       "1  Absolutely love this place! Great food for the...  1.472864e+09       1  \n",
       "2  Frequent this place a lot, well today there wa...  1.493149e+09       1  \n",
       "3  Phil Brown is a very knowledgeable person, he ...  1.491937e+09       1  \n",
       "4  I absolutely love this place. It's delicious a...  1.480817e+09       1  "
      ]
     },
     "execution_count": 3,
     "metadata": {},
     "output_type": "execute_result"
    }
   ],
   "source": [
    "#read csv\n",
    "\n",
    "# fields = ['Product_Id','Gender','Helpfulness','Review','Overall_Rating','Timestamp']\n",
    "fields = ['business_id','gender','useful','text', 'stars', 'timestamp']\n",
    "disclosed_flag = True\n",
    "if disclosed_flag:\n",
    "    undisclosed_df = pd.read_csv('disclosed_dataset.csv', usecols=fields)\n",
    "    mapping = {'female' : 1, 'male' : 0}\n",
    "    undisclosed_df.replace({'gender': mapping}, inplace=True)\n",
    "else:\n",
    "    undisclosed_df = pd.read_csv('undisclosed_predicted_dataset.csv', usecols=fields)\n",
    "undisclosed_df.head()"
   ]
  },
  {
   "cell_type": "code",
   "execution_count": 4,
   "metadata": {},
   "outputs": [],
   "source": [
    "df_dict = {}\n",
    "if disclosed_flag:\n",
    "    for i, g in undisclosed_df.groupby('gender'):\n",
    "        df_dict[i] = g\n",
    "        g.to_csv('disclosed_{}_.csv'.format(i), index=False)\n",
    "else:\n",
    "    for i, g in undisclosed_df.groupby('predicted_gender'):\n",
    "        df_dict[i] = g\n",
    "        g.to_csv('undisclosed_{}_.csv'.format(i), index=False)\n"
   ]
  },
  {
   "cell_type": "code",
   "execution_count": null,
   "metadata": {},
   "outputs": [],
   "source": [
    "df_dict"
   ]
  },
  {
   "cell_type": "code",
   "execution_count": 5,
   "metadata": {},
   "outputs": [
    {
     "data": {
      "text/html": [
       "<div>\n",
       "<style scoped>\n",
       "    .dataframe tbody tr th:only-of-type {\n",
       "        vertical-align: middle;\n",
       "    }\n",
       "\n",
       "    .dataframe tbody tr th {\n",
       "        vertical-align: top;\n",
       "    }\n",
       "\n",
       "    .dataframe thead th {\n",
       "        text-align: right;\n",
       "    }\n",
       "</style>\n",
       "<table border=\"1\" class=\"dataframe\">\n",
       "  <thead>\n",
       "    <tr style=\"text-align: right;\">\n",
       "      <th></th>\n",
       "      <th>business_id</th>\n",
       "      <th>stars</th>\n",
       "      <th>useful</th>\n",
       "      <th>text</th>\n",
       "      <th>timestamp</th>\n",
       "      <th>gender</th>\n",
       "    </tr>\n",
       "  </thead>\n",
       "  <tbody>\n",
       "    <tr>\n",
       "      <td>33</td>\n",
       "      <td>ujmEBvifdJM6h6RLv4wQIg</td>\n",
       "      <td>1.0</td>\n",
       "      <td>2.0</td>\n",
       "      <td>Interesting... Lisa P. has provided a canned r...</td>\n",
       "      <td>1.485610e+09</td>\n",
       "      <td>0</td>\n",
       "    </tr>\n",
       "    <tr>\n",
       "      <td>34</td>\n",
       "      <td>ujmEBvifdJM6h6RLv4wQIg</td>\n",
       "      <td>2.0</td>\n",
       "      <td>1.0</td>\n",
       "      <td>I was experiencing some urological issues and ...</td>\n",
       "      <td>1.481383e+09</td>\n",
       "      <td>0</td>\n",
       "    </tr>\n",
       "    <tr>\n",
       "      <td>35</td>\n",
       "      <td>nrJ_q34hhsOSyUv9nx3sqw</td>\n",
       "      <td>4.0</td>\n",
       "      <td>0.0</td>\n",
       "      <td>At first glance, this place appears to be an a...</td>\n",
       "      <td>1.423157e+09</td>\n",
       "      <td>0</td>\n",
       "    </tr>\n",
       "    <tr>\n",
       "      <td>36</td>\n",
       "      <td>iIaC8f8QgaWTYoFSZYasrw</td>\n",
       "      <td>5.0</td>\n",
       "      <td>0.0</td>\n",
       "      <td>James was on time, friendly and professional. ...</td>\n",
       "      <td>1.509405e+09</td>\n",
       "      <td>0</td>\n",
       "    </tr>\n",
       "    <tr>\n",
       "      <td>37</td>\n",
       "      <td>nmTOGH5cunMweQ0uNaG52A</td>\n",
       "      <td>5.0</td>\n",
       "      <td>5.0</td>\n",
       "      <td>We had 125 sq yds of carpet installed on 4/15/...</td>\n",
       "      <td>1.430822e+09</td>\n",
       "      <td>0</td>\n",
       "    </tr>\n",
       "  </tbody>\n",
       "</table>\n",
       "</div>"
      ],
      "text/plain": [
       "               business_id  stars  useful  \\\n",
       "33  ujmEBvifdJM6h6RLv4wQIg    1.0     2.0   \n",
       "34  ujmEBvifdJM6h6RLv4wQIg    2.0     1.0   \n",
       "35  nrJ_q34hhsOSyUv9nx3sqw    4.0     0.0   \n",
       "36  iIaC8f8QgaWTYoFSZYasrw    5.0     0.0   \n",
       "37  nmTOGH5cunMweQ0uNaG52A    5.0     5.0   \n",
       "\n",
       "                                                 text     timestamp  gender  \n",
       "33  Interesting... Lisa P. has provided a canned r...  1.485610e+09       0  \n",
       "34  I was experiencing some urological issues and ...  1.481383e+09       0  \n",
       "35  At first glance, this place appears to be an a...  1.423157e+09       0  \n",
       "36  James was on time, friendly and professional. ...  1.509405e+09       0  \n",
       "37  We had 125 sq yds of carpet installed on 4/15/...  1.430822e+09       0  "
      ]
     },
     "execution_count": 5,
     "metadata": {},
     "output_type": "execute_result"
    }
   ],
   "source": [
    "df_male = df_dict[0]\n",
    "df_female = df_dict[1]\n",
    "df_male.head()"
   ]
  },
  {
   "cell_type": "code",
   "execution_count": 6,
   "metadata": {},
   "outputs": [],
   "source": [
    "not_punctuation = lambda w: not (len(w)==1 and (not w.isalpha()))\n",
    "get_sent_count = lambda text: len(sent_tokenize(text))"
   ]
  },
  {
   "cell_type": "code",
   "execution_count": 7,
   "metadata": {},
   "outputs": [],
   "source": [
    "TOKENIZER = RegexpTokenizer('(?u)\\W+|\\$[\\d\\.]+|\\S+')\n",
    "SPECIAL_CHARS = ['.', ',', '!', '?']\n",
    "\n",
    "def get_words(text=''):\n",
    "    words = []\n",
    "    words = TOKENIZER.tokenize(text)\n",
    "    filtered_words = []\n",
    "    for word in words:\n",
    "        if word in SPECIAL_CHARS or word == \" \":\n",
    "            pass\n",
    "        else:\n",
    "            new_word = word.replace(\",\",\"\").replace(\".\",\"\")\n",
    "            new_word = new_word.replace(\"!\",\"\").replace(\"?\",\"\")\n",
    "            filtered_words.append(new_word)\n",
    "    return filtered_words"
   ]
  },
  {
   "cell_type": "code",
   "execution_count": 8,
   "metadata": {},
   "outputs": [],
   "source": [
    "# nltk.download('cmudict')\n",
    "prondict = cmudict.dict()"
   ]
  },
  {
   "cell_type": "code",
   "execution_count": 9,
   "metadata": {},
   "outputs": [],
   "source": [
    "def numsyllables(word):\n",
    "    try:\n",
    "        return [len(list(y for y in x if (y[-1]).isdigit())) for x in prondict[word.lower()]]\n",
    "    except KeyError:\n",
    "        return [0]"
   ]
  },
  {
   "cell_type": "code",
   "execution_count": 10,
   "metadata": {},
   "outputs": [],
   "source": [
    "def text_statistics(text):\n",
    "    word_count = len(get_words(text))\n",
    "    sent_count = get_sent_count(text)\n",
    "    #if more than one pronunciation, take the largest no. of syllables\n",
    "    syllable_count = sum(map(lambda w: max(numsyllables(w)), word_tokenize(text)))\n",
    "    \n",
    "    analyzedVars = {\n",
    "        'word_cnt': float(word_count),\n",
    "        'sentence_cnt': float(sent_count),\n",
    "        'syllable_cnt': float(syllable_count),\n",
    "    }\n",
    "    \n",
    "    return analyzedVars['word_cnt'],analyzedVars['sentence_cnt'], analyzedVars['syllable_cnt']"
   ]
  },
  {
   "cell_type": "code",
   "execution_count": 11,
   "metadata": {},
   "outputs": [],
   "source": [
    "#Flesch Kincaid measure of readability\n",
    "\n",
    "#readability ease\n",
    "flesch_formula = lambda word_count, sent_count, syllable_count : 206.835 - 1.015*word_count/sent_count - 84.6*syllable_count/word_count\n",
    "\n",
    "def flesch(text):\n",
    "    word_count, sent_count, syllable_count = text_statistics(text)\n",
    "    #print(word_count,sent_count,syllable_count)\n",
    "    score = 0.0\n",
    "    if word_count > 0.0:\n",
    "        score = round(flesch_formula(word_count, sent_count, syllable_count))\n",
    "    return score\n",
    "\n",
    "#grade level\n",
    "fk_formula = lambda word_count, sent_count, syllable_count : 0.39 * word_count / sent_count + 11.8 * syllable_count / word_count - 15.59\n",
    "\n",
    "def flesch_kincaid(text):\n",
    "    word_count, sent_count, syllable_count = text_statistics(text)\n",
    "    score = 0.0\n",
    "    if word_count > 0.0:\n",
    "        score = round(fk_formula(word_count, sent_count, syllable_count))\n",
    "    return score"
   ]
  },
  {
   "cell_type": "code",
   "execution_count": 12,
   "metadata": {},
   "outputs": [],
   "source": [
    "def length(text):\n",
    "    word_count, sent_count, syllable_count = text_statistics(text)\n",
    "    return word_count"
   ]
  },
  {
   "cell_type": "code",
   "execution_count": null,
   "metadata": {},
   "outputs": [],
   "source": [
    "# import nltk\n",
    "# nltk.download('punkt')"
   ]
  },
  {
   "cell_type": "code",
   "execution_count": null,
   "metadata": {},
   "outputs": [],
   "source": [
    "# pd.set_option('display.max_colwidth', -1)"
   ]
  },
  {
   "cell_type": "code",
   "execution_count": null,
   "metadata": {},
   "outputs": [],
   "source": [
    "# nltk.download('stopwords')"
   ]
  },
  {
   "cell_type": "code",
   "execution_count": 13,
   "metadata": {},
   "outputs": [],
   "source": [
    "words = stopwords.words(\"english\")\n",
    "#remove punctuation for each word\n",
    "#maketrans() method returns a translation table that maps each character in the \n",
    "#intab string into the character at the same position in the outtab string\n",
    "table = str.maketrans('','', string.punctuation)"
   ]
  },
  {
   "cell_type": "code",
   "execution_count": 14,
   "metadata": {},
   "outputs": [],
   "source": [
    "from  nltk.sentiment.vader import SentimentIntensityAnalyzer as SIA\n",
    "\n",
    "# nltk.download('vader_lexicon')\n",
    "\n",
    "sia = SIA()\n",
    "\n",
    "def sentiment(text):\n",
    "    cleaned_text = \" \".join([i.translate(table) for i in text.split() if i.isalpha() if i not in words]).lower()\n",
    "    return sia.polarity_scores(cleaned_text)"
   ]
  },
  {
   "cell_type": "code",
   "execution_count": 15,
   "metadata": {},
   "outputs": [],
   "source": [
    "df_male = df_male.dropna()"
   ]
  },
  {
   "cell_type": "code",
   "execution_count": 17,
   "metadata": {},
   "outputs": [],
   "source": [
    "df_male['Sentiment'] = df_male['text'].apply(lambda x: sentiment(x))"
   ]
  },
  {
   "cell_type": "code",
   "execution_count": 18,
   "metadata": {},
   "outputs": [],
   "source": [
    "df_male['Grade_level'] = df_male['text'].apply(lambda x: flesch_kincaid(x))"
   ]
  },
  {
   "cell_type": "code",
   "execution_count": 19,
   "metadata": {},
   "outputs": [],
   "source": [
    "df_male['length'] = df_male['text'].apply(lambda x: length(x))"
   ]
  },
  {
   "cell_type": "code",
   "execution_count": 20,
   "metadata": {},
   "outputs": [],
   "source": [
    "df_male.to_csv('disclosed_male_l_s_r.csv',sep='|')"
   ]
  },
  {
   "cell_type": "code",
   "execution_count": 21,
   "metadata": {},
   "outputs": [
    {
     "data": {
      "text/html": [
       "<div>\n",
       "<style scoped>\n",
       "    .dataframe tbody tr th:only-of-type {\n",
       "        vertical-align: middle;\n",
       "    }\n",
       "\n",
       "    .dataframe tbody tr th {\n",
       "        vertical-align: top;\n",
       "    }\n",
       "\n",
       "    .dataframe thead th {\n",
       "        text-align: right;\n",
       "    }\n",
       "</style>\n",
       "<table border=\"1\" class=\"dataframe\">\n",
       "  <thead>\n",
       "    <tr style=\"text-align: right;\">\n",
       "      <th></th>\n",
       "      <th>business_id</th>\n",
       "      <th>stars</th>\n",
       "      <th>useful</th>\n",
       "      <th>text</th>\n",
       "      <th>timestamp</th>\n",
       "      <th>gender</th>\n",
       "      <th>Sentiment</th>\n",
       "      <th>Grade_level</th>\n",
       "      <th>length</th>\n",
       "    </tr>\n",
       "  </thead>\n",
       "  <tbody>\n",
       "    <tr>\n",
       "      <td>33</td>\n",
       "      <td>ujmEBvifdJM6h6RLv4wQIg</td>\n",
       "      <td>1.0</td>\n",
       "      <td>2.0</td>\n",
       "      <td>Interesting... Lisa P. has provided a canned r...</td>\n",
       "      <td>1.485610e+09</td>\n",
       "      <td>0</td>\n",
       "      <td>{'neg': 0.096, 'neu': 0.658, 'pos': 0.246, 'co...</td>\n",
       "      <td>9.0</td>\n",
       "      <td>173.0</td>\n",
       "    </tr>\n",
       "    <tr>\n",
       "      <td>34</td>\n",
       "      <td>ujmEBvifdJM6h6RLv4wQIg</td>\n",
       "      <td>2.0</td>\n",
       "      <td>1.0</td>\n",
       "      <td>I was experiencing some urological issues and ...</td>\n",
       "      <td>1.481383e+09</td>\n",
       "      <td>0</td>\n",
       "      <td>{'neg': 0.178, 'neu': 0.778, 'pos': 0.044, 'co...</td>\n",
       "      <td>7.0</td>\n",
       "      <td>149.0</td>\n",
       "    </tr>\n",
       "    <tr>\n",
       "      <td>35</td>\n",
       "      <td>nrJ_q34hhsOSyUv9nx3sqw</td>\n",
       "      <td>4.0</td>\n",
       "      <td>0.0</td>\n",
       "      <td>At first glance, this place appears to be an a...</td>\n",
       "      <td>1.423157e+09</td>\n",
       "      <td>0</td>\n",
       "      <td>{'neg': 0.041, 'neu': 0.68, 'pos': 0.279, 'com...</td>\n",
       "      <td>7.0</td>\n",
       "      <td>183.0</td>\n",
       "    </tr>\n",
       "    <tr>\n",
       "      <td>36</td>\n",
       "      <td>iIaC8f8QgaWTYoFSZYasrw</td>\n",
       "      <td>5.0</td>\n",
       "      <td>0.0</td>\n",
       "      <td>James was on time, friendly and professional. ...</td>\n",
       "      <td>1.509405e+09</td>\n",
       "      <td>0</td>\n",
       "      <td>{'neg': 0.0, 'neu': 0.68, 'pos': 0.32, 'compou...</td>\n",
       "      <td>8.0</td>\n",
       "      <td>40.0</td>\n",
       "    </tr>\n",
       "    <tr>\n",
       "      <td>37</td>\n",
       "      <td>nmTOGH5cunMweQ0uNaG52A</td>\n",
       "      <td>5.0</td>\n",
       "      <td>5.0</td>\n",
       "      <td>We had 125 sq yds of carpet installed on 4/15/...</td>\n",
       "      <td>1.430822e+09</td>\n",
       "      <td>0</td>\n",
       "      <td>{'neg': 0.055, 'neu': 0.745, 'pos': 0.2, 'comp...</td>\n",
       "      <td>8.0</td>\n",
       "      <td>282.0</td>\n",
       "    </tr>\n",
       "  </tbody>\n",
       "</table>\n",
       "</div>"
      ],
      "text/plain": [
       "               business_id  stars  useful  \\\n",
       "33  ujmEBvifdJM6h6RLv4wQIg    1.0     2.0   \n",
       "34  ujmEBvifdJM6h6RLv4wQIg    2.0     1.0   \n",
       "35  nrJ_q34hhsOSyUv9nx3sqw    4.0     0.0   \n",
       "36  iIaC8f8QgaWTYoFSZYasrw    5.0     0.0   \n",
       "37  nmTOGH5cunMweQ0uNaG52A    5.0     5.0   \n",
       "\n",
       "                                                 text     timestamp  gender  \\\n",
       "33  Interesting... Lisa P. has provided a canned r...  1.485610e+09       0   \n",
       "34  I was experiencing some urological issues and ...  1.481383e+09       0   \n",
       "35  At first glance, this place appears to be an a...  1.423157e+09       0   \n",
       "36  James was on time, friendly and professional. ...  1.509405e+09       0   \n",
       "37  We had 125 sq yds of carpet installed on 4/15/...  1.430822e+09       0   \n",
       "\n",
       "                                            Sentiment  Grade_level  length  \n",
       "33  {'neg': 0.096, 'neu': 0.658, 'pos': 0.246, 'co...          9.0   173.0  \n",
       "34  {'neg': 0.178, 'neu': 0.778, 'pos': 0.044, 'co...          7.0   149.0  \n",
       "35  {'neg': 0.041, 'neu': 0.68, 'pos': 0.279, 'com...          7.0   183.0  \n",
       "36  {'neg': 0.0, 'neu': 0.68, 'pos': 0.32, 'compou...          8.0    40.0  \n",
       "37  {'neg': 0.055, 'neu': 0.745, 'pos': 0.2, 'comp...          8.0   282.0  "
      ]
     },
     "execution_count": 21,
     "metadata": {},
     "output_type": "execute_result"
    }
   ],
   "source": [
    "df_male.head()"
   ]
  },
  {
   "cell_type": "code",
   "execution_count": 22,
   "metadata": {},
   "outputs": [
    {
     "data": {
      "text/plain": [
       "100"
      ]
     },
     "execution_count": 22,
     "metadata": {},
     "output_type": "execute_result"
    }
   ],
   "source": [
    "import gc\n",
    "del df_male\n",
    "gc.collect()\n"
   ]
  },
  {
   "cell_type": "code",
   "execution_count": 23,
   "metadata": {},
   "outputs": [
    {
     "name": "stdout",
     "output_type": "stream",
     "text": [
      "loaded dataset to memory\n",
      "calculated grade-level\n",
      "calculated length\n",
      "calculated sentiment\n"
     ]
    }
   ],
   "source": [
    "# df_female = pd.read_csv('/media/backup/Data/Amazon/amazon_female.csv', sep='|',encoding='utf8',quoting=csv.QUOTE_NONE,usecols=fields)\n",
    "df_female = df_female.dropna()\n",
    "print('loaded dataset to memory')\n",
    "df_female['Grade_level'] = df_female['text'].apply(lambda x: flesch_kincaid(x))\n",
    "print('calculated grade-level')\n",
    "df_female['length'] = df_female['text'].apply(lambda x: length(x))\n",
    "print('calculated length')\n",
    "df_female['Sentiment'] = df_female['text'].apply(lambda x: sentiment(x))\n",
    "print('calculated sentiment')"
   ]
  },
  {
   "cell_type": "code",
   "execution_count": 24,
   "metadata": {},
   "outputs": [],
   "source": [
    "df_female = df_female.dropna()"
   ]
  },
  {
   "cell_type": "code",
   "execution_count": 25,
   "metadata": {},
   "outputs": [],
   "source": [
    "if disclosed_flag:\n",
    "    df_female.to_csv('disclosed_female_l_s_r.csv',sep='|')"
   ]
  },
  {
   "cell_type": "code",
   "execution_count": 26,
   "metadata": {},
   "outputs": [
    {
     "data": {
      "text/plain": [
       "business_id    2413002\n",
       "stars          2413002\n",
       "useful         2413002\n",
       "text           2413002\n",
       "timestamp      2413002\n",
       "gender         2413002\n",
       "Grade_level    2413002\n",
       "length         2413002\n",
       "Sentiment      2413002\n",
       "dtype: int64"
      ]
     },
     "execution_count": 26,
     "metadata": {},
     "output_type": "execute_result"
    }
   ],
   "source": [
    "df_female.count()"
   ]
  },
  {
   "cell_type": "code",
   "execution_count": null,
   "metadata": {},
   "outputs": [],
   "source": []
  }
 ],
 "metadata": {
  "kernelspec": {
   "display_name": "Python 3",
   "language": "python",
   "name": "python3"
  },
  "language_info": {
   "codemirror_mode": {
    "name": "ipython",
    "version": 3
   },
   "file_extension": ".py",
   "mimetype": "text/x-python",
   "name": "python",
   "nbconvert_exporter": "python",
   "pygments_lexer": "ipython3",
   "version": "3.7.3"
  }
 },
 "nbformat": 4,
 "nbformat_minor": 2
}
