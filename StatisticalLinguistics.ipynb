{
 "cells": [
  {
   "cell_type": "code",
   "execution_count": null,
   "metadata": {},
   "outputs": [],
   "source": [
    "import pandas as pd\n",
    "import numpy as np\n",
    "import matplotlib.pyplot as plt\n",
    "import matplotlib.patches as mpatches\n",
    "from pathlib import Path\n",
    "import ast\n",
    "%matplotlib inline"
   ]
  },
  {
   "cell_type": "code",
   "execution_count": null,
   "metadata": {},
   "outputs": [],
   "source": [
    "dataset_dir = Path.cwd() / 'datasets/yelp'"
   ]
  },
  {
   "cell_type": "code",
   "execution_count": null,
   "metadata": {},
   "outputs": [],
   "source": [
    "dataset_dir = Path.cwd() / 'datasets/reddit'"
   ]
  },
  {
   "cell_type": "code",
   "execution_count": null,
   "metadata": {},
   "outputs": [],
   "source": [
    "dis_male = pd.read_csv(dataset_dir / 'disclosed_male_l_s_r.csv', sep='|', index_col=0)\n",
    "dis_male = dis_male.reset_index(drop=True)\n",
    "dis_male['Sentiment'] = dis_male.Sentiment.apply(lambda x: ast.literal_eval(x)['compound'])"
   ]
  },
  {
   "cell_type": "code",
   "execution_count": null,
   "metadata": {},
   "outputs": [],
   "source": [
    "# dis_female = pd.read_csv('disclosed_female.csv',sep='|')\n",
    "# Load disclosed female\n",
    "dis_female = pd.read_csv(dataset_dir / 'disclosed_female_l_s_r.csv', sep='|', index_col=0)\n",
    "dis_female = dis_female.reset_index(drop=True)\n",
    "dis_female['Sentiment'] = dis_female.Sentiment.apply(lambda x: ast.literal_eval(x)['compound'])"
   ]
  },
  {
   "cell_type": "code",
   "execution_count": null,
   "metadata": {},
   "outputs": [],
   "source": [
    "# undis_male = pd.read_csv('undisclosed_male.csv',sep='|')\n",
    "# Load undisclosed male\n",
    "undis_male = pd.read_csv(dataset_dir / 'undisclosed_male_l_s_r.csv', sep='|', index_col=0)\n",
    "undis_male = undis_male.reset_index(drop=True)\n",
    "# undis_male.head()\n",
    "undis_male['Sentiment'] = undis_male.Sentiment.apply(lambda x: ast.literal_eval(x)['compound'])"
   ]
  },
  {
   "cell_type": "code",
   "execution_count": null,
   "metadata": {},
   "outputs": [],
   "source": [
    "undis_female = pd.read_csv(dataset_dir / 'undisclosed_female_l_s_r.csv', sep='|', index_col=0)\n",
    "undis_female = undis_female.reset_index(drop=True)\n",
    "undis_female['Sentiment'] = undis_female.Sentiment.apply(lambda x: ast.literal_eval(x)['compound'])"
   ]
  },
  {
   "cell_type": "code",
   "execution_count": null,
   "metadata": {},
   "outputs": [],
   "source": [
    "usecols = ['Gender', 'Text', 'timestamp', 'useful', 'categories', 'Length', 'Sentiment']"
   ]
  },
  {
   "cell_type": "code",
   "execution_count": null,
   "metadata": {},
   "outputs": [],
   "source": [
    "undis_female.head()"
   ]
  },
  {
   "cell_type": "code",
   "execution_count": null,
   "metadata": {},
   "outputs": [],
   "source": [
    "# spread = np.random.rand(50) * 100\n",
    "# center = np.ones(25) * 50\n",
    "# flier_high = np.random.rand(10) * 100 + 100\n",
    "# flier_low = np.random.rand(10) * -100\n",
    "# data = np.concatenate((spread, center, flier_high, flier_low))\n",
    "descibeCols = ['useful',  'Length', 'Sentiment', 'GradeLevel']\n",
    "undis_female.describe(include=[np.number])"
   ]
  },
  {
   "cell_type": "code",
   "execution_count": null,
   "metadata": {},
   "outputs": [],
   "source": [
    "spread = np.random.rand(50) * 100\n",
    "center = np.ones(25) * 50\n",
    "flier_high = np.random.rand(10) * 100 + 100\n",
    "flier_low = np.random.rand(10) * -100\n",
    "data = np.concatenate((spread, center, flier_high, flier_low))\n",
    "print(data.shape)\n",
    "fig1, (ax1, ax2, ax3) = plt.subplots(1, 3)\n",
    "ax1.set_title('Length')\n",
    "ax1.boxplot(np.concatenate((undis_female['Length'], undis_male['Length'], dis_female['Length'], dis_female['Length'])))\n",
    "ax2.set_title('GradeLevel')\n",
    "ax2.boxplot(np.concatenate((undis_female['GradeLevel'], undis_male['GradeLevel'], dis_female['GradeLevel'], dis_female['GradeLevel'])))\n",
    "ax3.set_title('Sentiment')\n",
    "ax3.boxplot(np.concatenate((undis_female['Sentiment'], undis_male['Sentiment'], dis_female['Sentiment'], dis_female['Sentiment'])))"
   ]
  },
  {
   "cell_type": "code",
   "execution_count": null,
   "metadata": {},
   "outputs": [],
   "source": [
    "fig2, (ax21, ax22, ax23) = plt.subplots(1, 3)\n",
    "ax21.set_title('Length')\n",
    "ax21.boxplot(undis_female['Length'])\n",
    "ax22.set_title('GradeLevel')\n",
    "ax22.boxplot(undis_female['GradeLevel'])\n",
    "ax23.set_title('Sentiment')\n",
    "ax23.boxplot(undis_female['Sentiment'])"
   ]
  },
  {
   "cell_type": "code",
   "execution_count": null,
   "metadata": {},
   "outputs": [],
   "source": [
    "fig2, (ax21, ax22, ax23) = plt.subplots(1, 3)\n",
    "ax21.set_title('Length')\n",
    "ax21.boxplot(dis_female['Length'])\n",
    "ax22.set_title('GradeLevel')\n",
    "ax22.boxplot(dis_female['GradeLevel'])\n",
    "ax23.set_title('Sentiment')\n",
    "ax23.boxplot(dis_female['Sentiment'])"
   ]
  },
  {
   "cell_type": "code",
   "execution_count": null,
   "metadata": {},
   "outputs": [],
   "source": [
    "minMaxs = (undis_female.describe(include=[np.number])).loc[['max', 'min']]\n",
    "mins = minMaxs.loc[['min']]\n",
    "maxs = minMaxs.loc[['max']]\n",
    "minLength = mins.Length\n",
    "maxLength = maxs.Length\n",
    "minSentiment = mins.Sentiment\n",
    "maxSentiment = maxs.Sentiment\n",
    "minGradeLevel = mins.GradeLevel\n",
    "maxGradeLevel = maxs.GradeLevel"
   ]
  }
 ],
 "metadata": {
  "kernelspec": {
   "display_name": "Python 3",
   "language": "python",
   "name": "python3"
  },
  "language_info": {
   "codemirror_mode": {
    "name": "ipython",
    "version": 3
   },
   "file_extension": ".py",
   "mimetype": "text/x-python",
   "name": "python",
   "nbconvert_exporter": "python",
   "pygments_lexer": "ipython3",
   "version": "3.7.3"
  }
 },
 "nbformat": 4,
 "nbformat_minor": 2
}
