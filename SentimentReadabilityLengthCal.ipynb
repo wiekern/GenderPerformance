{
 "cells": [
  {
   "cell_type": "markdown",
   "metadata": {},
   "source": [
    "# Notebook for calculating sentiment, readability and length for the entire dataset covering each category"
   ]
  },
  {
   "cell_type": "code",
   "execution_count": null,
   "metadata": {},
   "outputs": [],
   "source": [
    "import pandas as pd\n",
    "import numpy as np\n",
    "import gzip\n",
    "import csv\n",
    "import string\n",
    "import math\n",
    "import nltk\n",
    "from nltk.tokenize import sent_tokenize, word_tokenize\n",
    "from nltk.corpus import cmudict\n",
    "from nltk.corpus import stopwords\n",
    "from nltk.tokenize import RegexpTokenizer\n",
    "import matplotlib.pyplot as plt\n",
    "import matplotlib.patches as mpatches\n",
    "from datetime import datetime\n",
    "from pathlib import Path\n",
    "%matplotlib inline"
   ]
  },
  {
   "cell_type": "markdown",
   "metadata": {},
   "source": [
    "# Processing disclosed and undisclosed dataset seperately, so run code below twice after one dataset finished"
   ]
  },
  {
   "cell_type": "markdown",
   "metadata": {},
   "source": [
    "# YELP"
   ]
  },
  {
   "cell_type": "code",
   "execution_count": null,
   "metadata": {},
   "outputs": [],
   "source": [
    "# set flag to handle either disclosed or undisclosed that has gender label predicted by trained model\n",
    "dataset_dir = Path.cwd() / 'datasets/yelp'\n",
    "disclosed_flag = False\n",
    "fields = ['business_id','gender','useful','text', 'stars', 'timestamp', 'categories']\n",
    "dis_raw_df = pd.read_csv(dataset_dir / 'disclosed_dataset.csv', usecols=fields)\n",
    "mapping = {'female' : 1, 'male' : 0}\n",
    "dis_raw_df.replace({'gender': mapping}, inplace=True)\n",
    "\n",
    "fields = ['business_id','Gender','useful','text', 'stars', 'timestamp', 'categories']\n",
    "undis_raw_df = pd.read_csv(dataset_dir / 'undisclosed_predicted_dataset.csv', usecols=fields)\n",
    "# undis_raw_df.rename(columns={'predicted_gender': 'Gender'}, inplace=True)\n",
    "undis_raw_df.head()"
   ]
  },
  {
   "cell_type": "markdown",
   "metadata": {},
   "source": [
    "# StackExchange"
   ]
  },
  {
   "cell_type": "code",
   "execution_count": null,
   "metadata": {},
   "outputs": [],
   "source": [
    "# set flag to handle either disclosed or undisclosed that has gender label predicted by trained model\n",
    "dataset_dir = Path.cwd() /  'datasets/stackexchange'\n",
    "fields = ['Gender', 'Score', 'Text', 'CreationDate', 'Reputation']\n",
    "dis_raw_df = pd.read_csv(dataset_dir / 'disclosed_dataset.csv', usecols=fields)\n",
    "mapping = {'female' : 1, 'male' : 0}\n",
    "dis_raw_df.replace({'Gender': mapping}, inplace=True)\n",
    "# dis_raw_df.rename(columns={ 'AnswerText': 'Text', 'CreationDate': 'Timestamp'}, inplace=True)\n",
    "dis_raw_df.rename(columns={'CreationDate': 'Timestamp'}, inplace=True)\n",
    "    \n",
    "# fields = ['PredictedGender', 'Score', 'AnswerText', 'CreationDate', 'Reputation']\n",
    "fields = ['Gender', 'Score', 'Text', 'CreationDate', 'Reputation']\n",
    "undis_raw_df = pd.read_csv(dataset_dir / 'undisclosed_predicted_dataset.csv', usecols=fields)\n",
    "undis_raw_df.rename(columns={'CreationDate': 'Timestamp'}, inplace=True)\n",
    "undis_raw_df.head()"
   ]
  },
  {
   "cell_type": "markdown",
   "metadata": {},
   "source": [
    "# Reddit"
   ]
  },
  {
   "cell_type": "code",
   "execution_count": null,
   "metadata": {},
   "outputs": [],
   "source": [
    "# set flag to handle either disclosed or undisclosed that has gender label predicted by trained model\n",
    "dataset_dir = Path.cwd() / 'datasets/reddit'\n",
    "# UserName,Text,Timestamp,Score,Categories,Gender\n",
    "fields = ['Gender', 'Score', 'Text', 'Timestamp', 'Categories']\n",
    "dis_raw_df = pd.read_csv(dataset_dir / 'disclosed_dataset.csv', usecols=fields)\n",
    "mapping = {'female' : 1, 'male' : 0}\n",
    "dis_raw_df.replace({'Gender': mapping}, inplace=True)\n",
    "    \n",
    "fields = ['Gender', 'Score', 'Text', 'Timestamp', 'Categories']\n",
    "undis_raw_df = pd.read_csv(dataset_dir / 'undisclosed_predicted_dataset.csv', usecols=fields)"
   ]
  },
  {
   "cell_type": "markdown",
   "metadata": {},
   "source": [
    "# seperate disclosed/undisclosed males and females"
   ]
  },
  {
   "cell_type": "code",
   "execution_count": null,
   "metadata": {},
   "outputs": [],
   "source": [
    "df_dict = {}\n",
    "if (dataset_dir / 'disclosed_0.csv').exists() or not (dataset_dir / 'disclosed_1.csv').exists():\n",
    "    print('disclosed 0 or 1 csv not exist')\n",
    "    dis_raw_df.rename(columns={'gender': 'Gender'}, inplace=True)\n",
    "    for i, g in dis_raw_df.groupby('Gender'):\n",
    "        i = int(i)\n",
    "        df_dict[i] = g\n",
    "        g.to_csv(dataset_dir / 'disclosed_{}.csv'.format(i), index=False)\n",
    "    dis_male_df = df_dict[0]\n",
    "    dis_female_df = df_dict[1]\n",
    "else:\n",
    "    dis_male_df = pd.read_csv(dataset_dir / 'disclosed_0.csv')\n",
    "    dis_female_df = pd.read_csv(dataset_dir / 'disclosed_1.csv')\n",
    "if not (dataset_dir / 'undisclosed_0.csv').exists() or not (dataset_dir / 'undisclosed_1.csv').exists():\n",
    "    print('undisclosed 0 or 1 csv not exist')\n",
    "    for i, g in undis_raw_df.groupby('Gender'):\n",
    "        i = int(i)\n",
    "        df_dict[i] = g\n",
    "        g.to_csv(dataset_dir / 'undisclosed_{}.csv'.format(i), index=False)\n",
    "    undis_male_df = df_dict[0]\n",
    "    undis_female_df = df_dict[1]\n",
    "else:\n",
    "    undis_male_df = pd.read_csv(dataset_dir / 'undisclosed_0.csv')\n",
    "    undis_female_df = pd.read_csv(dataset_dir / 'undisclosed_1.csv')"
   ]
  },
  {
   "cell_type": "code",
   "execution_count": null,
   "metadata": {},
   "outputs": [],
   "source": [
    "undis_female_df.head()"
   ]
  },
  {
   "cell_type": "code",
   "execution_count": null,
   "metadata": {},
   "outputs": [],
   "source": [
    "import datetime\n",
    "import time\n",
    "def date_to_timestamp(date_str):\n",
    "    if type(date_str) is str:\n",
    "        return time.mktime(datetime.datetime.strptime(date_str, '%Y-%m-%dT%H:%M:%S.%f').timetuple())\n",
    "    else:\n",
    "        return np.nan"
   ]
  },
  {
   "cell_type": "code",
   "execution_count": null,
   "metadata": {},
   "outputs": [],
   "source": [
    "undis_female_df['Timestamp'] = undis_female_df['Timestamp'].apply(lambda x: date_to_timestamp(x))\n",
    "undis_female_df.dropna(inplace=True)\n",
    "undis_male_df['Timestamp'] = undis_male_df['Timestamp'].apply(lambda x: date_to_timestamp(x))\n",
    "undis_male_df.dropna(inplace=True)\n",
    "dis_male_df['Timestamp'] = dis_male_df['Timestamp'].apply(lambda x: date_to_timestamp(x))\n",
    "dis_male_df.dropna(inplace=True)\n",
    "dis_female_df['Timestamp'] = dis_female_df['Timestamp'].apply(lambda x: date_to_timestamp(x))\n",
    "dis_female_df.dropna(inplace=True)"
   ]
  },
  {
   "cell_type": "code",
   "execution_count": null,
   "metadata": {},
   "outputs": [],
   "source": [
    "not_punctuation = lambda w: not (len(w) == 1 and (not w.isalpha()))\n",
    "get_sent_count = lambda text: len(sent_tokenize(text))"
   ]
  },
  {
   "cell_type": "code",
   "execution_count": null,
   "metadata": {},
   "outputs": [],
   "source": [
    "TOKENIZER = RegexpTokenizer('(?u)\\W+|\\$[\\d\\.]+|\\S+')\n",
    "SPECIAL_CHARS = ['.', ',', '!', '?']\n",
    "\n",
    "def get_words(text=''):\n",
    "    words = []\n",
    "    words = TOKENIZER.tokenize(text)\n",
    "    filtered_words = []\n",
    "    for word in words:\n",
    "        if word in SPECIAL_CHARS or word == \" \":\n",
    "            pass\n",
    "        else:\n",
    "            new_word = word.replace(\",\",\"\").replace(\".\",\"\")\n",
    "            new_word = new_word.replace(\"!\",\"\").replace(\"?\",\"\")\n",
    "            filtered_words.append(new_word)\n",
    "    return filtered_words"
   ]
  },
  {
   "cell_type": "markdown",
   "metadata": {},
   "source": [
    "# set download flag to download dicts, stopwords etc. once while run at first time"
   ]
  },
  {
   "cell_type": "code",
   "execution_count": null,
   "metadata": {},
   "outputs": [],
   "source": [
    "# download dicts, stopwords etc. once while run at first time\n",
    "need_download = True"
   ]
  },
  {
   "cell_type": "code",
   "execution_count": null,
   "metadata": {},
   "outputs": [],
   "source": [
    "if need_download:\n",
    "    nltk.download('cmudict')\n",
    "prondict = cmudict.dict()"
   ]
  },
  {
   "cell_type": "code",
   "execution_count": null,
   "metadata": {},
   "outputs": [],
   "source": [
    "def numsyllables(word):\n",
    "    try:\n",
    "        return [len(list(y for y in x if (y[-1]).isdigit())) for x in prondict[word.lower()]]\n",
    "    except KeyError:\n",
    "        return [0]"
   ]
  },
  {
   "cell_type": "code",
   "execution_count": null,
   "metadata": {},
   "outputs": [],
   "source": [
    "def text_statistics(text):\n",
    "    word_count = len(get_words(text))\n",
    "    sent_count = get_sent_count(text)\n",
    "    # if more than one pronunciation, take the largest no. of syllables\n",
    "    syllable_count = sum(map(lambda w: max(numsyllables(w)), word_tokenize(text)))\n",
    "    \n",
    "    analyzedVars = {\n",
    "        'word_cnt': float(word_count),\n",
    "        'sentence_cnt': float(sent_count),\n",
    "        'syllable_cnt': float(syllable_count),\n",
    "    }\n",
    "    \n",
    "    return analyzedVars['word_cnt'],analyzedVars['sentence_cnt'], analyzedVars['syllable_cnt']"
   ]
  },
  {
   "cell_type": "code",
   "execution_count": null,
   "metadata": {},
   "outputs": [],
   "source": [
    "# Flesch Kincaid measure of readability\n",
    "\n",
    "# readability ease\n",
    "flesch_formula = lambda word_count, sent_count, syllable_count: 206.835 - 1.015*word_count/sent_count - 84.6*syllable_count/word_count\n",
    "\n",
    "def flesch(text):\n",
    "    word_count, sent_count, syllable_count = text_statistics(text)\n",
    "    #print(word_count,sent_count,syllable_count)\n",
    "    score = 0.0\n",
    "    if word_count > 0.0:\n",
    "        score = round(flesch_formula(word_count, sent_count, syllable_count))\n",
    "    return score\n",
    "\n",
    "# grade level\n",
    "fk_formula = lambda word_count, sent_count, syllable_count : 0.39 * word_count / sent_count + 11.8 * syllable_count / word_count - 15.59\n",
    "\n",
    "def flesch_kincaid(text):\n",
    "    word_count, sent_count, syllable_count = text_statistics(text)\n",
    "    score = 0.0\n",
    "    if word_count > 0.0 and sent_count > 0.0:\n",
    "        score = round(fk_formula(word_count, sent_count, syllable_count))\n",
    "    return score"
   ]
  },
  {
   "cell_type": "code",
   "execution_count": null,
   "metadata": {},
   "outputs": [],
   "source": [
    "def length(text):\n",
    "    word_count, sent_count, syllable_count = text_statistics(text)\n",
    "    return word_count"
   ]
  },
  {
   "cell_type": "code",
   "execution_count": null,
   "metadata": {},
   "outputs": [],
   "source": [
    "if need_download:\n",
    "    nltk.download('stopwords')\n",
    "# nltk 'punkt'\n",
    "words = stopwords.words(\"english\")\n",
    "\n",
    "# remove punctuation for each word\n",
    "# maketrans() method returns a translation table that maps each character in the \n",
    "# intab string into the character at the same position in the outtab string\n",
    "table = str.maketrans('', '', string.punctuation)"
   ]
  },
  {
   "cell_type": "code",
   "execution_count": null,
   "metadata": {},
   "outputs": [],
   "source": [
    "from  nltk.sentiment.vader import SentimentIntensityAnalyzer as SIA\n",
    "\n",
    "if need_download:\n",
    "    nltk.download('vader_lexicon')\n",
    "sia = SIA()\n",
    "\n",
    "def sentiment(text):\n",
    "    cleaned_text = \" \".join([i.translate(table) for i in text.split() if i.isalpha() if i not in words]).lower()\n",
    "    return sia.polarity_scores(cleaned_text)"
   ]
  },
  {
   "cell_type": "code",
   "execution_count": null,
   "metadata": {},
   "outputs": [],
   "source": [
    "dis_male_df = dis_male_df.dropna()\n",
    "dis_female_df = dis_female_df.dropna()"
   ]
  },
  {
   "cell_type": "code",
   "execution_count": null,
   "metadata": {},
   "outputs": [],
   "source": [
    "dis_male_df.head()"
   ]
  },
  {
   "cell_type": "code",
   "execution_count": null,
   "metadata": {},
   "outputs": [],
   "source": [
    "if 'Text' not in dis_male_df.columns:\n",
    "    dis_male_df.rename(columns={'text': 'Text'}, inplace=True)\n",
    "    dis_female_df.rename(columns={'text': 'Text'}, inplace=True)\n",
    "\n",
    "dis_male_df['Length'] = dis_male_df['Text'].apply(lambda x: length(x))\n",
    "dis_female_df['Length'] = dis_female_df['Text'].apply(lambda x: length(x))"
   ]
  },
  {
   "cell_type": "code",
   "execution_count": null,
   "metadata": {},
   "outputs": [],
   "source": [
    "dis_male_df['Sentiment'] = dis_male_df['Text'].apply(lambda x: sentiment(x))\n",
    "dis_female_df['Sentiment'] = dis_female_df['Text'].apply(lambda x: sentiment(x))"
   ]
  },
  {
   "cell_type": "code",
   "execution_count": null,
   "metadata": {},
   "outputs": [],
   "source": [
    "dis_male_df['GradeLevel'] = dis_male_df['Text'].apply(lambda x: flesch_kincaid(x))\n",
    "dis_female_df['GradeLevel'] = dis_female_df['Text'].apply(lambda x: flesch_kincaid(x))"
   ]
  },
  {
   "cell_type": "code",
   "execution_count": null,
   "metadata": {},
   "outputs": [],
   "source": [
    "dis_male_df.to_csv(dataset_dir / 'disclosed_male_l_s_r.csv', sep='|')\n",
    "dis_female_df.to_csv(dataset_dir / 'disclosed_female_l_s_r.csv', sep='|')"
   ]
  },
  {
   "cell_type": "code",
   "execution_count": null,
   "metadata": {},
   "outputs": [],
   "source": [
    "# free memory\n",
    "import gc\n",
    "del dis_male_df\n",
    "del dis_female_df\n",
    "gc.collect()"
   ]
  },
  {
   "cell_type": "code",
   "execution_count": null,
   "metadata": {},
   "outputs": [],
   "source": [
    "undis_male_df = undis_male_df.dropna()\n",
    "undis_female_df = undis_female_df.dropna()\n",
    "undis_male_df.head()"
   ]
  },
  {
   "cell_type": "code",
   "execution_count": null,
   "metadata": {},
   "outputs": [],
   "source": [
    "undis_male_df.rename(columns={'text': 'Text'}, inplace=True)\n",
    "undis_female_df.rename(columns={'text': 'Text'}, inplace=True)\n",
    "undis_male_df['Length'] = undis_male_df['Text'].apply(lambda x: length(x))\n",
    "undis_female_df['Length'] = undis_female_df['Text'].apply(lambda x: length(x))\n",
    "undis_male_df['Sentiment'] = undis_male_df['Text'].apply(lambda x: sentiment(x))\n",
    "undis_female_df['Sentiment'] = undis_female_df['Text'].apply(lambda x: sentiment(x))\n"
   ]
  },
  {
   "cell_type": "code",
   "execution_count": null,
   "metadata": {},
   "outputs": [],
   "source": [
    "undis_male_df.head()"
   ]
  },
  {
   "cell_type": "code",
   "execution_count": null,
   "metadata": {},
   "outputs": [],
   "source": [
    "undis_male_df['GradeLevel'] = undis_male_df['Text'].apply(lambda x: flesch_kincaid(x))\n",
    "undis_female_df['GradeLevel'] = undis_female_df['Text'].apply(lambda x: flesch_kincaid(x))"
   ]
  },
  {
   "cell_type": "code",
   "execution_count": null,
   "metadata": {},
   "outputs": [],
   "source": [
    "undis_male_df.to_csv(dataset_dir / 'undisclosed_male_l_s_r.csv', sep='|')\n",
    "undis_female_df.to_csv(dataset_dir / 'undisclosed_female_l_s_r.csv', sep='|')"
   ]
  }
 ],
 "metadata": {
  "kernelspec": {
   "display_name": "Python 3",
   "language": "python",
   "name": "python3"
  },
  "language_info": {
   "codemirror_mode": {
    "name": "ipython",
    "version": 3
   },
   "file_extension": ".py",
   "mimetype": "text/x-python",
   "name": "python",
   "nbconvert_exporter": "python",
   "pygments_lexer": "ipython3",
   "version": "3.7.3"
  }
 },
 "nbformat": 4,
 "nbformat_minor": 2
}
