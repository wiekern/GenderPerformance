{
 "cells": [
  {
   "cell_type": "code",
   "execution_count": 1,
   "metadata": {},
   "outputs": [
    {
     "data": {
      "text/html": [
       "<div>\n",
       "<style scoped>\n",
       "    .dataframe tbody tr th:only-of-type {\n",
       "        vertical-align: middle;\n",
       "    }\n",
       "\n",
       "    .dataframe tbody tr th {\n",
       "        vertical-align: top;\n",
       "    }\n",
       "\n",
       "    .dataframe thead th {\n",
       "        text-align: right;\n",
       "    }\n",
       "</style>\n",
       "<table border=\"1\" class=\"dataframe\">\n",
       "  <thead>\n",
       "    <tr style=\"text-align: right;\">\n",
       "      <th></th>\n",
       "      <th>Predicted_label</th>\n",
       "      <th>ReviewerID</th>\n",
       "    </tr>\n",
       "  </thead>\n",
       "  <tbody>\n",
       "    <tr>\n",
       "      <td>0</td>\n",
       "      <td>1</td>\n",
       "      <td>E3pbB5hlBDFr8rxV2ddJYw</td>\n",
       "    </tr>\n",
       "    <tr>\n",
       "      <td>1</td>\n",
       "      <td>0</td>\n",
       "      <td>lilz49aurvOvNkCDGrSqIA</td>\n",
       "    </tr>\n",
       "    <tr>\n",
       "      <td>2</td>\n",
       "      <td>0</td>\n",
       "      <td>FGMh6kUnR_BYNCq7sgqQnw</td>\n",
       "    </tr>\n",
       "    <tr>\n",
       "      <td>3</td>\n",
       "      <td>1</td>\n",
       "      <td>wRGsi90kI0g2ModMB_4RLQ</td>\n",
       "    </tr>\n",
       "    <tr>\n",
       "      <td>4</td>\n",
       "      <td>1</td>\n",
       "      <td>Fv0e9RIV9jw5TX3ctA1WbA</td>\n",
       "    </tr>\n",
       "  </tbody>\n",
       "</table>\n",
       "</div>"
      ],
      "text/plain": [
       "   Predicted_label              ReviewerID\n",
       "0                1  E3pbB5hlBDFr8rxV2ddJYw\n",
       "1                0  lilz49aurvOvNkCDGrSqIA\n",
       "2                0  FGMh6kUnR_BYNCq7sgqQnw\n",
       "3                1  wRGsi90kI0g2ModMB_4RLQ\n",
       "4                1  Fv0e9RIV9jw5TX3ctA1WbA"
      ]
     },
     "execution_count": 1,
     "metadata": {},
     "output_type": "execute_result"
    }
   ],
   "source": [
    "import pandas as pd\n",
    "\n",
    "inference_result_df = pd.read_csv('inference_result_RNN_vanilla_2.csv', usecols=['Predicted_label', 'ReviewerID'])\n",
    "inference_result_df.head()"
   ]
  },
  {
   "cell_type": "code",
   "execution_count": 2,
   "metadata": {},
   "outputs": [
    {
     "data": {
      "text/html": [
       "<div>\n",
       "<style scoped>\n",
       "    .dataframe tbody tr th:only-of-type {\n",
       "        vertical-align: middle;\n",
       "    }\n",
       "\n",
       "    .dataframe tbody tr th {\n",
       "        vertical-align: top;\n",
       "    }\n",
       "\n",
       "    .dataframe thead th {\n",
       "        text-align: right;\n",
       "    }\n",
       "</style>\n",
       "<table border=\"1\" class=\"dataframe\">\n",
       "  <thead>\n",
       "    <tr style=\"text-align: right;\">\n",
       "      <th></th>\n",
       "      <th></th>\n",
       "      <th>Predicted_label</th>\n",
       "    </tr>\n",
       "    <tr>\n",
       "      <th>ReviewerID</th>\n",
       "      <th>Predicted_label</th>\n",
       "      <th></th>\n",
       "    </tr>\n",
       "  </thead>\n",
       "  <tbody>\n",
       "    <tr>\n",
       "      <td rowspan=\"2\" valign=\"top\">---1lKK3aKOuomHnwAkAow</td>\n",
       "      <td>1</td>\n",
       "      <td>99</td>\n",
       "    </tr>\n",
       "    <tr>\n",
       "      <td>0</td>\n",
       "      <td>29</td>\n",
       "    </tr>\n",
       "    <tr>\n",
       "      <td>---PLwSf5gKdIoVnyRHgBA</td>\n",
       "      <td>1</td>\n",
       "      <td>2</td>\n",
       "    </tr>\n",
       "    <tr>\n",
       "      <td>--0RtXvcOIE4XbErYca6Rw</td>\n",
       "      <td>0</td>\n",
       "      <td>1</td>\n",
       "    </tr>\n",
       "    <tr>\n",
       "      <td>--0VhLFv2XfEKHL0YSCSuw</td>\n",
       "      <td>1</td>\n",
       "      <td>1</td>\n",
       "    </tr>\n",
       "  </tbody>\n",
       "</table>\n",
       "</div>"
      ],
      "text/plain": [
       "                                        Predicted_label\n",
       "ReviewerID             Predicted_label                 \n",
       "---1lKK3aKOuomHnwAkAow 1                             99\n",
       "                       0                             29\n",
       "---PLwSf5gKdIoVnyRHgBA 1                              2\n",
       "--0RtXvcOIE4XbErYca6Rw 0                              1\n",
       "--0VhLFv2XfEKHL0YSCSuw 1                              1"
      ]
     },
     "execution_count": 2,
     "metadata": {},
     "output_type": "execute_result"
    }
   ],
   "source": [
    "inference_result_grouped_df = inference_result_df.groupby('ReviewerID').agg({'Predicted_label': 'value_counts'})\n",
    "inference_result_grouped_df.head()"
   ]
  },
  {
   "cell_type": "code",
   "execution_count": 3,
   "metadata": {},
   "outputs": [
    {
     "data": {
      "text/html": [
       "<div>\n",
       "<style scoped>\n",
       "    .dataframe tbody tr th:only-of-type {\n",
       "        vertical-align: middle;\n",
       "    }\n",
       "\n",
       "    .dataframe tbody tr th {\n",
       "        vertical-align: top;\n",
       "    }\n",
       "\n",
       "    .dataframe thead th {\n",
       "        text-align: right;\n",
       "    }\n",
       "</style>\n",
       "<table border=\"1\" class=\"dataframe\">\n",
       "  <thead>\n",
       "    <tr style=\"text-align: right;\">\n",
       "      <th></th>\n",
       "      <th>Predicted_label</th>\n",
       "    </tr>\n",
       "    <tr>\n",
       "      <th>ReviewerID</th>\n",
       "      <th></th>\n",
       "    </tr>\n",
       "  </thead>\n",
       "  <tbody>\n",
       "    <tr>\n",
       "      <td>---1lKK3aKOuomHnwAkAow</td>\n",
       "      <td>1</td>\n",
       "    </tr>\n",
       "    <tr>\n",
       "      <td>---PLwSf5gKdIoVnyRHgBA</td>\n",
       "      <td>1</td>\n",
       "    </tr>\n",
       "    <tr>\n",
       "      <td>--0RtXvcOIE4XbErYca6Rw</td>\n",
       "      <td>0</td>\n",
       "    </tr>\n",
       "    <tr>\n",
       "      <td>--0VhLFv2XfEKHL0YSCSuw</td>\n",
       "      <td>1</td>\n",
       "    </tr>\n",
       "    <tr>\n",
       "      <td>--2DMAd_kGHgbF88H2SLuw</td>\n",
       "      <td>1</td>\n",
       "    </tr>\n",
       "  </tbody>\n",
       "</table>\n",
       "</div>"
      ],
      "text/plain": [
       "                        Predicted_label\n",
       "ReviewerID                             \n",
       "---1lKK3aKOuomHnwAkAow                1\n",
       "---PLwSf5gKdIoVnyRHgBA                1\n",
       "--0RtXvcOIE4XbErYca6Rw                0\n",
       "--0VhLFv2XfEKHL0YSCSuw                1\n",
       "--2DMAd_kGHgbF88H2SLuw                1"
      ]
     },
     "execution_count": 3,
     "metadata": {},
     "output_type": "execute_result"
    }
   ],
   "source": [
    "majority_voting_result_ser = inference_result_df.groupby('ReviewerID').max()\n",
    "majority_voting_result_ser.head()"
   ]
  },
  {
   "cell_type": "code",
   "execution_count": 4,
   "metadata": {},
   "outputs": [],
   "source": [
    "majority_voting_result_df = pd.DataFrame(majority_voting_result_ser.Predicted_label).reset_index()"
   ]
  },
  {
   "cell_type": "code",
   "execution_count": 5,
   "metadata": {},
   "outputs": [
    {
     "data": {
      "text/html": [
       "<div>\n",
       "<style scoped>\n",
       "    .dataframe tbody tr th:only-of-type {\n",
       "        vertical-align: middle;\n",
       "    }\n",
       "\n",
       "    .dataframe tbody tr th {\n",
       "        vertical-align: top;\n",
       "    }\n",
       "\n",
       "    .dataframe thead th {\n",
       "        text-align: right;\n",
       "    }\n",
       "</style>\n",
       "<table border=\"1\" class=\"dataframe\">\n",
       "  <thead>\n",
       "    <tr style=\"text-align: right;\">\n",
       "      <th></th>\n",
       "      <th>user_id</th>\n",
       "      <th>predicted_gender</th>\n",
       "    </tr>\n",
       "  </thead>\n",
       "  <tbody>\n",
       "    <tr>\n",
       "      <td>0</td>\n",
       "      <td>---1lKK3aKOuomHnwAkAow</td>\n",
       "      <td>1</td>\n",
       "    </tr>\n",
       "    <tr>\n",
       "      <td>1</td>\n",
       "      <td>---PLwSf5gKdIoVnyRHgBA</td>\n",
       "      <td>1</td>\n",
       "    </tr>\n",
       "    <tr>\n",
       "      <td>2</td>\n",
       "      <td>--0RtXvcOIE4XbErYca6Rw</td>\n",
       "      <td>0</td>\n",
       "    </tr>\n",
       "    <tr>\n",
       "      <td>3</td>\n",
       "      <td>--0VhLFv2XfEKHL0YSCSuw</td>\n",
       "      <td>1</td>\n",
       "    </tr>\n",
       "    <tr>\n",
       "      <td>4</td>\n",
       "      <td>--2DMAd_kGHgbF88H2SLuw</td>\n",
       "      <td>1</td>\n",
       "    </tr>\n",
       "  </tbody>\n",
       "</table>\n",
       "</div>"
      ],
      "text/plain": [
       "                  user_id  predicted_gender\n",
       "0  ---1lKK3aKOuomHnwAkAow                 1\n",
       "1  ---PLwSf5gKdIoVnyRHgBA                 1\n",
       "2  --0RtXvcOIE4XbErYca6Rw                 0\n",
       "3  --0VhLFv2XfEKHL0YSCSuw                 1\n",
       "4  --2DMAd_kGHgbF88H2SLuw                 1"
      ]
     },
     "execution_count": 5,
     "metadata": {},
     "output_type": "execute_result"
    }
   ],
   "source": [
    "majority_voting_result_df.columns = ['user_id', 'predicted_gender']\n",
    "majority_voting_result_df.head()"
   ]
  },
  {
   "cell_type": "code",
   "execution_count": 6,
   "metadata": {},
   "outputs": [
    {
     "data": {
      "text/plain": [
       "1    442983\n",
       "0    154766\n",
       "Name: predicted_gender, dtype: int64"
      ]
     },
     "execution_count": 6,
     "metadata": {},
     "output_type": "execute_result"
    }
   ],
   "source": [
    "majority_voting_result_df.predicted_gender.value_counts()"
   ]
  },
  {
   "cell_type": "code",
   "execution_count": 7,
   "metadata": {},
   "outputs": [],
   "source": [
    "import pandas as pd\n",
    "\n",
    "disclosed_flag = False\n",
    "if disclosed_flag:\n",
    "    disclosed_dataset_df = pd.read_csv('disclosed_dataset.csv')\n",
    "    mapping = {'female' : 1, 'male' : 0}\n",
    "    disclosed_dataset_df.replace({'gender': mapping}, inplace=True)\n",
    "    test_df = disclosed_dataset_df.head()\n",
    "else:\n",
    "    undisclosed_csv_df = pd.read_csv('undisclosed_dataset.csv')\n",
    "    undisclosed_csv_df.head()"
   ]
  },
  {
   "cell_type": "code",
   "execution_count": null,
   "metadata": {},
   "outputs": [],
   "source": [
    "test_df = disclosed_dataset_df.iloc[1:100]"
   ]
  },
  {
   "cell_type": "code",
   "execution_count": null,
   "metadata": {},
   "outputs": [],
   "source": [
    "test_tmp = test_df.groupby('user_id').apply(lambda g: g.gender.mode())\n",
    "test_tmp.head()"
   ]
  },
  {
   "cell_type": "code",
   "execution_count": null,
   "metadata": {},
   "outputs": [],
   "source": [
    "ser = test_tmp.gender.groupby('user_id').max(level=0)\n",
    "ser"
   ]
  },
  {
   "cell_type": "code",
   "execution_count": 8,
   "metadata": {},
   "outputs": [],
   "source": [
    "merged_df = pd.merge(majority_voting_result_df, undisclosed_csv_df, on='user_id', how='outer')"
   ]
  },
  {
   "cell_type": "code",
   "execution_count": 9,
   "metadata": {},
   "outputs": [
    {
     "data": {
      "text/plain": [
       "bLbSNkLggFnqwNNzzq-Ijw    2354\n",
       "PKEzKWv_FktMm2mGPjwd0Q    1822\n",
       "QJI9OSEn6ujRCtrX06vs1w    1496\n",
       "YRcaNlwQ6XXPFDXWtuMGdA    1234\n",
       "dIIKEfOgo0KqUfGQvGikPg    1198\n",
       "                          ... \n",
       "aCp1HRfU6Y0ZGGUCRZLHWQ       1\n",
       "GIXFXQcY4VdtCgrpoRci2g       1\n",
       "gFehGlbM4iAyDIJ1DjQO0g       1\n",
       "FV7UOdJjG-Mj-YSDrVBVpg       1\n",
       "NickymmL-exBN-rUvfeyRw       1\n",
       "Name: user_id, Length: 597765, dtype: int64"
      ]
     },
     "execution_count": 9,
     "metadata": {},
     "output_type": "execute_result"
    }
   ],
   "source": [
    "# majority_voting_result_df.count\n",
    "undisclosed_csv_df.user_id.value_counts()"
   ]
  },
  {
   "cell_type": "code",
   "execution_count": 10,
   "metadata": {},
   "outputs": [
    {
     "data": {
      "text/plain": [
       "review_id        2416933\n",
       "user_id          2416933\n",
       "business_id      2416936\n",
       "stars            2416933\n",
       "date             2416933\n",
       "useful           2416933\n",
       "text             2416933\n",
       "business_name    2416933\n",
       "user_name        2416933\n",
       "timestamp        2416933\n",
       "categories       2416179\n",
       "gender           2416936\n",
       "dtype: int64"
      ]
     },
     "execution_count": 10,
     "metadata": {},
     "output_type": "execute_result"
    }
   ],
   "source": [
    "undisclosed_csv_df.count()"
   ]
  },
  {
   "cell_type": "code",
   "execution_count": 11,
   "metadata": {},
   "outputs": [
    {
     "data": {
      "text/plain": [
       "user_id             597749\n",
       "predicted_gender    597749\n",
       "dtype: int64"
      ]
     },
     "execution_count": 11,
     "metadata": {},
     "output_type": "execute_result"
    }
   ],
   "source": [
    "majority_voting_result_df.count()"
   ]
  },
  {
   "cell_type": "code",
   "execution_count": 12,
   "metadata": {},
   "outputs": [
    {
     "data": {
      "text/plain": [
       "Predicted_label    770289\n",
       "dtype: int64"
      ]
     },
     "execution_count": 12,
     "metadata": {},
     "output_type": "execute_result"
    }
   ],
   "source": [
    "inference_result_grouped_df.count()"
   ]
  },
  {
   "cell_type": "code",
   "execution_count": 13,
   "metadata": {},
   "outputs": [
    {
     "data": {
      "text/plain": [
       "user_id             2416933\n",
       "predicted_gender    2416916\n",
       "review_id           2416933\n",
       "business_id         2416936\n",
       "stars               2416933\n",
       "date                2416933\n",
       "useful              2416933\n",
       "text                2416933\n",
       "business_name       2416933\n",
       "user_name           2416933\n",
       "timestamp           2416933\n",
       "categories          2416179\n",
       "gender              2416936\n",
       "dtype: int64"
      ]
     },
     "execution_count": 13,
     "metadata": {},
     "output_type": "execute_result"
    }
   ],
   "source": [
    "merged_df.count()"
   ]
  },
  {
   "cell_type": "code",
   "execution_count": 14,
   "metadata": {},
   "outputs": [
    {
     "data": {
      "text/plain": [
       "user_id             2416159\n",
       "predicted_gender    2416159\n",
       "review_id           2416159\n",
       "business_id         2416159\n",
       "stars               2416159\n",
       "date                2416159\n",
       "useful              2416159\n",
       "text                2416159\n",
       "business_name       2416159\n",
       "user_name           2416159\n",
       "timestamp           2416159\n",
       "categories          2416159\n",
       "gender              2416159\n",
       "dtype: int64"
      ]
     },
     "execution_count": 14,
     "metadata": {},
     "output_type": "execute_result"
    }
   ],
   "source": [
    "merged_dropna_df = merged_df.dropna()\n",
    "merged_dropna_df.count()"
   ]
  },
  {
   "cell_type": "code",
   "execution_count": 15,
   "metadata": {},
   "outputs": [
    {
     "data": {
      "text/html": [
       "<div>\n",
       "<style scoped>\n",
       "    .dataframe tbody tr th:only-of-type {\n",
       "        vertical-align: middle;\n",
       "    }\n",
       "\n",
       "    .dataframe tbody tr th {\n",
       "        vertical-align: top;\n",
       "    }\n",
       "\n",
       "    .dataframe thead th {\n",
       "        text-align: right;\n",
       "    }\n",
       "</style>\n",
       "<table border=\"1\" class=\"dataframe\">\n",
       "  <thead>\n",
       "    <tr style=\"text-align: right;\">\n",
       "      <th></th>\n",
       "      <th>user_id</th>\n",
       "      <th>predicted_gender</th>\n",
       "      <th>review_id</th>\n",
       "      <th>business_id</th>\n",
       "      <th>stars</th>\n",
       "      <th>date</th>\n",
       "      <th>useful</th>\n",
       "      <th>text</th>\n",
       "      <th>business_name</th>\n",
       "      <th>user_name</th>\n",
       "      <th>timestamp</th>\n",
       "      <th>categories</th>\n",
       "      <th>gender</th>\n",
       "    </tr>\n",
       "  </thead>\n",
       "  <tbody>\n",
       "    <tr>\n",
       "      <td>0</td>\n",
       "      <td>---1lKK3aKOuomHnwAkAow</td>\n",
       "      <td>1.0</td>\n",
       "      <td>wEJK2PeiS6Au0TOyxTyqUA</td>\n",
       "      <td>Hqs4YNST_ZHbshwyi4bnsQ</td>\n",
       "      <td>5.0</td>\n",
       "      <td>2018-10-11 23:29:57</td>\n",
       "      <td>0.0</td>\n",
       "      <td>The customer service of the owner made me give...</td>\n",
       "      <td>Old School Pizzeria</td>\n",
       "      <td>Monera</td>\n",
       "      <td>1.539293e+09</td>\n",
       "      <td>Restaurants, Pizza, American (Traditional), It...</td>\n",
       "      <td>unknown</td>\n",
       "    </tr>\n",
       "    <tr>\n",
       "      <td>1</td>\n",
       "      <td>---1lKK3aKOuomHnwAkAow</td>\n",
       "      <td>1.0</td>\n",
       "      <td>G2cGRh-mbojvqDl36YkodA</td>\n",
       "      <td>Hqs4YNST_ZHbshwyi4bnsQ</td>\n",
       "      <td>1.0</td>\n",
       "      <td>2018-10-07 15:21:55</td>\n",
       "      <td>0.0</td>\n",
       "      <td>I used to drive from summerlin to go here beca...</td>\n",
       "      <td>Old School Pizzeria</td>\n",
       "      <td>Monera</td>\n",
       "      <td>1.538919e+09</td>\n",
       "      <td>Restaurants, Pizza, American (Traditional), It...</td>\n",
       "      <td>unknown</td>\n",
       "    </tr>\n",
       "    <tr>\n",
       "      <td>2</td>\n",
       "      <td>---1lKK3aKOuomHnwAkAow</td>\n",
       "      <td>1.0</td>\n",
       "      <td>-pk4s5YUD0grEEBt2QYlDA</td>\n",
       "      <td>bPcqucuuClxYrIM8xWoArg</td>\n",
       "      <td>5.0</td>\n",
       "      <td>2011-09-29 20:17:08</td>\n",
       "      <td>4.0</td>\n",
       "      <td>Did anyone mention bacon chocolate ice cream. ...</td>\n",
       "      <td>Due Forni</td>\n",
       "      <td>Monera</td>\n",
       "      <td>1.317320e+09</td>\n",
       "      <td>Nightlife, Bars, Italian, Pizza, Wine Bars, Re...</td>\n",
       "      <td>unknown</td>\n",
       "    </tr>\n",
       "    <tr>\n",
       "      <td>3</td>\n",
       "      <td>---1lKK3aKOuomHnwAkAow</td>\n",
       "      <td>1.0</td>\n",
       "      <td>2AXKTUbIkwuP8wcvzSt7Tg</td>\n",
       "      <td>hubbaEcYPYEZu5Ziz6i0lw</td>\n",
       "      <td>4.0</td>\n",
       "      <td>2011-05-01 15:55:00</td>\n",
       "      <td>1.0</td>\n",
       "      <td>I like the Lamb Tandoori dish they do a lot. I...</td>\n",
       "      <td>Mantra Masala</td>\n",
       "      <td>Monera</td>\n",
       "      <td>1.304258e+09</td>\n",
       "      <td>Restaurants, Pakistani, Indian</td>\n",
       "      <td>unknown</td>\n",
       "    </tr>\n",
       "    <tr>\n",
       "      <td>4</td>\n",
       "      <td>---1lKK3aKOuomHnwAkAow</td>\n",
       "      <td>1.0</td>\n",
       "      <td>3R2e-knpN5lCHu2LVk6hsQ</td>\n",
       "      <td>5aeR9KcboZmhDZlFscnYRA</td>\n",
       "      <td>5.0</td>\n",
       "      <td>2013-01-16 01:28:18</td>\n",
       "      <td>1.0</td>\n",
       "      <td>So Fresh Mama let us host a Homeschool Board G...</td>\n",
       "      <td>Fresh Mama</td>\n",
       "      <td>Monera</td>\n",
       "      <td>1.358296e+09</td>\n",
       "      <td>Food, Restaurants, Internet Cafes, Juice Bars ...</td>\n",
       "      <td>unknown</td>\n",
       "    </tr>\n",
       "  </tbody>\n",
       "</table>\n",
       "</div>"
      ],
      "text/plain": [
       "                  user_id  predicted_gender               review_id  \\\n",
       "0  ---1lKK3aKOuomHnwAkAow               1.0  wEJK2PeiS6Au0TOyxTyqUA   \n",
       "1  ---1lKK3aKOuomHnwAkAow               1.0  G2cGRh-mbojvqDl36YkodA   \n",
       "2  ---1lKK3aKOuomHnwAkAow               1.0  -pk4s5YUD0grEEBt2QYlDA   \n",
       "3  ---1lKK3aKOuomHnwAkAow               1.0  2AXKTUbIkwuP8wcvzSt7Tg   \n",
       "4  ---1lKK3aKOuomHnwAkAow               1.0  3R2e-knpN5lCHu2LVk6hsQ   \n",
       "\n",
       "              business_id  stars                 date  useful  \\\n",
       "0  Hqs4YNST_ZHbshwyi4bnsQ    5.0  2018-10-11 23:29:57     0.0   \n",
       "1  Hqs4YNST_ZHbshwyi4bnsQ    1.0  2018-10-07 15:21:55     0.0   \n",
       "2  bPcqucuuClxYrIM8xWoArg    5.0  2011-09-29 20:17:08     4.0   \n",
       "3  hubbaEcYPYEZu5Ziz6i0lw    4.0  2011-05-01 15:55:00     1.0   \n",
       "4  5aeR9KcboZmhDZlFscnYRA    5.0  2013-01-16 01:28:18     1.0   \n",
       "\n",
       "                                                text        business_name  \\\n",
       "0  The customer service of the owner made me give...  Old School Pizzeria   \n",
       "1  I used to drive from summerlin to go here beca...  Old School Pizzeria   \n",
       "2  Did anyone mention bacon chocolate ice cream. ...            Due Forni   \n",
       "3  I like the Lamb Tandoori dish they do a lot. I...        Mantra Masala   \n",
       "4  So Fresh Mama let us host a Homeschool Board G...           Fresh Mama   \n",
       "\n",
       "  user_name     timestamp                                         categories  \\\n",
       "0    Monera  1.539293e+09  Restaurants, Pizza, American (Traditional), It...   \n",
       "1    Monera  1.538919e+09  Restaurants, Pizza, American (Traditional), It...   \n",
       "2    Monera  1.317320e+09  Nightlife, Bars, Italian, Pizza, Wine Bars, Re...   \n",
       "3    Monera  1.304258e+09                     Restaurants, Pakistani, Indian   \n",
       "4    Monera  1.358296e+09  Food, Restaurants, Internet Cafes, Juice Bars ...   \n",
       "\n",
       "    gender  \n",
       "0  unknown  \n",
       "1  unknown  \n",
       "2  unknown  \n",
       "3  unknown  \n",
       "4  unknown  "
      ]
     },
     "execution_count": 15,
     "metadata": {},
     "output_type": "execute_result"
    }
   ],
   "source": [
    "merged_dropna_df.head()"
   ]
  },
  {
   "cell_type": "code",
   "execution_count": 17,
   "metadata": {},
   "outputs": [],
   "source": [
    "\n",
    "# fields = ['business_id','predicted_gender','useful','text', 'stars', 'timestamp']\n",
    "# merged_dropna_df = merged_dropna_df[fields]\n",
    "# merged_dropna_df.rename(columns={'predicted_gender': 'gender'})\n",
    "merged_dropna_df.to_csv('undisclosed_predicted_dataset.csv', index=False)"
   ]
  },
  {
   "cell_type": "code",
   "execution_count": null,
   "metadata": {},
   "outputs": [],
   "source": [
    "fields = ['business_id','predicted_gender','useful','text', 'stars', 'timestamp']\n",
    "df_male = merged_dropna_df[fields]\n",
    "df_male.head()"
   ]
  },
  {
   "cell_type": "code",
   "execution_count": null,
   "metadata": {},
   "outputs": [],
   "source": []
  }
 ],
 "metadata": {
  "kernelspec": {
   "display_name": "Python 3",
   "language": "python",
   "name": "python3"
  },
  "language_info": {
   "codemirror_mode": {
    "name": "ipython",
    "version": 3
   },
   "file_extension": ".py",
   "mimetype": "text/x-python",
   "name": "python",
   "nbconvert_exporter": "python",
   "pygments_lexer": "ipython3",
   "version": "3.7.3"
  }
 },
 "nbformat": 4,
 "nbformat_minor": 2
}
