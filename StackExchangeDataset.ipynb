{
 "cells": [
  {
   "cell_type": "code",
   "execution_count": 1,
   "metadata": {},
   "outputs": [],
   "source": [
    "import csv\n",
    "import pandas as pd\n",
    "import string\n",
    "# import requests\n",
    "from xml.dom import minidom\n",
    "import nltk\n",
    "from bs4 import BeautifulSoup"
   ]
  },
  {
   "cell_type": "code",
   "execution_count": 2,
   "metadata": {},
   "outputs": [],
   "source": [
    "import xml.etree.ElementTree as ET\n",
    "\n",
    "def xml2df(path):\n",
    "    tree = ET.parse(path)\n",
    "    root = tree.getroot()\n",
    "    data=[]\n",
    "    for child in root:\n",
    "        #print(child.attrib)\n",
    "        #df = pd.Series(child.attrib).to_frame()\n",
    "        data.append(child.attrib)\n",
    "    df = pd.DataFrame(data)\n",
    "    return df"
   ]
  },
  {
   "cell_type": "code",
   "execution_count": null,
   "metadata": {},
   "outputs": [],
   "source": [
    "# Posts.xml \n",
    "# PostTypeId = 1 Qeustion, Id: QuestionId, Tags: Category, OwnerUserId: AskerId(UserId), Tags: Category,\n",
    "# PostTypeId = 2 Answer, Id: AnswerId, ParentId： QuestionId, Score: Helpfulness, CreationDate: Timestamp, \n",
    "# OwnerUserId: AnswererId(UserId)\n",
    "# Users.xml Reputation: Reputation, DsiplayName: Username, Id: UserId\n",
    "# Tags.xml TagName: Category"
   ]
  },
  {
   "cell_type": "code",
   "execution_count": 54,
   "metadata": {},
   "outputs": [],
   "source": [
    "from pathlib import Path\n",
    "abs_data_dir = Path.cwd() / 'csv_files/stackexchange/content'\n",
    "dataset_dir = Path.cwd() / 'csv_files/stackexchange'\n",
    "\n",
    "\n",
    "def create_data(category):\n",
    "    df_post= xml2df(abs_data_dir / 'Posts.xml')\n",
    "    df_user= xml2df(abs_data_dir / 'Users.xml')\n",
    "    \n",
    "    print(\"Posts: \",df_post.shape)\n",
    "    df_post = df_post[['OwnerUserId', 'Body', 'PostTypeId', 'CreationDate', 'Score']]\n",
    "    df_post = df_post[df_post['PostTypeId'].apply(lambda x: x == '2')]\n",
    "    df_post.rename(columns={'OwnerUserId': 'UserId'}, inplace=True)\n",
    "\n",
    "    print(\"Users: \", df_user.shape)\n",
    "    df_user = df_user[['Id', 'DisplayName', 'Reputation']]\n",
    "    df_user.rename(columns={'Id': 'UserId'}, inplace=True)\n",
    "    data = pd.merge(df_post, df_user, on='UserId', how='left')\n",
    "    data.dropna(inplace=True)\n",
    "    print(\"Combined frame shape\", data.shape)\n",
    "#     data.drop(['UserId'], axis=1, inplace=True)\n",
    "    data.rename(columns={'DisplayName':'Name', 'Body': 'AnswerText'}, inplace=True)\n",
    "#     data = data.reindex(columns=['Name', 'AnswerText'])\n",
    "\n",
    "    data['AnswerText'] = data['AnswerText'].apply(lambda x: BeautifulSoup(x, 'html.parser').get_text().replace('|', '').lower())\n",
    "    data['AnswerText'] = data['AnswerText'].apply(lambda x: \" \".join(x.split()))\n",
    "#     soup = BeautifulSoup(data.at[0,'Post'], 'html.parser')\n",
    "#     print(soup.get_text())\n",
    "    data.to_csv(dataset_dir /  (category + \".csv\"), sep='|', encoding='utf-8', header=False, index=False, na_rep=string)\n",
    "    print(\"Write complete for post: \", category)\n",
    "    return data"
   ]
  },
  {
   "cell_type": "code",
   "execution_count": 55,
   "metadata": {
    "scrolled": true
   },
   "outputs": [
    {
     "name": "stdout",
     "output_type": "stream",
     "text": [
      "Posts:  (70437, 21)\n",
      "Users:  (89061, 13)\n",
      "Combined frame shape (37518, 7)\n",
      "Write complete for post:  cs_stackoverflow_dataset\n"
     ]
    }
   ],
   "source": [
    "df = create_data('cs_stackoverflow_dataset')"
   ]
  },
  {
   "cell_type": "code",
   "execution_count": 56,
   "metadata": {},
   "outputs": [
    {
     "data": {
      "text/html": [
       "<div>\n",
       "<style scoped>\n",
       "    .dataframe tbody tr th:only-of-type {\n",
       "        vertical-align: middle;\n",
       "    }\n",
       "\n",
       "    .dataframe tbody tr th {\n",
       "        vertical-align: top;\n",
       "    }\n",
       "\n",
       "    .dataframe thead th {\n",
       "        text-align: right;\n",
       "    }\n",
       "</style>\n",
       "<table border=\"1\" class=\"dataframe\">\n",
       "  <thead>\n",
       "    <tr style=\"text-align: right;\">\n",
       "      <th></th>\n",
       "      <th>UserId</th>\n",
       "      <th>AnswerText</th>\n",
       "      <th>PostTypeId</th>\n",
       "      <th>CreationDate</th>\n",
       "      <th>Score</th>\n",
       "      <th>Name</th>\n",
       "      <th>Reputation</th>\n",
       "    </tr>\n",
       "  </thead>\n",
       "  <tbody>\n",
       "    <tr>\n",
       "      <th>0</th>\n",
       "      <td>41</td>\n",
       "      <td>in comparison to other comparison-based sortin...</td>\n",
       "      <td>2</td>\n",
       "      <td>2012-03-06T19:19:20.237</td>\n",
       "      <td>20</td>\n",
       "      <td>Kaveh</td>\n",
       "      <td>18213</td>\n",
       "    </tr>\n",
       "    <tr>\n",
       "      <th>1</th>\n",
       "      <td>44</td>\n",
       "      <td>assuming you are storing a reference, not the ...</td>\n",
       "      <td>2</td>\n",
       "      <td>2012-03-06T19:44:17.600</td>\n",
       "      <td>8</td>\n",
       "      <td>Rafe Kettler</td>\n",
       "      <td>181</td>\n",
       "    </tr>\n",
       "    <tr>\n",
       "      <th>2</th>\n",
       "      <td>29</td>\n",
       "      <td>i think one of the main reasons why quicksort ...</td>\n",
       "      <td>2</td>\n",
       "      <td>2012-03-06T19:48:00.343</td>\n",
       "      <td>34</td>\n",
       "      <td>svick</td>\n",
       "      <td>1726</td>\n",
       "    </tr>\n",
       "    <tr>\n",
       "      <th>3</th>\n",
       "      <td>43</td>\n",
       "      <td>in a truly \"cooperative\" setting, and if there...</td>\n",
       "      <td>2</td>\n",
       "      <td>2012-03-06T19:54:59.633</td>\n",
       "      <td>15</td>\n",
       "      <td>Carl Mummert</td>\n",
       "      <td>1913</td>\n",
       "    </tr>\n",
       "    <tr>\n",
       "      <th>5</th>\n",
       "      <td>22</td>\n",
       "      <td>even though quick-sort has a worst case run ti...</td>\n",
       "      <td>2</td>\n",
       "      <td>2012-03-06T20:18:27.510</td>\n",
       "      <td>16</td>\n",
       "      <td>0x0</td>\n",
       "      <td>565</td>\n",
       "    </tr>\n",
       "  </tbody>\n",
       "</table>\n",
       "</div>"
      ],
      "text/plain": [
       "  UserId                                         AnswerText PostTypeId  \\\n",
       "0     41  in comparison to other comparison-based sortin...          2   \n",
       "1     44  assuming you are storing a reference, not the ...          2   \n",
       "2     29  i think one of the main reasons why quicksort ...          2   \n",
       "3     43  in a truly \"cooperative\" setting, and if there...          2   \n",
       "5     22  even though quick-sort has a worst case run ti...          2   \n",
       "\n",
       "              CreationDate Score          Name Reputation  \n",
       "0  2012-03-06T19:19:20.237    20         Kaveh      18213  \n",
       "1  2012-03-06T19:44:17.600     8  Rafe Kettler        181  \n",
       "2  2012-03-06T19:48:00.343    34         svick       1726  \n",
       "3  2012-03-06T19:54:59.633    15  Carl Mummert       1913  \n",
       "5  2012-03-06T20:18:27.510    16           0x0        565  "
      ]
     },
     "execution_count": 56,
     "metadata": {},
     "output_type": "execute_result"
    }
   ],
   "source": [
    "df.head()"
   ]
  },
  {
   "cell_type": "code",
   "execution_count": 57,
   "metadata": {},
   "outputs": [
    {
     "data": {
      "text/plain": [
       "(37518, 7)"
      ]
     },
     "execution_count": 57,
     "metadata": {},
     "output_type": "execute_result"
    }
   ],
   "source": [
    "df.shape"
   ]
  },
  {
   "cell_type": "code",
   "execution_count": 58,
   "metadata": {},
   "outputs": [],
   "source": [
    "#UnicodeEncodeError: 'utf-8' codec can't encode character '\\udbff' in position 789: surrogates not allowed"
   ]
  },
  {
   "cell_type": "code",
   "execution_count": 59,
   "metadata": {},
   "outputs": [],
   "source": [
    "def cleanser(text):\n",
    "    post = ''\n",
    "    try:\n",
    "        post = text.encode(\"utf-8\")\n",
    "    except UnicodeEncodeError as e:\n",
    "        if e.reason == 'surrogates not allowed':\n",
    "            post =  text.encode('utf-8', \"backslashreplace\").decode('utf-8')\n",
    "    \n",
    "    return post"
   ]
  },
  {
   "cell_type": "code",
   "execution_count": 61,
   "metadata": {},
   "outputs": [],
   "source": [
    "df['AnswerText'] = df['AnswerText'].apply(lambda x: cleanser(x))"
   ]
  },
  {
   "cell_type": "code",
   "execution_count": 62,
   "metadata": {},
   "outputs": [
    {
     "data": {
      "text/plain": [
       "(37518, 7)"
      ]
     },
     "execution_count": 62,
     "metadata": {},
     "output_type": "execute_result"
    }
   ],
   "source": [
    "df.shape"
   ]
  },
  {
   "cell_type": "code",
   "execution_count": 11,
   "metadata": {},
   "outputs": [
    {
     "name": "stdout",
     "output_type": "stream",
     "text": [
      "i love this\n",
      "i love this\n"
     ]
    }
   ],
   "source": [
    "# x= \"i love this\"\n",
    "# print(x.encode('utf-8').decode('utf-8'))\n",
    "# print(x)"
   ]
  },
  {
   "cell_type": "code",
   "execution_count": 14,
   "metadata": {},
   "outputs": [
    {
     "data": {
      "text/html": [
       "<div>\n",
       "<style scoped>\n",
       "    .dataframe tbody tr th:only-of-type {\n",
       "        vertical-align: middle;\n",
       "    }\n",
       "\n",
       "    .dataframe tbody tr th {\n",
       "        vertical-align: top;\n",
       "    }\n",
       "\n",
       "    .dataframe thead th {\n",
       "        text-align: right;\n",
       "    }\n",
       "</style>\n",
       "<table border=\"1\" class=\"dataframe\">\n",
       "  <thead>\n",
       "    <tr style=\"text-align: right;\">\n",
       "      <th></th>\n",
       "      <th>Name</th>\n",
       "      <th>Post</th>\n",
       "    </tr>\n",
       "  </thead>\n",
       "  <tbody>\n",
       "    <tr>\n",
       "      <th>0</th>\n",
       "      <td>Eggs McLaren</td>\n",
       "      <td>b\"i want to use a track-bar to change a form's...</td>\n",
       "    </tr>\n",
       "    <tr>\n",
       "      <th>1</th>\n",
       "      <td>Kevin Dente</td>\n",
       "      <td>b\"i have an absolutely positioned div containi...</td>\n",
       "    </tr>\n",
       "    <tr>\n",
       "      <th>2</th>\n",
       "      <td>Kevin Dente</td>\n",
       "      <td>b\"an explicit cast to double like this isn't n...</td>\n",
       "    </tr>\n",
       "    <tr>\n",
       "      <th>3</th>\n",
       "      <td>Jeff Atwood</td>\n",
       "      <td>b\"given a datetime representing a person's bir...</td>\n",
       "    </tr>\n",
       "    <tr>\n",
       "      <th>4</th>\n",
       "      <td>Jeff Atwood</td>\n",
       "      <td>b'given a specific datetime value, how do i di...</td>\n",
       "    </tr>\n",
       "  </tbody>\n",
       "</table>\n",
       "</div>"
      ],
      "text/plain": [
       "           Name                                               Post\n",
       "0  Eggs McLaren  b\"i want to use a track-bar to change a form's...\n",
       "1   Kevin Dente  b\"i have an absolutely positioned div containi...\n",
       "2   Kevin Dente  b\"an explicit cast to double like this isn't n...\n",
       "3   Jeff Atwood  b\"given a datetime representing a person's bir...\n",
       "4   Jeff Atwood  b'given a specific datetime value, how do i di..."
      ]
     },
     "execution_count": 14,
     "metadata": {},
     "output_type": "execute_result"
    }
   ],
   "source": [
    "df.head()"
   ]
  },
  {
   "cell_type": "code",
   "execution_count": 63,
   "metadata": {},
   "outputs": [],
   "source": [
    "df.to_csv(dataset_dir / 'so_train_full_data.csv' , sep='|', header=False, index=False, na_rep=string)"
   ]
  },
  {
   "cell_type": "code",
   "execution_count": 72,
   "metadata": {},
   "outputs": [],
   "source": [
    "def clean(text):\n",
    "    post =''\n",
    "    try:\n",
    "        post = text.decode('utf-8')\n",
    "    except AttributeError:\n",
    "        post =  text\n",
    "    return post"
   ]
  },
  {
   "cell_type": "code",
   "execution_count": 73,
   "metadata": {},
   "outputs": [],
   "source": [
    "df['AnswerText'] = df['AnswerText'].apply(lambda x: clean(x))"
   ]
  },
  {
   "cell_type": "code",
   "execution_count": 74,
   "metadata": {},
   "outputs": [
    {
     "data": {
      "text/html": [
       "<div>\n",
       "<style scoped>\n",
       "    .dataframe tbody tr th:only-of-type {\n",
       "        vertical-align: middle;\n",
       "    }\n",
       "\n",
       "    .dataframe tbody tr th {\n",
       "        vertical-align: top;\n",
       "    }\n",
       "\n",
       "    .dataframe thead th {\n",
       "        text-align: right;\n",
       "    }\n",
       "</style>\n",
       "<table border=\"1\" class=\"dataframe\">\n",
       "  <thead>\n",
       "    <tr style=\"text-align: right;\">\n",
       "      <th></th>\n",
       "      <th>UserId</th>\n",
       "      <th>AnswerText</th>\n",
       "      <th>PostTypeId</th>\n",
       "      <th>CreationDate</th>\n",
       "      <th>Score</th>\n",
       "      <th>Name</th>\n",
       "      <th>Reputation</th>\n",
       "      <th>Gender</th>\n",
       "    </tr>\n",
       "  </thead>\n",
       "  <tbody>\n",
       "    <tr>\n",
       "      <th>0</th>\n",
       "      <td>41</td>\n",
       "      <td>in comparison to other comparison-based sortin...</td>\n",
       "      <td>2</td>\n",
       "      <td>2012-03-06T19:19:20.237</td>\n",
       "      <td>20</td>\n",
       "      <td>Kaveh</td>\n",
       "      <td>18213</td>\n",
       "      <td>andy</td>\n",
       "    </tr>\n",
       "    <tr>\n",
       "      <th>1</th>\n",
       "      <td>44</td>\n",
       "      <td>assuming you are storing a reference, not the ...</td>\n",
       "      <td>2</td>\n",
       "      <td>2012-03-06T19:44:17.600</td>\n",
       "      <td>8</td>\n",
       "      <td>Rafe Kettler</td>\n",
       "      <td>181</td>\n",
       "      <td>unknown</td>\n",
       "    </tr>\n",
       "    <tr>\n",
       "      <th>2</th>\n",
       "      <td>29</td>\n",
       "      <td>i think one of the main reasons why quicksort ...</td>\n",
       "      <td>2</td>\n",
       "      <td>2012-03-06T19:48:00.343</td>\n",
       "      <td>34</td>\n",
       "      <td>svick</td>\n",
       "      <td>1726</td>\n",
       "      <td>unknown</td>\n",
       "    </tr>\n",
       "    <tr>\n",
       "      <th>3</th>\n",
       "      <td>43</td>\n",
       "      <td>in a truly \"cooperative\" setting, and if there...</td>\n",
       "      <td>2</td>\n",
       "      <td>2012-03-06T19:54:59.633</td>\n",
       "      <td>15</td>\n",
       "      <td>Carl Mummert</td>\n",
       "      <td>1913</td>\n",
       "      <td>female</td>\n",
       "    </tr>\n",
       "    <tr>\n",
       "      <th>5</th>\n",
       "      <td>22</td>\n",
       "      <td>even though quick-sort has a worst case run ti...</td>\n",
       "      <td>2</td>\n",
       "      <td>2012-03-06T20:18:27.510</td>\n",
       "      <td>16</td>\n",
       "      <td>0x0</td>\n",
       "      <td>565</td>\n",
       "      <td>unknown</td>\n",
       "    </tr>\n",
       "  </tbody>\n",
       "</table>\n",
       "</div>"
      ],
      "text/plain": [
       "  UserId                                         AnswerText PostTypeId  \\\n",
       "0     41  in comparison to other comparison-based sortin...          2   \n",
       "1     44  assuming you are storing a reference, not the ...          2   \n",
       "2     29  i think one of the main reasons why quicksort ...          2   \n",
       "3     43  in a truly \"cooperative\" setting, and if there...          2   \n",
       "5     22  even though quick-sort has a worst case run ti...          2   \n",
       "\n",
       "              CreationDate Score          Name Reputation   Gender  \n",
       "0  2012-03-06T19:19:20.237    20         Kaveh      18213     andy  \n",
       "1  2012-03-06T19:44:17.600     8  Rafe Kettler        181  unknown  \n",
       "2  2012-03-06T19:48:00.343    34         svick       1726  unknown  \n",
       "3  2012-03-06T19:54:59.633    15  Carl Mummert       1913   female  \n",
       "5  2012-03-06T20:18:27.510    16           0x0        565  unknown  "
      ]
     },
     "execution_count": 74,
     "metadata": {},
     "output_type": "execute_result"
    }
   ],
   "source": [
    "df.head()"
   ]
  },
  {
   "cell_type": "code",
   "execution_count": 76,
   "metadata": {},
   "outputs": [],
   "source": [
    "df.to_csv(dataset_dir / 'so_train_full_data.csv', sep='|', encoding='utf-8', header=False, index=False, na_rep=string)"
   ]
  },
  {
   "cell_type": "code",
   "execution_count": 75,
   "metadata": {},
   "outputs": [
    {
     "data": {
      "text/plain": [
       "(37518, 8)"
      ]
     },
     "execution_count": 75,
     "metadata": {},
     "output_type": "execute_result"
    }
   ],
   "source": [
    "df.shape"
   ]
  },
  {
   "cell_type": "markdown",
   "metadata": {},
   "source": [
    "# gender guesser "
   ]
  },
  {
   "cell_type": "code",
   "execution_count": 4,
   "metadata": {},
   "outputs": [],
   "source": [
    "df = pd.read_csv(dataset_dir / 'so_train_full_data.csv', sep='|', encoding='utf8', quoting=csv.QUOTE_NONE)"
   ]
  },
  {
   "cell_type": "code",
   "execution_count": 77,
   "metadata": {},
   "outputs": [
    {
     "data": {
      "text/html": [
       "<div>\n",
       "<style scoped>\n",
       "    .dataframe tbody tr th:only-of-type {\n",
       "        vertical-align: middle;\n",
       "    }\n",
       "\n",
       "    .dataframe tbody tr th {\n",
       "        vertical-align: top;\n",
       "    }\n",
       "\n",
       "    .dataframe thead th {\n",
       "        text-align: right;\n",
       "    }\n",
       "</style>\n",
       "<table border=\"1\" class=\"dataframe\">\n",
       "  <thead>\n",
       "    <tr style=\"text-align: right;\">\n",
       "      <th></th>\n",
       "      <th>UserId</th>\n",
       "      <th>AnswerText</th>\n",
       "      <th>PostTypeId</th>\n",
       "      <th>CreationDate</th>\n",
       "      <th>Score</th>\n",
       "      <th>Name</th>\n",
       "      <th>Reputation</th>\n",
       "      <th>Gender</th>\n",
       "    </tr>\n",
       "  </thead>\n",
       "  <tbody>\n",
       "    <tr>\n",
       "      <th>0</th>\n",
       "      <td>41</td>\n",
       "      <td>in comparison to other comparison-based sortin...</td>\n",
       "      <td>2</td>\n",
       "      <td>2012-03-06T19:19:20.237</td>\n",
       "      <td>20</td>\n",
       "      <td>Kaveh</td>\n",
       "      <td>18213</td>\n",
       "      <td>andy</td>\n",
       "    </tr>\n",
       "    <tr>\n",
       "      <th>1</th>\n",
       "      <td>44</td>\n",
       "      <td>assuming you are storing a reference, not the ...</td>\n",
       "      <td>2</td>\n",
       "      <td>2012-03-06T19:44:17.600</td>\n",
       "      <td>8</td>\n",
       "      <td>Rafe Kettler</td>\n",
       "      <td>181</td>\n",
       "      <td>unknown</td>\n",
       "    </tr>\n",
       "    <tr>\n",
       "      <th>2</th>\n",
       "      <td>29</td>\n",
       "      <td>i think one of the main reasons why quicksort ...</td>\n",
       "      <td>2</td>\n",
       "      <td>2012-03-06T19:48:00.343</td>\n",
       "      <td>34</td>\n",
       "      <td>svick</td>\n",
       "      <td>1726</td>\n",
       "      <td>unknown</td>\n",
       "    </tr>\n",
       "    <tr>\n",
       "      <th>3</th>\n",
       "      <td>43</td>\n",
       "      <td>in a truly \"cooperative\" setting, and if there...</td>\n",
       "      <td>2</td>\n",
       "      <td>2012-03-06T19:54:59.633</td>\n",
       "      <td>15</td>\n",
       "      <td>Carl Mummert</td>\n",
       "      <td>1913</td>\n",
       "      <td>female</td>\n",
       "    </tr>\n",
       "    <tr>\n",
       "      <th>5</th>\n",
       "      <td>22</td>\n",
       "      <td>even though quick-sort has a worst case run ti...</td>\n",
       "      <td>2</td>\n",
       "      <td>2012-03-06T20:18:27.510</td>\n",
       "      <td>16</td>\n",
       "      <td>0x0</td>\n",
       "      <td>565</td>\n",
       "      <td>unknown</td>\n",
       "    </tr>\n",
       "  </tbody>\n",
       "</table>\n",
       "</div>"
      ],
      "text/plain": [
       "  UserId                                         AnswerText PostTypeId  \\\n",
       "0     41  in comparison to other comparison-based sortin...          2   \n",
       "1     44  assuming you are storing a reference, not the ...          2   \n",
       "2     29  i think one of the main reasons why quicksort ...          2   \n",
       "3     43  in a truly \"cooperative\" setting, and if there...          2   \n",
       "5     22  even though quick-sort has a worst case run ti...          2   \n",
       "\n",
       "              CreationDate Score          Name Reputation   Gender  \n",
       "0  2012-03-06T19:19:20.237    20         Kaveh      18213     andy  \n",
       "1  2012-03-06T19:44:17.600     8  Rafe Kettler        181  unknown  \n",
       "2  2012-03-06T19:48:00.343    34         svick       1726  unknown  \n",
       "3  2012-03-06T19:54:59.633    15  Carl Mummert       1913   female  \n",
       "5  2012-03-06T20:18:27.510    16           0x0        565  unknown  "
      ]
     },
     "execution_count": 77,
     "metadata": {},
     "output_type": "execute_result"
    }
   ],
   "source": [
    "df.head()"
   ]
  },
  {
   "cell_type": "code",
   "execution_count": 78,
   "metadata": {},
   "outputs": [],
   "source": [
    "import gender_guesser.detector as gender\n",
    "d = gender.Detector(case_sensitive=False)"
   ]
  },
  {
   "cell_type": "code",
   "execution_count": 79,
   "metadata": {},
   "outputs": [],
   "source": [
    "translator = str.maketrans('', '', string.punctuation)"
   ]
  },
  {
   "cell_type": "code",
   "execution_count": 80,
   "metadata": {},
   "outputs": [],
   "source": [
    "def get_gender(name):\n",
    "    try:\n",
    "        n = name.lower()\n",
    "        if ('mom' in n) or ('girl' in n) or ('angel' in n) or ('mum' in n) or ('mother' in n) or ('woman' in n):\n",
    "            return 'female'\n",
    "        if ('boy' in n) or ('dude' in n):\n",
    "            return 'male'\n",
    "        temp = name.translate(translator).split()\n",
    "    except:\n",
    "        return 'unknown'\n",
    "    \n",
    "    if len(temp)>0:\n",
    "        first_name = temp[0]\n",
    "        first_name = ''.join([i for i in first_name if not i.isdigit()])\n",
    "        gender = d.get_gender(first_name,'usa')\n",
    "        if(gender=='unknown'):\n",
    "            first_name= first_name[:-1]\n",
    "            gender = d.get_gender(first_name,'usa')\n",
    "        return gender\n",
    "    else:\n",
    "        return 'unknown'"
   ]
  },
  {
   "cell_type": "code",
   "execution_count": 81,
   "metadata": {},
   "outputs": [],
   "source": [
    "df['Gender'] = df['Name'].apply(lambda x:get_gender(x))"
   ]
  },
  {
   "cell_type": "code",
   "execution_count": 82,
   "metadata": {},
   "outputs": [
    {
     "data": {
      "text/plain": [
       "unknown          16157\n",
       "andy             12732\n",
       "male              7194\n",
       "mostly_male        927\n",
       "mostly_female      293\n",
       "female             215\n",
       "Name: Gender, dtype: int64"
      ]
     },
     "execution_count": 82,
     "metadata": {},
     "output_type": "execute_result"
    }
   ],
   "source": [
    "df.Gender.value_counts()"
   ]
  },
  {
   "cell_type": "code",
   "execution_count": 71,
   "metadata": {},
   "outputs": [
    {
     "data": {
      "text/html": [
       "<div>\n",
       "<style scoped>\n",
       "    .dataframe tbody tr th:only-of-type {\n",
       "        vertical-align: middle;\n",
       "    }\n",
       "\n",
       "    .dataframe tbody tr th {\n",
       "        vertical-align: top;\n",
       "    }\n",
       "\n",
       "    .dataframe thead th {\n",
       "        text-align: right;\n",
       "    }\n",
       "</style>\n",
       "<table border=\"1\" class=\"dataframe\">\n",
       "  <thead>\n",
       "    <tr style=\"text-align: right;\">\n",
       "      <th></th>\n",
       "      <th>UserId</th>\n",
       "      <th>AnswerText</th>\n",
       "      <th>PostTypeId</th>\n",
       "      <th>CreationDate</th>\n",
       "      <th>Score</th>\n",
       "      <th>Name</th>\n",
       "      <th>Reputation</th>\n",
       "      <th>Gender</th>\n",
       "    </tr>\n",
       "  </thead>\n",
       "  <tbody>\n",
       "    <tr>\n",
       "      <th>0</th>\n",
       "      <td>41</td>\n",
       "      <td>b\"in comparison to other comparison-based sort...</td>\n",
       "      <td>2</td>\n",
       "      <td>2012-03-06T19:19:20.237</td>\n",
       "      <td>20</td>\n",
       "      <td>Kaveh</td>\n",
       "      <td>18213</td>\n",
       "      <td>andy</td>\n",
       "    </tr>\n",
       "    <tr>\n",
       "      <th>1</th>\n",
       "      <td>44</td>\n",
       "      <td>b\"assuming you are storing a reference, not th...</td>\n",
       "      <td>2</td>\n",
       "      <td>2012-03-06T19:44:17.600</td>\n",
       "      <td>8</td>\n",
       "      <td>Rafe Kettler</td>\n",
       "      <td>181</td>\n",
       "      <td>unknown</td>\n",
       "    </tr>\n",
       "    <tr>\n",
       "      <th>2</th>\n",
       "      <td>29</td>\n",
       "      <td>b\"i think one of the main reasons why quicksor...</td>\n",
       "      <td>2</td>\n",
       "      <td>2012-03-06T19:48:00.343</td>\n",
       "      <td>34</td>\n",
       "      <td>svick</td>\n",
       "      <td>1726</td>\n",
       "      <td>unknown</td>\n",
       "    </tr>\n",
       "    <tr>\n",
       "      <th>3</th>\n",
       "      <td>43</td>\n",
       "      <td>b'in a truly \"cooperative\" setting, and if the...</td>\n",
       "      <td>2</td>\n",
       "      <td>2012-03-06T19:54:59.633</td>\n",
       "      <td>15</td>\n",
       "      <td>Carl Mummert</td>\n",
       "      <td>1913</td>\n",
       "      <td>female</td>\n",
       "    </tr>\n",
       "    <tr>\n",
       "      <th>5</th>\n",
       "      <td>22</td>\n",
       "      <td>b\"even though quick-sort has a worst case run ...</td>\n",
       "      <td>2</td>\n",
       "      <td>2012-03-06T20:18:27.510</td>\n",
       "      <td>16</td>\n",
       "      <td>0x0</td>\n",
       "      <td>565</td>\n",
       "      <td>unknown</td>\n",
       "    </tr>\n",
       "  </tbody>\n",
       "</table>\n",
       "</div>"
      ],
      "text/plain": [
       "  UserId                                         AnswerText PostTypeId  \\\n",
       "0     41  b\"in comparison to other comparison-based sort...          2   \n",
       "1     44  b\"assuming you are storing a reference, not th...          2   \n",
       "2     29  b\"i think one of the main reasons why quicksor...          2   \n",
       "3     43  b'in a truly \"cooperative\" setting, and if the...          2   \n",
       "5     22  b\"even though quick-sort has a worst case run ...          2   \n",
       "\n",
       "              CreationDate Score          Name Reputation   Gender  \n",
       "0  2012-03-06T19:19:20.237    20         Kaveh      18213     andy  \n",
       "1  2012-03-06T19:44:17.600     8  Rafe Kettler        181  unknown  \n",
       "2  2012-03-06T19:48:00.343    34         svick       1726  unknown  \n",
       "3  2012-03-06T19:54:59.633    15  Carl Mummert       1913   female  \n",
       "5  2012-03-06T20:18:27.510    16           0x0        565  unknown  "
      ]
     },
     "execution_count": 71,
     "metadata": {},
     "output_type": "execute_result"
    }
   ],
   "source": [
    "df.head()"
   ]
  },
  {
   "cell_type": "code",
   "execution_count": 91,
   "metadata": {},
   "outputs": [],
   "source": [
    "disclosed_flag = df.Gender.isin(['mostly_male', 'male', 'mostly_female', 'female'])\n",
    "undisclosed_flag = ~disclosed_flag"
   ]
  },
  {
   "cell_type": "code",
   "execution_count": 92,
   "metadata": {},
   "outputs": [],
   "source": [
    "disclosed_gender_df =  df[disclosed_flag]\n",
    "undisclosed_gender_df = df[undisclosed_flag]"
   ]
  },
  {
   "cell_type": "code",
   "execution_count": null,
   "metadata": {},
   "outputs": [],
   "source": []
  },
  {
   "cell_type": "code",
   "execution_count": 86,
   "metadata": {},
   "outputs": [],
   "source": [
    "df_male = df[df.Gender.isin(['mostly_male', 'male'])]"
   ]
  },
  {
   "cell_type": "code",
   "execution_count": 87,
   "metadata": {},
   "outputs": [
    {
     "data": {
      "text/html": [
       "<div>\n",
       "<style scoped>\n",
       "    .dataframe tbody tr th:only-of-type {\n",
       "        vertical-align: middle;\n",
       "    }\n",
       "\n",
       "    .dataframe tbody tr th {\n",
       "        vertical-align: top;\n",
       "    }\n",
       "\n",
       "    .dataframe thead th {\n",
       "        text-align: right;\n",
       "    }\n",
       "</style>\n",
       "<table border=\"1\" class=\"dataframe\">\n",
       "  <thead>\n",
       "    <tr style=\"text-align: right;\">\n",
       "      <th></th>\n",
       "      <th>UserId</th>\n",
       "      <th>AnswerText</th>\n",
       "      <th>PostTypeId</th>\n",
       "      <th>CreationDate</th>\n",
       "      <th>Score</th>\n",
       "      <th>Name</th>\n",
       "      <th>Reputation</th>\n",
       "      <th>Gender</th>\n",
       "    </tr>\n",
       "  </thead>\n",
       "  <tbody>\n",
       "    <tr>\n",
       "      <th>15</th>\n",
       "      <td>69</td>\n",
       "      <td>in relational algebra, we shall first provide ...</td>\n",
       "      <td>2</td>\n",
       "      <td>2012-03-06T21:59:27.307</td>\n",
       "      <td>14</td>\n",
       "      <td>Patrick87</td>\n",
       "      <td>10544</td>\n",
       "      <td>male</td>\n",
       "    </tr>\n",
       "    <tr>\n",
       "      <th>16</th>\n",
       "      <td>71</td>\n",
       "      <td>recall that a pair $(a[i], a[j])$ (resp. $(i,j...</td>\n",
       "      <td>2</td>\n",
       "      <td>2012-03-06T22:04:37.040</td>\n",
       "      <td>19</td>\n",
       "      <td>Joe</td>\n",
       "      <td>3205</td>\n",
       "      <td>male</td>\n",
       "    </tr>\n",
       "    <tr>\n",
       "      <th>18</th>\n",
       "      <td>92</td>\n",
       "      <td>the context-sensitive languages are exactly th...</td>\n",
       "      <td>2</td>\n",
       "      <td>2012-03-06T22:39:46.867</td>\n",
       "      <td>19</td>\n",
       "      <td>Alex ten Brink</td>\n",
       "      <td>7181</td>\n",
       "      <td>mostly_male</td>\n",
       "    </tr>\n",
       "    <tr>\n",
       "      <th>20</th>\n",
       "      <td>98</td>\n",
       "      <td>modern programming language use context-sensit...</td>\n",
       "      <td>2</td>\n",
       "      <td>2012-03-06T22:51:25.753</td>\n",
       "      <td>4</td>\n",
       "      <td>Raphael</td>\n",
       "      <td>58925</td>\n",
       "      <td>male</td>\n",
       "    </tr>\n",
       "    <tr>\n",
       "      <th>21</th>\n",
       "      <td>95</td>\n",
       "      <td>in context-free languages, at any point of the...</td>\n",
       "      <td>2</td>\n",
       "      <td>2012-03-06T22:55:34.103</td>\n",
       "      <td>8</td>\n",
       "      <td>Victor Stafusa</td>\n",
       "      <td>957</td>\n",
       "      <td>male</td>\n",
       "    </tr>\n",
       "  </tbody>\n",
       "</table>\n",
       "</div>"
      ],
      "text/plain": [
       "   UserId                                         AnswerText PostTypeId  \\\n",
       "15     69  in relational algebra, we shall first provide ...          2   \n",
       "16     71  recall that a pair $(a[i], a[j])$ (resp. $(i,j...          2   \n",
       "18     92  the context-sensitive languages are exactly th...          2   \n",
       "20     98  modern programming language use context-sensit...          2   \n",
       "21     95  in context-free languages, at any point of the...          2   \n",
       "\n",
       "               CreationDate Score            Name Reputation       Gender  \n",
       "15  2012-03-06T21:59:27.307    14       Patrick87      10544         male  \n",
       "16  2012-03-06T22:04:37.040    19             Joe       3205         male  \n",
       "18  2012-03-06T22:39:46.867    19  Alex ten Brink       7181  mostly_male  \n",
       "20  2012-03-06T22:51:25.753     4         Raphael      58925         male  \n",
       "21  2012-03-06T22:55:34.103     8  Victor Stafusa        957         male  "
      ]
     },
     "execution_count": 87,
     "metadata": {},
     "output_type": "execute_result"
    }
   ],
   "source": [
    "df_male.head()"
   ]
  },
  {
   "cell_type": "code",
   "execution_count": 88,
   "metadata": {},
   "outputs": [],
   "source": [
    "df_female=df[df.Gender.isin(['mostly_female', 'female'])]"
   ]
  },
  {
   "cell_type": "code",
   "execution_count": 89,
   "metadata": {},
   "outputs": [
    {
     "data": {
      "text/html": [
       "<div>\n",
       "<style scoped>\n",
       "    .dataframe tbody tr th:only-of-type {\n",
       "        vertical-align: middle;\n",
       "    }\n",
       "\n",
       "    .dataframe tbody tr th {\n",
       "        vertical-align: top;\n",
       "    }\n",
       "\n",
       "    .dataframe thead th {\n",
       "        text-align: right;\n",
       "    }\n",
       "</style>\n",
       "<table border=\"1\" class=\"dataframe\">\n",
       "  <thead>\n",
       "    <tr style=\"text-align: right;\">\n",
       "      <th></th>\n",
       "      <th>UserId</th>\n",
       "      <th>AnswerText</th>\n",
       "      <th>PostTypeId</th>\n",
       "      <th>CreationDate</th>\n",
       "      <th>Score</th>\n",
       "      <th>Name</th>\n",
       "      <th>Reputation</th>\n",
       "      <th>Gender</th>\n",
       "    </tr>\n",
       "  </thead>\n",
       "  <tbody>\n",
       "    <tr>\n",
       "      <th>3</th>\n",
       "      <td>43</td>\n",
       "      <td>in a truly \"cooperative\" setting, and if there...</td>\n",
       "      <td>2</td>\n",
       "      <td>2012-03-06T19:54:59.633</td>\n",
       "      <td>15</td>\n",
       "      <td>Carl Mummert</td>\n",
       "      <td>1913</td>\n",
       "      <td>female</td>\n",
       "    </tr>\n",
       "    <tr>\n",
       "      <th>8</th>\n",
       "      <td>43</td>\n",
       "      <td>one direct way is a recursive procedure that d...</td>\n",
       "      <td>2</td>\n",
       "      <td>2012-03-06T20:33:49.193</td>\n",
       "      <td>14</td>\n",
       "      <td>Carl Mummert</td>\n",
       "      <td>1913</td>\n",
       "      <td>female</td>\n",
       "    </tr>\n",
       "    <tr>\n",
       "      <th>23</th>\n",
       "      <td>43</td>\n",
       "      <td>a general theorem that partially covers the ex...</td>\n",
       "      <td>2</td>\n",
       "      <td>2012-03-06T23:33:49.507</td>\n",
       "      <td>14</td>\n",
       "      <td>Carl Mummert</td>\n",
       "      <td>1913</td>\n",
       "      <td>female</td>\n",
       "    </tr>\n",
       "    <tr>\n",
       "      <th>59</th>\n",
       "      <td>43</td>\n",
       "      <td>yes, this is decidable, because you can do an ...</td>\n",
       "      <td>2</td>\n",
       "      <td>2012-03-09T01:03:08.753</td>\n",
       "      <td>8</td>\n",
       "      <td>Carl Mummert</td>\n",
       "      <td>1913</td>\n",
       "      <td>female</td>\n",
       "    </tr>\n",
       "    <tr>\n",
       "      <th>125</th>\n",
       "      <td>43</td>\n",
       "      <td>because of diagonalization. if $(f_e: e \\in \\m...</td>\n",
       "      <td>2</td>\n",
       "      <td>2012-03-13T01:26:15.257</td>\n",
       "      <td>24</td>\n",
       "      <td>Carl Mummert</td>\n",
       "      <td>1913</td>\n",
       "      <td>female</td>\n",
       "    </tr>\n",
       "  </tbody>\n",
       "</table>\n",
       "</div>"
      ],
      "text/plain": [
       "    UserId                                         AnswerText PostTypeId  \\\n",
       "3       43  in a truly \"cooperative\" setting, and if there...          2   \n",
       "8       43  one direct way is a recursive procedure that d...          2   \n",
       "23      43  a general theorem that partially covers the ex...          2   \n",
       "59      43  yes, this is decidable, because you can do an ...          2   \n",
       "125     43  because of diagonalization. if $(f_e: e \\in \\m...          2   \n",
       "\n",
       "                CreationDate Score          Name Reputation  Gender  \n",
       "3    2012-03-06T19:54:59.633    15  Carl Mummert       1913  female  \n",
       "8    2012-03-06T20:33:49.193    14  Carl Mummert       1913  female  \n",
       "23   2012-03-06T23:33:49.507    14  Carl Mummert       1913  female  \n",
       "59   2012-03-09T01:03:08.753     8  Carl Mummert       1913  female  \n",
       "125  2012-03-13T01:26:15.257    24  Carl Mummert       1913  female  "
      ]
     },
     "execution_count": 89,
     "metadata": {},
     "output_type": "execute_result"
    }
   ],
   "source": [
    "df_female.head()"
   ]
  },
  {
   "cell_type": "code",
   "execution_count": 93,
   "metadata": {},
   "outputs": [
    {
     "name": "stdout",
     "output_type": "stream",
     "text": [
      "saving disclosed dataset to csv\n",
      "saving undisclosed dataset to csv\n"
     ]
    }
   ],
   "source": [
    "import os.path\n",
    "import pandas as pd\n",
    "if not os.path.exists(abs_data_dir / '..' / 'disclosed_dataset.csv'):\n",
    "    print('saving disclosed dataset to csv')\n",
    "    disclosed_gender_df.to_csv(abs_data_dir / '..' / 'disclosed_dataset.csv', index=False)\n",
    "else:\n",
    "    disclosed_gender_df = pd.read_csv(abs_data_dir / '..' / 'disclosed_dataset.csv')\n",
    "\n",
    "if not os.path.exists(abs_data_dir / '..' / 'undisclosed_dataset.csv'):\n",
    "    print('saving undisclosed dataset to csv')\n",
    "    undisclosed_gender_df.to_csv(abs_data_dir / '..' / 'undisclosed_dataset.csv', index=False)\n",
    "else:\n",
    "    undisclosed_gender_df = pd.read_csv(abs_data_dir / '..' / 'undisclosed_dataset.csv')"
   ]
  },
  {
   "cell_type": "code",
   "execution_count": 96,
   "metadata": {},
   "outputs": [],
   "source": [
    "dataset_dir = Path.cwd() / 'csv_files/stackexchange/'"
   ]
  },
  {
   "cell_type": "code",
   "execution_count": 101,
   "metadata": {},
   "outputs": [
    {
     "data": {
      "text/html": [
       "<div>\n",
       "<style scoped>\n",
       "    .dataframe tbody tr th:only-of-type {\n",
       "        vertical-align: middle;\n",
       "    }\n",
       "\n",
       "    .dataframe tbody tr th {\n",
       "        vertical-align: top;\n",
       "    }\n",
       "\n",
       "    .dataframe thead th {\n",
       "        text-align: right;\n",
       "    }\n",
       "</style>\n",
       "<table border=\"1\" class=\"dataframe\">\n",
       "  <thead>\n",
       "    <tr style=\"text-align: right;\">\n",
       "      <th></th>\n",
       "      <th>UserId</th>\n",
       "      <th>Text</th>\n",
       "      <th>PostTypeId</th>\n",
       "      <th>Timestamp</th>\n",
       "      <th>Score</th>\n",
       "      <th>UserName</th>\n",
       "      <th>Reputation</th>\n",
       "      <th>Gender</th>\n",
       "    </tr>\n",
       "  </thead>\n",
       "  <tbody>\n",
       "    <tr>\n",
       "      <th>3</th>\n",
       "      <td>43</td>\n",
       "      <td>in a truly \"cooperative\" setting, and if there...</td>\n",
       "      <td>2</td>\n",
       "      <td>2012-03-06T19:54:59.633</td>\n",
       "      <td>15</td>\n",
       "      <td>Carl Mummert</td>\n",
       "      <td>1913</td>\n",
       "      <td>female</td>\n",
       "    </tr>\n",
       "    <tr>\n",
       "      <th>8</th>\n",
       "      <td>43</td>\n",
       "      <td>one direct way is a recursive procedure that d...</td>\n",
       "      <td>2</td>\n",
       "      <td>2012-03-06T20:33:49.193</td>\n",
       "      <td>14</td>\n",
       "      <td>Carl Mummert</td>\n",
       "      <td>1913</td>\n",
       "      <td>female</td>\n",
       "    </tr>\n",
       "    <tr>\n",
       "      <th>15</th>\n",
       "      <td>69</td>\n",
       "      <td>in relational algebra, we shall first provide ...</td>\n",
       "      <td>2</td>\n",
       "      <td>2012-03-06T21:59:27.307</td>\n",
       "      <td>14</td>\n",
       "      <td>Patrick87</td>\n",
       "      <td>10544</td>\n",
       "      <td>male</td>\n",
       "    </tr>\n",
       "    <tr>\n",
       "      <th>16</th>\n",
       "      <td>71</td>\n",
       "      <td>recall that a pair $(a[i], a[j])$ (resp. $(i,j...</td>\n",
       "      <td>2</td>\n",
       "      <td>2012-03-06T22:04:37.040</td>\n",
       "      <td>19</td>\n",
       "      <td>Joe</td>\n",
       "      <td>3205</td>\n",
       "      <td>male</td>\n",
       "    </tr>\n",
       "    <tr>\n",
       "      <th>18</th>\n",
       "      <td>92</td>\n",
       "      <td>the context-sensitive languages are exactly th...</td>\n",
       "      <td>2</td>\n",
       "      <td>2012-03-06T22:39:46.867</td>\n",
       "      <td>19</td>\n",
       "      <td>Alex ten Brink</td>\n",
       "      <td>7181</td>\n",
       "      <td>mostly_male</td>\n",
       "    </tr>\n",
       "  </tbody>\n",
       "</table>\n",
       "</div>"
      ],
      "text/plain": [
       "   UserId                                               Text PostTypeId  \\\n",
       "3      43  in a truly \"cooperative\" setting, and if there...          2   \n",
       "8      43  one direct way is a recursive procedure that d...          2   \n",
       "15     69  in relational algebra, we shall first provide ...          2   \n",
       "16     71  recall that a pair $(a[i], a[j])$ (resp. $(i,j...          2   \n",
       "18     92  the context-sensitive languages are exactly th...          2   \n",
       "\n",
       "                  Timestamp Score        UserName Reputation       Gender  \n",
       "3   2012-03-06T19:54:59.633    15    Carl Mummert       1913       female  \n",
       "8   2012-03-06T20:33:49.193    14    Carl Mummert       1913       female  \n",
       "15  2012-03-06T21:59:27.307    14       Patrick87      10544         male  \n",
       "16  2012-03-06T22:04:37.040    19             Joe       3205         male  \n",
       "18  2012-03-06T22:39:46.867    19  Alex ten Brink       7181  mostly_male  "
      ]
     },
     "execution_count": 101,
     "metadata": {},
     "output_type": "execute_result"
    }
   ],
   "source": [
    "disclosed_gender_df.rename(columns={'Name': 'UserName', 'AnswerText': 'Text', 'CreationDate': 'Timestamp'}, inplace=True)\n",
    "disclosed_gender_df.head()"
   ]
  },
  {
   "cell_type": "code",
   "execution_count": 102,
   "metadata": {},
   "outputs": [
    {
     "data": {
      "text/html": [
       "<div>\n",
       "<style scoped>\n",
       "    .dataframe tbody tr th:only-of-type {\n",
       "        vertical-align: middle;\n",
       "    }\n",
       "\n",
       "    .dataframe tbody tr th {\n",
       "        vertical-align: top;\n",
       "    }\n",
       "\n",
       "    .dataframe thead th {\n",
       "        text-align: right;\n",
       "    }\n",
       "</style>\n",
       "<table border=\"1\" class=\"dataframe\">\n",
       "  <thead>\n",
       "    <tr style=\"text-align: right;\">\n",
       "      <th></th>\n",
       "      <th>UserId</th>\n",
       "      <th>Text</th>\n",
       "      <th>PostTypeId</th>\n",
       "      <th>Timestamp</th>\n",
       "      <th>Score</th>\n",
       "      <th>UserName</th>\n",
       "      <th>Reputation</th>\n",
       "      <th>Gender</th>\n",
       "    </tr>\n",
       "  </thead>\n",
       "  <tbody>\n",
       "    <tr>\n",
       "      <th>0</th>\n",
       "      <td>41</td>\n",
       "      <td>in comparison to other comparison-based sortin...</td>\n",
       "      <td>2</td>\n",
       "      <td>2012-03-06T19:19:20.237</td>\n",
       "      <td>20</td>\n",
       "      <td>Kaveh</td>\n",
       "      <td>18213</td>\n",
       "      <td>andy</td>\n",
       "    </tr>\n",
       "    <tr>\n",
       "      <th>1</th>\n",
       "      <td>44</td>\n",
       "      <td>assuming you are storing a reference, not the ...</td>\n",
       "      <td>2</td>\n",
       "      <td>2012-03-06T19:44:17.600</td>\n",
       "      <td>8</td>\n",
       "      <td>Rafe Kettler</td>\n",
       "      <td>181</td>\n",
       "      <td>unknown</td>\n",
       "    </tr>\n",
       "    <tr>\n",
       "      <th>2</th>\n",
       "      <td>29</td>\n",
       "      <td>i think one of the main reasons why quicksort ...</td>\n",
       "      <td>2</td>\n",
       "      <td>2012-03-06T19:48:00.343</td>\n",
       "      <td>34</td>\n",
       "      <td>svick</td>\n",
       "      <td>1726</td>\n",
       "      <td>unknown</td>\n",
       "    </tr>\n",
       "    <tr>\n",
       "      <th>5</th>\n",
       "      <td>22</td>\n",
       "      <td>even though quick-sort has a worst case run ti...</td>\n",
       "      <td>2</td>\n",
       "      <td>2012-03-06T20:18:27.510</td>\n",
       "      <td>16</td>\n",
       "      <td>0x0</td>\n",
       "      <td>565</td>\n",
       "      <td>unknown</td>\n",
       "    </tr>\n",
       "    <tr>\n",
       "      <th>6</th>\n",
       "      <td>59</td>\n",
       "      <td>in the cooperative scheduling (preferably coop...</td>\n",
       "      <td>2</td>\n",
       "      <td>2012-03-06T20:19:10.463</td>\n",
       "      <td>4</td>\n",
       "      <td>Ankit</td>\n",
       "      <td>627</td>\n",
       "      <td>andy</td>\n",
       "    </tr>\n",
       "  </tbody>\n",
       "</table>\n",
       "</div>"
      ],
      "text/plain": [
       "  UserId                                               Text PostTypeId  \\\n",
       "0     41  in comparison to other comparison-based sortin...          2   \n",
       "1     44  assuming you are storing a reference, not the ...          2   \n",
       "2     29  i think one of the main reasons why quicksort ...          2   \n",
       "5     22  even though quick-sort has a worst case run ti...          2   \n",
       "6     59  in the cooperative scheduling (preferably coop...          2   \n",
       "\n",
       "                 Timestamp Score      UserName Reputation   Gender  \n",
       "0  2012-03-06T19:19:20.237    20         Kaveh      18213     andy  \n",
       "1  2012-03-06T19:44:17.600     8  Rafe Kettler        181  unknown  \n",
       "2  2012-03-06T19:48:00.343    34         svick       1726  unknown  \n",
       "5  2012-03-06T20:18:27.510    16           0x0        565  unknown  \n",
       "6  2012-03-06T20:19:10.463     4         Ankit        627     andy  "
      ]
     },
     "execution_count": 102,
     "metadata": {},
     "output_type": "execute_result"
    }
   ],
   "source": [
    "undisclosed_gender_df.rename(columns={'Name': 'UserName', 'AnswerText': 'Text', 'CreationDate': 'Timestamp'}, inplace=True)\n",
    "undisclosed_gender_df.head()"
   ]
  },
  {
   "cell_type": "code",
   "execution_count": 112,
   "metadata": {},
   "outputs": [
    {
     "name": "stderr",
     "output_type": "stream",
     "text": [
      "/home/yafei/.conda/envs/ma/lib/python3.7/site-packages/pandas/core/generic.py:6517: SettingWithCopyWarning: \n",
      "A value is trying to be set on a copy of a slice from a DataFrame.\n",
      "Try using .loc[row_indexer,col_indexer] = value instead\n",
      "\n",
      "See the caveats in the documentation: http://pandas.pydata.org/pandas-docs/stable/indexing.html#indexing-view-versus-copy\n",
      "  regex=regex)\n"
     ]
    }
   ],
   "source": [
    "mapping = {'female' : 1, 'male' : 0, 'mostly_female': 1, 'mostly_male': 0}\n",
    "disclosed_dataset_df = disclosed_gender_df[['UserName', 'Text', 'Gender']]\n",
    "disclosed_dataset_df.replace(to_replace=[r\"\\\\t|\\\\n|\\\\r\", \"\\t|\\n|\\r\"], value=[\"\",\"\"], regex=True, inplace=True)\n",
    "disclosed_dataset_df.replace({'Gender': mapping}, inplace=True)\n",
    "\n",
    "undisclosed_gender_df = undisclosed_gender_df[['UserName', 'Text', 'Gender']]\n",
    "undisclosed_gender_df.replace(to_replace=[r\"\\\\t|\\\\n|\\\\r\", \"\\t|\\n|\\r\"], value=[\"\",\"\"], regex=True, inplace=True)\n",
    "undisclosed_gender_df.to_csv(dataset_dir / 'undisclosed_id_text_gender.csv', index=False, header=False)"
   ]
  },
  {
   "cell_type": "code",
   "execution_count": 113,
   "metadata": {},
   "outputs": [],
   "source": [
    "from sklearn.model_selection import train_test_split\n",
    "\n",
    "# dataset_df = pd.read_csv('train_dataset.csv')\n",
    "if 'disclosed_dataset_df' in locals():\n",
    "    # 80/20 train/test\n",
    "    train_df, test_df = train_test_split(disclosed_dataset_df, test_size=0.2)\n",
    "    # 80/20 train/validation\n",
    "    train_df, validation_df = train_test_split(train_df, test_size=0.2)"
   ]
  },
  {
   "cell_type": "code",
   "execution_count": 114,
   "metadata": {},
   "outputs": [],
   "source": [
    "\n",
    "# extracting related attributes for training, validation and test\n",
    "train_gender_text_df = train_df[['Gender', 'Text']]\n",
    "validation_gender_text_df = validation_df[['Gender', 'Text']]\n",
    "test_name_text_gender_df = test_df[['UserName', 'Text', 'Gender']]\n",
    "\n",
    "train_gender_text_df.replace(to_replace=[r\"\\\\t|\\\\n|\\\\r\", \"\\t|\\n|\\r\"], value=[\"\",\"\"], regex=True, inplace=True)\n",
    "train_gender_text_df.to_csv(dataset_dir / 'training_gender_text.csv', index=False, header=False)\n",
    "\n",
    "validation_gender_text_df.replace(to_replace=[r\"\\\\t|\\\\n|\\\\r\", \"\\t|\\n|\\r\"], value=[\"\",\"\"], regex=True, inplace=True)\n",
    "validation_gender_text_df.to_csv(dataset_dir / 'validation_gender_text.csv', index=False, header=False)\n",
    "\n",
    "test_name_text_gender_df.replace(to_replace=[r\"\\\\t|\\\\n|\\\\r\", \"\\t|\\n|\\r\"], value=[\"\",\"\"], regex=True, inplace=True)\n",
    "test_name_text_gender_df.to_csv(dataset_dir / 'test_name_text_gender.csv', index=False, header=False)"
   ]
  },
  {
   "cell_type": "code",
   "execution_count": 108,
   "metadata": {},
   "outputs": [
    {
     "data": {
      "text/html": [
       "<div>\n",
       "<style scoped>\n",
       "    .dataframe tbody tr th:only-of-type {\n",
       "        vertical-align: middle;\n",
       "    }\n",
       "\n",
       "    .dataframe tbody tr th {\n",
       "        vertical-align: top;\n",
       "    }\n",
       "\n",
       "    .dataframe thead th {\n",
       "        text-align: right;\n",
       "    }\n",
       "</style>\n",
       "<table border=\"1\" class=\"dataframe\">\n",
       "  <thead>\n",
       "    <tr style=\"text-align: right;\">\n",
       "      <th></th>\n",
       "      <th>UserId</th>\n",
       "      <th>AnswerText</th>\n",
       "      <th>PostTypeId</th>\n",
       "      <th>CreationDate</th>\n",
       "      <th>Score</th>\n",
       "      <th>Name</th>\n",
       "      <th>Reputation</th>\n",
       "      <th>Gender</th>\n",
       "    </tr>\n",
       "  </thead>\n",
       "  <tbody>\n",
       "    <tr>\n",
       "      <th>0</th>\n",
       "      <td>41</td>\n",
       "      <td>in comparison to other comparison-based sortin...</td>\n",
       "      <td>2</td>\n",
       "      <td>2012-03-06T19:19:20.237</td>\n",
       "      <td>20</td>\n",
       "      <td>Kaveh</td>\n",
       "      <td>18213</td>\n",
       "      <td>andy</td>\n",
       "    </tr>\n",
       "    <tr>\n",
       "      <th>1</th>\n",
       "      <td>44</td>\n",
       "      <td>assuming you are storing a reference, not the ...</td>\n",
       "      <td>2</td>\n",
       "      <td>2012-03-06T19:44:17.600</td>\n",
       "      <td>8</td>\n",
       "      <td>Rafe Kettler</td>\n",
       "      <td>181</td>\n",
       "      <td>unknown</td>\n",
       "    </tr>\n",
       "    <tr>\n",
       "      <th>2</th>\n",
       "      <td>29</td>\n",
       "      <td>i think one of the main reasons why quicksort ...</td>\n",
       "      <td>2</td>\n",
       "      <td>2012-03-06T19:48:00.343</td>\n",
       "      <td>34</td>\n",
       "      <td>svick</td>\n",
       "      <td>1726</td>\n",
       "      <td>unknown</td>\n",
       "    </tr>\n",
       "    <tr>\n",
       "      <th>3</th>\n",
       "      <td>22</td>\n",
       "      <td>even though quick-sort has a worst case run ti...</td>\n",
       "      <td>2</td>\n",
       "      <td>2012-03-06T20:18:27.510</td>\n",
       "      <td>16</td>\n",
       "      <td>0x0</td>\n",
       "      <td>565</td>\n",
       "      <td>unknown</td>\n",
       "    </tr>\n",
       "    <tr>\n",
       "      <th>4</th>\n",
       "      <td>59</td>\n",
       "      <td>in the cooperative scheduling (preferably coop...</td>\n",
       "      <td>2</td>\n",
       "      <td>2012-03-06T20:19:10.463</td>\n",
       "      <td>4</td>\n",
       "      <td>Ankit</td>\n",
       "      <td>627</td>\n",
       "      <td>andy</td>\n",
       "    </tr>\n",
       "  </tbody>\n",
       "</table>\n",
       "</div>"
      ],
      "text/plain": [
       "   UserId                                         AnswerText  PostTypeId  \\\n",
       "0      41  in comparison to other comparison-based sortin...           2   \n",
       "1      44  assuming you are storing a reference, not the ...           2   \n",
       "2      29  i think one of the main reasons why quicksort ...           2   \n",
       "3      22  even though quick-sort has a worst case run ti...           2   \n",
       "4      59  in the cooperative scheduling (preferably coop...           2   \n",
       "\n",
       "              CreationDate  Score          Name  Reputation   Gender  \n",
       "0  2012-03-06T19:19:20.237     20         Kaveh       18213     andy  \n",
       "1  2012-03-06T19:44:17.600      8  Rafe Kettler         181  unknown  \n",
       "2  2012-03-06T19:48:00.343     34         svick        1726  unknown  \n",
       "3  2012-03-06T20:18:27.510     16           0x0         565  unknown  \n",
       "4  2012-03-06T20:19:10.463      4         Ankit         627     andy  "
      ]
     },
     "execution_count": 108,
     "metadata": {},
     "output_type": "execute_result"
    }
   ],
   "source": [
    "import pandas as pd\n",
    "undisclosed_csv_df = pd.read_csv(dataset_dir / 'undisclosed_dataset.csv')\n",
    "undisclosed_csv_df.head()"
   ]
  },
  {
   "cell_type": "code",
   "execution_count": 116,
   "metadata": {},
   "outputs": [],
   "source": [
    "undisclosed_dataset_df = undisclosed_csv_df[['UserId', 'AnswerText', 'Gender']]\n",
    "# undisclosed_dataset_df.rename(columns={'Name': 'UserName', 'AnswerText': 'Text', 'CreationDate': 'Timestamp'}, inplace=True)\n",
    "undisclosed_dataset_df.replace(to_replace=[r\"\\\\t|\\\\n|\\\\r\", \"\\t|\\n|\\r\"], value=[\"\",\"\"], regex=True, inplace=True)\n",
    "undisclosed_dataset_df.to_csv(dataset_dir / 'undisclosed_id_text_gender.csv', index=False, header=False)"
   ]
  },
  {
   "cell_type": "code",
   "execution_count": 115,
   "metadata": {},
   "outputs": [
    {
     "data": {
      "text/html": [
       "<div>\n",
       "<style scoped>\n",
       "    .dataframe tbody tr th:only-of-type {\n",
       "        vertical-align: middle;\n",
       "    }\n",
       "\n",
       "    .dataframe tbody tr th {\n",
       "        vertical-align: top;\n",
       "    }\n",
       "\n",
       "    .dataframe thead th {\n",
       "        text-align: right;\n",
       "    }\n",
       "</style>\n",
       "<table border=\"1\" class=\"dataframe\">\n",
       "  <thead>\n",
       "    <tr style=\"text-align: right;\">\n",
       "      <th></th>\n",
       "      <th>UserId</th>\n",
       "      <th>Text</th>\n",
       "      <th>Gender</th>\n",
       "    </tr>\n",
       "  </thead>\n",
       "  <tbody>\n",
       "    <tr>\n",
       "      <th>0</th>\n",
       "      <td>41</td>\n",
       "      <td>in comparison to other comparison-based sortin...</td>\n",
       "      <td>andy</td>\n",
       "    </tr>\n",
       "    <tr>\n",
       "      <th>1</th>\n",
       "      <td>44</td>\n",
       "      <td>assuming you are storing a reference, not the ...</td>\n",
       "      <td>unknown</td>\n",
       "    </tr>\n",
       "    <tr>\n",
       "      <th>2</th>\n",
       "      <td>29</td>\n",
       "      <td>i think one of the main reasons why quicksort ...</td>\n",
       "      <td>unknown</td>\n",
       "    </tr>\n",
       "    <tr>\n",
       "      <th>3</th>\n",
       "      <td>22</td>\n",
       "      <td>even though quick-sort has a worst case run ti...</td>\n",
       "      <td>unknown</td>\n",
       "    </tr>\n",
       "    <tr>\n",
       "      <th>4</th>\n",
       "      <td>59</td>\n",
       "      <td>in the cooperative scheduling (preferably coop...</td>\n",
       "      <td>andy</td>\n",
       "    </tr>\n",
       "  </tbody>\n",
       "</table>\n",
       "</div>"
      ],
      "text/plain": [
       "   UserId                                               Text   Gender\n",
       "0      41  in comparison to other comparison-based sortin...     andy\n",
       "1      44  assuming you are storing a reference, not the ...  unknown\n",
       "2      29  i think one of the main reasons why quicksort ...  unknown\n",
       "3      22  even though quick-sort has a worst case run ti...  unknown\n",
       "4      59  in the cooperative scheduling (preferably coop...     andy"
      ]
     },
     "execution_count": 115,
     "metadata": {},
     "output_type": "execute_result"
    }
   ],
   "source": [
    "undisclosed_dataset_df.head()"
   ]
  },
  {
   "cell_type": "markdown",
   "metadata": {},
   "source": [
    "# Additional Info"
   ]
  },
  {
   "cell_type": "code",
   "execution_count": 38,
   "metadata": {},
   "outputs": [],
   "source": [
    "df2 = data.groupby('Name').agg({'Post':'count','Gender':'first'}).reset_index().rename(columns={'Post':'Count'})"
   ]
  },
  {
   "cell_type": "code",
   "execution_count": 39,
   "metadata": {},
   "outputs": [
    {
     "data": {
      "text/html": [
       "<div>\n",
       "<style scoped>\n",
       "    .dataframe tbody tr th:only-of-type {\n",
       "        vertical-align: middle;\n",
       "    }\n",
       "\n",
       "    .dataframe tbody tr th {\n",
       "        vertical-align: top;\n",
       "    }\n",
       "\n",
       "    .dataframe thead th {\n",
       "        text-align: right;\n",
       "    }\n",
       "</style>\n",
       "<table border=\"1\" class=\"dataframe\">\n",
       "  <thead>\n",
       "    <tr style=\"text-align: right;\">\n",
       "      <th></th>\n",
       "      <th>Name</th>\n",
       "      <th>Count</th>\n",
       "      <th>Gender</th>\n",
       "    </tr>\n",
       "  </thead>\n",
       "  <tbody>\n",
       "    <tr>\n",
       "      <th>0</th>\n",
       "      <td>Maria</td>\n",
       "      <td>1</td>\n",
       "      <td>female</td>\n",
       "    </tr>\n",
       "    <tr>\n",
       "      <th>1</th>\n",
       "      <td>Niki Hard</td>\n",
       "      <td>1</td>\n",
       "      <td>female</td>\n",
       "    </tr>\n",
       "    <tr>\n",
       "      <th>2</th>\n",
       "      <td>Allen</td>\n",
       "      <td>1</td>\n",
       "      <td>male</td>\n",
       "    </tr>\n",
       "    <tr>\n",
       "      <th>3</th>\n",
       "      <td>Anna</td>\n",
       "      <td>2</td>\n",
       "      <td>female</td>\n",
       "    </tr>\n",
       "    <tr>\n",
       "      <th>4</th>\n",
       "      <td>Benny Duikelaar</td>\n",
       "      <td>1</td>\n",
       "      <td>male</td>\n",
       "    </tr>\n",
       "  </tbody>\n",
       "</table>\n",
       "</div>"
      ],
      "text/plain": [
       "               Name  Count  Gender\n",
       "0            Maria       1  female\n",
       "1         Niki Hard      1  female\n",
       "2             Allen      1    male\n",
       "3              Anna      2  female\n",
       "4   Benny Duikelaar      1    male"
      ]
     },
     "execution_count": 39,
     "metadata": {},
     "output_type": "execute_result"
    }
   ],
   "source": [
    "df2.head()"
   ]
  },
  {
   "cell_type": "code",
   "execution_count": 41,
   "metadata": {},
   "outputs": [
    {
     "name": "stdout",
     "output_type": "stream",
     "text": [
      "(107654, 3) (54061, 3)\n"
     ]
    }
   ],
   "source": [
    "df_m = df2.loc[df2.Gender=='male']\n",
    "df_f = df2.loc[df2.Gender=='female']\n",
    "print(df_m.shape,df_f.shape)"
   ]
  },
  {
   "cell_type": "code",
   "execution_count": 42,
   "metadata": {},
   "outputs": [
    {
     "name": "stdout",
     "output_type": "stream",
     "text": [
      "79871 461248\n",
      "27783 154740\n"
     ]
    }
   ],
   "source": [
    "train_ids =[]\n",
    "test_ids=[]\n",
    "count=0\n",
    "c_tr = 0\n",
    "c_ts=0\n",
    "limit = round(.75*df_m.Count.sum())\n",
    "for index, row in df_m.iterrows():\n",
    "    count+= row['Count']\n",
    "    \n",
    "    if(count<= limit):\n",
    "        train_ids.append(row['Name'])\n",
    "        c_tr+= row['Count']\n",
    "    else:\n",
    "        test_ids.append(row['Name'])\n",
    "        c_ts+= row['Count']\n",
    "\n",
    "print(len(train_ids),c_tr)\n",
    "print(len(test_ids),c_ts)"
   ]
  },
  {
   "cell_type": "code",
   "execution_count": 43,
   "metadata": {},
   "outputs": [
    {
     "name": "stdout",
     "output_type": "stream",
     "text": [
      "121888 462017\n",
      "39827 154040\n"
     ]
    }
   ],
   "source": [
    "count=0\n",
    "c_tr = 0\n",
    "c_ts=0\n",
    "limit = round(.75*df_f.Count.sum())\n",
    "for index, row in df_f.iterrows():\n",
    "    count+= row['Count']\n",
    "    \n",
    "    if(count<= limit):\n",
    "        train_ids.append(row['Name'])\n",
    "        c_tr+= row['Count']\n",
    "    else:\n",
    "        test_ids.append(row['Name'])\n",
    "        c_ts+= row['Count']\n",
    "\n",
    "print(len(train_ids),c_tr)\n",
    "print(len(test_ids),c_ts)"
   ]
  },
  {
   "cell_type": "code",
   "execution_count": 44,
   "metadata": {},
   "outputs": [],
   "source": [
    "df_train = data.loc[data.Name.isin(train_ids)].reset_index()"
   ]
  },
  {
   "cell_type": "code",
   "execution_count": 45,
   "metadata": {},
   "outputs": [
    {
     "data": {
      "text/html": [
       "<div>\n",
       "<style scoped>\n",
       "    .dataframe tbody tr th:only-of-type {\n",
       "        vertical-align: middle;\n",
       "    }\n",
       "\n",
       "    .dataframe tbody tr th {\n",
       "        vertical-align: top;\n",
       "    }\n",
       "\n",
       "    .dataframe thead th {\n",
       "        text-align: right;\n",
       "    }\n",
       "</style>\n",
       "<table border=\"1\" class=\"dataframe\">\n",
       "  <thead>\n",
       "    <tr style=\"text-align: right;\">\n",
       "      <th></th>\n",
       "      <th>index</th>\n",
       "      <th>Name</th>\n",
       "      <th>Post</th>\n",
       "      <th>Gender</th>\n",
       "    </tr>\n",
       "  </thead>\n",
       "  <tbody>\n",
       "    <tr>\n",
       "      <th>0</th>\n",
       "      <td>0</td>\n",
       "      <td>Joseph Mansfield</td>\n",
       "      <td>\"that's what the carriage return character is ...</td>\n",
       "      <td>male</td>\n",
       "    </tr>\n",
       "    <tr>\n",
       "      <th>1</th>\n",
       "      <td>1</td>\n",
       "      <td>Hank</td>\n",
       "      <td>since i have no control of which connections a...</td>\n",
       "      <td>male</td>\n",
       "    </tr>\n",
       "    <tr>\n",
       "      <th>2</th>\n",
       "      <td>2</td>\n",
       "      <td>Quentin Hayot</td>\n",
       "      <td>if you really need to download your data every...</td>\n",
       "      <td>male</td>\n",
       "    </tr>\n",
       "    <tr>\n",
       "      <th>3</th>\n",
       "      <td>3</td>\n",
       "      <td>James Dunay</td>\n",
       "      <td>\"i can't figure out whats happening here and w...</td>\n",
       "      <td>male</td>\n",
       "    </tr>\n",
       "    <tr>\n",
       "      <th>4</th>\n",
       "      <td>5</td>\n",
       "      <td>Brian Ball</td>\n",
       "      <td>there are already some good suggestions. i wou...</td>\n",
       "      <td>male</td>\n",
       "    </tr>\n",
       "  </tbody>\n",
       "</table>\n",
       "</div>"
      ],
      "text/plain": [
       "   index              Name                                               Post  \\\n",
       "0      0  Joseph Mansfield  \"that's what the carriage return character is ...   \n",
       "1      1              Hank  since i have no control of which connections a...   \n",
       "2      2     Quentin Hayot  if you really need to download your data every...   \n",
       "3      3       James Dunay  \"i can't figure out whats happening here and w...   \n",
       "4      5        Brian Ball  there are already some good suggestions. i wou...   \n",
       "\n",
       "  Gender  \n",
       "0   male  \n",
       "1   male  \n",
       "2   male  \n",
       "3   male  \n",
       "4   male  "
      ]
     },
     "execution_count": 45,
     "metadata": {},
     "output_type": "execute_result"
    }
   ],
   "source": [
    "df_train.head()"
   ]
  },
  {
   "cell_type": "code",
   "execution_count": 47,
   "metadata": {},
   "outputs": [
    {
     "data": {
      "text/plain": [
       "(923341, 4)"
      ]
     },
     "execution_count": 47,
     "metadata": {},
     "output_type": "execute_result"
    }
   ],
   "source": [
    "df_train.shape"
   ]
  },
  {
   "cell_type": "code",
   "execution_count": 48,
   "metadata": {},
   "outputs": [],
   "source": [
    "df_test = data.loc[data.Name.isin(test_ids)].reset_index()"
   ]
  },
  {
   "cell_type": "code",
   "execution_count": 49,
   "metadata": {},
   "outputs": [
    {
     "data": {
      "text/plain": [
       "(308789, 4)"
      ]
     },
     "execution_count": 49,
     "metadata": {},
     "output_type": "execute_result"
    }
   ],
   "source": [
    "df_test.shape"
   ]
  },
  {
   "cell_type": "code",
   "execution_count": 50,
   "metadata": {},
   "outputs": [],
   "source": [
    "df_train.drop(['index'],axis=1, inplace=True)\n",
    "df_test.drop(['index'],axis=1, inplace=True)"
   ]
  },
  {
   "cell_type": "code",
   "execution_count": 51,
   "metadata": {},
   "outputs": [],
   "source": [
    "df_train.drop(['Name'],axis=1, inplace=True)"
   ]
  },
  {
   "cell_type": "code",
   "execution_count": 52,
   "metadata": {},
   "outputs": [
    {
     "data": {
      "text/html": [
       "<div>\n",
       "<style scoped>\n",
       "    .dataframe tbody tr th:only-of-type {\n",
       "        vertical-align: middle;\n",
       "    }\n",
       "\n",
       "    .dataframe tbody tr th {\n",
       "        vertical-align: top;\n",
       "    }\n",
       "\n",
       "    .dataframe thead th {\n",
       "        text-align: right;\n",
       "    }\n",
       "</style>\n",
       "<table border=\"1\" class=\"dataframe\">\n",
       "  <thead>\n",
       "    <tr style=\"text-align: right;\">\n",
       "      <th></th>\n",
       "      <th>Post</th>\n",
       "      <th>Label</th>\n",
       "    </tr>\n",
       "  </thead>\n",
       "  <tbody>\n",
       "    <tr>\n",
       "      <th>0</th>\n",
       "      <td>\"that's what the carriage return character is ...</td>\n",
       "      <td>0</td>\n",
       "    </tr>\n",
       "    <tr>\n",
       "      <th>1</th>\n",
       "      <td>since i have no control of which connections a...</td>\n",
       "      <td>0</td>\n",
       "    </tr>\n",
       "    <tr>\n",
       "      <th>2</th>\n",
       "      <td>if you really need to download your data every...</td>\n",
       "      <td>0</td>\n",
       "    </tr>\n",
       "    <tr>\n",
       "      <th>3</th>\n",
       "      <td>\"i can't figure out whats happening here and w...</td>\n",
       "      <td>0</td>\n",
       "    </tr>\n",
       "    <tr>\n",
       "      <th>4</th>\n",
       "      <td>there are already some good suggestions. i wou...</td>\n",
       "      <td>0</td>\n",
       "    </tr>\n",
       "  </tbody>\n",
       "</table>\n",
       "</div>"
      ],
      "text/plain": [
       "                                                Post  Label\n",
       "0  \"that's what the carriage return character is ...      0\n",
       "1  since i have no control of which connections a...      0\n",
       "2  if you really need to download your data every...      0\n",
       "3  \"i can't figure out whats happening here and w...      0\n",
       "4  there are already some good suggestions. i wou...      0"
      ]
     },
     "execution_count": 52,
     "metadata": {},
     "output_type": "execute_result"
    }
   ],
   "source": [
    "df_train['Label'] = pd.get_dummies(df_train.Gender)['female']\n",
    "df_train.drop(['Gender'],axis=1, inplace=True)\n",
    "df_train.head()"
   ]
  },
  {
   "cell_type": "code",
   "execution_count": 53,
   "metadata": {},
   "outputs": [],
   "source": [
    "df_train = df_train[['Label','Post']]"
   ]
  },
  {
   "cell_type": "code",
   "execution_count": 54,
   "metadata": {},
   "outputs": [
    {
     "data": {
      "text/html": [
       "<div>\n",
       "<style scoped>\n",
       "    .dataframe tbody tr th:only-of-type {\n",
       "        vertical-align: middle;\n",
       "    }\n",
       "\n",
       "    .dataframe tbody tr th {\n",
       "        vertical-align: top;\n",
       "    }\n",
       "\n",
       "    .dataframe thead th {\n",
       "        text-align: right;\n",
       "    }\n",
       "</style>\n",
       "<table border=\"1\" class=\"dataframe\">\n",
       "  <thead>\n",
       "    <tr style=\"text-align: right;\">\n",
       "      <th></th>\n",
       "      <th>Label</th>\n",
       "      <th>Post</th>\n",
       "    </tr>\n",
       "  </thead>\n",
       "  <tbody>\n",
       "    <tr>\n",
       "      <th>0</th>\n",
       "      <td>0</td>\n",
       "      <td>\"that's what the carriage return character is ...</td>\n",
       "    </tr>\n",
       "    <tr>\n",
       "      <th>1</th>\n",
       "      <td>0</td>\n",
       "      <td>since i have no control of which connections a...</td>\n",
       "    </tr>\n",
       "    <tr>\n",
       "      <th>2</th>\n",
       "      <td>0</td>\n",
       "      <td>if you really need to download your data every...</td>\n",
       "    </tr>\n",
       "    <tr>\n",
       "      <th>3</th>\n",
       "      <td>0</td>\n",
       "      <td>\"i can't figure out whats happening here and w...</td>\n",
       "    </tr>\n",
       "    <tr>\n",
       "      <th>4</th>\n",
       "      <td>0</td>\n",
       "      <td>there are already some good suggestions. i wou...</td>\n",
       "    </tr>\n",
       "  </tbody>\n",
       "</table>\n",
       "</div>"
      ],
      "text/plain": [
       "   Label                                               Post\n",
       "0      0  \"that's what the carriage return character is ...\n",
       "1      0  since i have no control of which connections a...\n",
       "2      0  if you really need to download your data every...\n",
       "3      0  \"i can't figure out whats happening here and w...\n",
       "4      0  there are already some good suggestions. i wou..."
      ]
     },
     "execution_count": 54,
     "metadata": {},
     "output_type": "execute_result"
    }
   ],
   "source": [
    "df_train.head()"
   ]
  },
  {
   "cell_type": "code",
   "execution_count": 55,
   "metadata": {},
   "outputs": [
    {
     "data": {
      "text/html": [
       "<div>\n",
       "<style scoped>\n",
       "    .dataframe tbody tr th:only-of-type {\n",
       "        vertical-align: middle;\n",
       "    }\n",
       "\n",
       "    .dataframe tbody tr th {\n",
       "        vertical-align: top;\n",
       "    }\n",
       "\n",
       "    .dataframe thead th {\n",
       "        text-align: right;\n",
       "    }\n",
       "</style>\n",
       "<table border=\"1\" class=\"dataframe\">\n",
       "  <thead>\n",
       "    <tr style=\"text-align: right;\">\n",
       "      <th></th>\n",
       "      <th>Label</th>\n",
       "      <th>Post</th>\n",
       "    </tr>\n",
       "  </thead>\n",
       "  <tbody>\n",
       "    <tr>\n",
       "      <th>0</th>\n",
       "      <td>0</td>\n",
       "      <td>you should store the fact that that a row as b...</td>\n",
       "    </tr>\n",
       "    <tr>\n",
       "      <th>1</th>\n",
       "      <td>0</td>\n",
       "      <td>django 1.9.7 postgresql could you help me unde...</td>\n",
       "    </tr>\n",
       "    <tr>\n",
       "      <th>2</th>\n",
       "      <td>1</td>\n",
       "      <td>\"we have a lot of ajax calls in our applicatio...</td>\n",
       "    </tr>\n",
       "    <tr>\n",
       "      <th>3</th>\n",
       "      <td>0</td>\n",
       "      <td>\"i am trying to implement a program that will ...</td>\n",
       "    </tr>\n",
       "    <tr>\n",
       "      <th>4</th>\n",
       "      <td>1</td>\n",
       "      <td>when an element is fixed, it needs its coordin...</td>\n",
       "    </tr>\n",
       "  </tbody>\n",
       "</table>\n",
       "</div>"
      ],
      "text/plain": [
       "   Label                                               Post\n",
       "0      0  you should store the fact that that a row as b...\n",
       "1      0  django 1.9.7 postgresql could you help me unde...\n",
       "2      1  \"we have a lot of ajax calls in our applicatio...\n",
       "3      0  \"i am trying to implement a program that will ...\n",
       "4      1  when an element is fixed, it needs its coordin..."
      ]
     },
     "execution_count": 55,
     "metadata": {},
     "output_type": "execute_result"
    }
   ],
   "source": [
    "df_train = df_train.sample(frac = 1).reset_index(drop=True)\n",
    "df_train.head()"
   ]
  },
  {
   "cell_type": "code",
   "execution_count": 56,
   "metadata": {},
   "outputs": [],
   "source": [
    "df_train.to_csv(\"/home/rachneet/datasets/stack_overflow/train_so.csv\",encoding = 'utf-8',header=False,index=False,na_rep=string)"
   ]
  },
  {
   "cell_type": "code",
   "execution_count": 57,
   "metadata": {},
   "outputs": [
    {
     "data": {
      "text/html": [
       "<div>\n",
       "<style scoped>\n",
       "    .dataframe tbody tr th:only-of-type {\n",
       "        vertical-align: middle;\n",
       "    }\n",
       "\n",
       "    .dataframe tbody tr th {\n",
       "        vertical-align: top;\n",
       "    }\n",
       "\n",
       "    .dataframe thead th {\n",
       "        text-align: right;\n",
       "    }\n",
       "</style>\n",
       "<table border=\"1\" class=\"dataframe\">\n",
       "  <thead>\n",
       "    <tr style=\"text-align: right;\">\n",
       "      <th></th>\n",
       "      <th>Name</th>\n",
       "      <th>Label</th>\n",
       "      <th>Post</th>\n",
       "    </tr>\n",
       "  </thead>\n",
       "  <tbody>\n",
       "    <tr>\n",
       "      <th>0</th>\n",
       "      <td>Zack Macomber</td>\n",
       "      <td>0</td>\n",
       "      <td>\"i have the following scope function in my con...</td>\n",
       "    </tr>\n",
       "    <tr>\n",
       "      <th>1</th>\n",
       "      <td>Tim</td>\n",
       "      <td>0</td>\n",
       "      <td>file.readlines returns an ienumerable&lt;string&gt;,...</td>\n",
       "    </tr>\n",
       "    <tr>\n",
       "      <th>2</th>\n",
       "      <td>Xander Angell</td>\n",
       "      <td>1</td>\n",
       "      <td>i am working in html 5 and wanted to add an im...</td>\n",
       "    </tr>\n",
       "    <tr>\n",
       "      <th>3</th>\n",
       "      <td>Trevor Hickey</td>\n",
       "      <td>0</td>\n",
       "      <td>\"i understand the motivation for using std::st...</td>\n",
       "    </tr>\n",
       "    <tr>\n",
       "      <th>4</th>\n",
       "      <td>murielg</td>\n",
       "      <td>1</td>\n",
       "      <td>\"i am trying to append a string, myoutput, rig...</td>\n",
       "    </tr>\n",
       "  </tbody>\n",
       "</table>\n",
       "</div>"
      ],
      "text/plain": [
       "            Name  Label                                               Post\n",
       "0  Zack Macomber      0  \"i have the following scope function in my con...\n",
       "1            Tim      0  file.readlines returns an ienumerable<string>,...\n",
       "2  Xander Angell      1  i am working in html 5 and wanted to add an im...\n",
       "3  Trevor Hickey      0  \"i understand the motivation for using std::st...\n",
       "4        murielg      1  \"i am trying to append a string, myoutput, rig..."
      ]
     },
     "execution_count": 57,
     "metadata": {},
     "output_type": "execute_result"
    }
   ],
   "source": [
    "df_test['Label'] = pd.get_dummies(df_test.Gender)['female']\n",
    "df_test.drop(['Gender'],axis=1, inplace=True)\n",
    "df_test = df_test[['Name','Label','Post']]\n",
    "df_test = df_test.sample(frac = 1).reset_index(drop=True)\n",
    "df_test.head()"
   ]
  },
  {
   "cell_type": "code",
   "execution_count": 58,
   "metadata": {},
   "outputs": [
    {
     "name": "stdout",
     "output_type": "stream",
     "text": [
      "(247031, 3) (61758, 3)\n"
     ]
    }
   ],
   "source": [
    "x = round(df_test.shape[0] * 0.80)\n",
    "test_set = df_test.iloc[:x]\n",
    "val_set = df_test.iloc[x:]\n",
    "print(test_set.shape, val_set.shape)"
   ]
  },
  {
   "cell_type": "code",
   "execution_count": 59,
   "metadata": {},
   "outputs": [
    {
     "data": {
      "text/html": [
       "<div>\n",
       "<style scoped>\n",
       "    .dataframe tbody tr th:only-of-type {\n",
       "        vertical-align: middle;\n",
       "    }\n",
       "\n",
       "    .dataframe tbody tr th {\n",
       "        vertical-align: top;\n",
       "    }\n",
       "\n",
       "    .dataframe thead th {\n",
       "        text-align: right;\n",
       "    }\n",
       "</style>\n",
       "<table border=\"1\" class=\"dataframe\">\n",
       "  <thead>\n",
       "    <tr style=\"text-align: right;\">\n",
       "      <th></th>\n",
       "      <th>Name</th>\n",
       "      <th>Label</th>\n",
       "      <th>Post</th>\n",
       "    </tr>\n",
       "  </thead>\n",
       "  <tbody>\n",
       "    <tr>\n",
       "      <th>0</th>\n",
       "      <td>Zack Macomber</td>\n",
       "      <td>0</td>\n",
       "      <td>\"i have the following scope function in my con...</td>\n",
       "    </tr>\n",
       "    <tr>\n",
       "      <th>1</th>\n",
       "      <td>Tim</td>\n",
       "      <td>0</td>\n",
       "      <td>file.readlines returns an ienumerable&lt;string&gt;,...</td>\n",
       "    </tr>\n",
       "    <tr>\n",
       "      <th>2</th>\n",
       "      <td>Xander Angell</td>\n",
       "      <td>1</td>\n",
       "      <td>i am working in html 5 and wanted to add an im...</td>\n",
       "    </tr>\n",
       "    <tr>\n",
       "      <th>3</th>\n",
       "      <td>Trevor Hickey</td>\n",
       "      <td>0</td>\n",
       "      <td>\"i understand the motivation for using std::st...</td>\n",
       "    </tr>\n",
       "    <tr>\n",
       "      <th>4</th>\n",
       "      <td>murielg</td>\n",
       "      <td>1</td>\n",
       "      <td>\"i am trying to append a string, myoutput, rig...</td>\n",
       "    </tr>\n",
       "  </tbody>\n",
       "</table>\n",
       "</div>"
      ],
      "text/plain": [
       "            Name  Label                                               Post\n",
       "0  Zack Macomber      0  \"i have the following scope function in my con...\n",
       "1            Tim      0  file.readlines returns an ienumerable<string>,...\n",
       "2  Xander Angell      1  i am working in html 5 and wanted to add an im...\n",
       "3  Trevor Hickey      0  \"i understand the motivation for using std::st...\n",
       "4        murielg      1  \"i am trying to append a string, myoutput, rig..."
      ]
     },
     "execution_count": 59,
     "metadata": {},
     "output_type": "execute_result"
    }
   ],
   "source": [
    "test_set.head()"
   ]
  },
  {
   "cell_type": "code",
   "execution_count": 60,
   "metadata": {},
   "outputs": [],
   "source": [
    "test_set.to_csv(\"/home/rachneet/datasets/stack_overflow/test_so.csv\",encoding = 'utf-8',header=False,index=False,na_rep=string)"
   ]
  },
  {
   "cell_type": "code",
   "execution_count": 61,
   "metadata": {},
   "outputs": [
    {
     "name": "stderr",
     "output_type": "stream",
     "text": [
      "/home/rachneet/.local/lib/python3.6/site-packages/pandas/core/frame.py:3940: SettingWithCopyWarning: \n",
      "A value is trying to be set on a copy of a slice from a DataFrame\n",
      "\n",
      "See the caveats in the documentation: http://pandas.pydata.org/pandas-docs/stable/indexing.html#indexing-view-versus-copy\n",
      "  errors=errors)\n"
     ]
    },
    {
     "data": {
      "text/html": [
       "<div>\n",
       "<style scoped>\n",
       "    .dataframe tbody tr th:only-of-type {\n",
       "        vertical-align: middle;\n",
       "    }\n",
       "\n",
       "    .dataframe tbody tr th {\n",
       "        vertical-align: top;\n",
       "    }\n",
       "\n",
       "    .dataframe thead th {\n",
       "        text-align: right;\n",
       "    }\n",
       "</style>\n",
       "<table border=\"1\" class=\"dataframe\">\n",
       "  <thead>\n",
       "    <tr style=\"text-align: right;\">\n",
       "      <th></th>\n",
       "      <th>Label</th>\n",
       "      <th>Post</th>\n",
       "    </tr>\n",
       "  </thead>\n",
       "  <tbody>\n",
       "    <tr>\n",
       "      <th>247031</th>\n",
       "      <td>0</td>\n",
       "      <td>\"i did it shown in this example: http://blog.s...</td>\n",
       "    </tr>\n",
       "    <tr>\n",
       "      <th>247032</th>\n",
       "      <td>0</td>\n",
       "      <td>\"please read the comments to this post underst...</td>\n",
       "    </tr>\n",
       "    <tr>\n",
       "      <th>247033</th>\n",
       "      <td>0</td>\n",
       "      <td>\"i'm trying to hide/show an action bar button ...</td>\n",
       "    </tr>\n",
       "    <tr>\n",
       "      <th>247034</th>\n",
       "      <td>1</td>\n",
       "      <td>i'm wondering where are gcc macros like builti...</td>\n",
       "    </tr>\n",
       "    <tr>\n",
       "      <th>247035</th>\n",
       "      <td>1</td>\n",
       "      <td>i am looking for a good wiki software to host ...</td>\n",
       "    </tr>\n",
       "  </tbody>\n",
       "</table>\n",
       "</div>"
      ],
      "text/plain": [
       "        Label                                               Post\n",
       "247031      0  \"i did it shown in this example: http://blog.s...\n",
       "247032      0  \"please read the comments to this post underst...\n",
       "247033      0  \"i'm trying to hide/show an action bar button ...\n",
       "247034      1  i'm wondering where are gcc macros like builti...\n",
       "247035      1  i am looking for a good wiki software to host ..."
      ]
     },
     "execution_count": 61,
     "metadata": {},
     "output_type": "execute_result"
    }
   ],
   "source": [
    "val_set.drop(['Name'],axis=1, inplace=True)\n",
    "val_set.head()"
   ]
  },
  {
   "cell_type": "code",
   "execution_count": 62,
   "metadata": {},
   "outputs": [],
   "source": [
    "val_set.to_csv(\"/home/rachneet/datasets/stack_overflow/validation_so.csv\",encoding = 'utf-8',header=False,index=False,na_rep=string)"
   ]
  },
  {
   "cell_type": "code",
   "execution_count": null,
   "metadata": {},
   "outputs": [],
   "source": []
  }
 ],
 "metadata": {
  "kernelspec": {
   "display_name": "Python 3",
   "language": "python",
   "name": "python3"
  },
  "language_info": {
   "codemirror_mode": {
    "name": "ipython",
    "version": 3
   },
   "file_extension": ".py",
   "mimetype": "text/x-python",
   "name": "python",
   "nbconvert_exporter": "python",
   "pygments_lexer": "ipython3",
   "version": "3.7.3"
  }
 },
 "nbformat": 4,
 "nbformat_minor": 2
}
