{
 "cells": [
  {
   "cell_type": "markdown",
   "metadata": {},
   "source": [
    "# A user can have multiple reivews, and each review could be labeled as female or male so that a user can act as bi-gender. We must decide which gender is taken"
   ]
  },
  {
   "cell_type": "markdown",
   "metadata": {},
   "source": [
    "# Yelp"
   ]
  },
  {
   "cell_type": "code",
   "execution_count": null,
   "metadata": {},
   "outputs": [],
   "source": [
    "import pandas as pd\n",
    "from pathlib import Path\n",
    "\n",
    "dataset_dir = Path.cwd() / 'csv_files/yelp'\n",
    "inference_result_df = pd.read_csv(dataset_dir / 'inference_result_RNN_vanilla_2.csv', usecols=['Predicted_label', 'ReviewerID'])\n",
    "inference_result_df.head()"
   ]
  },
  {
   "cell_type": "markdown",
   "metadata": {},
   "source": [
    "# StackExchange"
   ]
  },
  {
   "cell_type": "code",
   "execution_count": 1,
   "metadata": {},
   "outputs": [
    {
     "data": {
      "text/html": [
       "<div>\n",
       "<style scoped>\n",
       "    .dataframe tbody tr th:only-of-type {\n",
       "        vertical-align: middle;\n",
       "    }\n",
       "\n",
       "    .dataframe tbody tr th {\n",
       "        vertical-align: top;\n",
       "    }\n",
       "\n",
       "    .dataframe thead th {\n",
       "        text-align: right;\n",
       "    }\n",
       "</style>\n",
       "<table border=\"1\" class=\"dataframe\">\n",
       "  <thead>\n",
       "    <tr style=\"text-align: right;\">\n",
       "      <th></th>\n",
       "      <th>Predicted_label</th>\n",
       "      <th>ReviewerID</th>\n",
       "    </tr>\n",
       "  </thead>\n",
       "  <tbody>\n",
       "    <tr>\n",
       "      <th>0</th>\n",
       "      <td>0</td>\n",
       "      <td>169</td>\n",
       "    </tr>\n",
       "    <tr>\n",
       "      <th>1</th>\n",
       "      <td>0</td>\n",
       "      <td>157</td>\n",
       "    </tr>\n",
       "    <tr>\n",
       "      <th>2</th>\n",
       "      <td>0</td>\n",
       "      <td>157</td>\n",
       "    </tr>\n",
       "    <tr>\n",
       "      <th>3</th>\n",
       "      <td>0</td>\n",
       "      <td>51</td>\n",
       "    </tr>\n",
       "    <tr>\n",
       "      <th>4</th>\n",
       "      <td>0</td>\n",
       "      <td>603</td>\n",
       "    </tr>\n",
       "  </tbody>\n",
       "</table>\n",
       "</div>"
      ],
      "text/plain": [
       "   Predicted_label  ReviewerID\n",
       "0                0         169\n",
       "1                0         157\n",
       "2                0         157\n",
       "3                0          51\n",
       "4                0         603"
      ]
     },
     "execution_count": 1,
     "metadata": {},
     "output_type": "execute_result"
    }
   ],
   "source": [
    "import pandas as pd\n",
    "from pathlib import Path\n",
    "\n",
    "dataset_dir = Path.cwd() / 'csv_files/stackexchange'\n",
    "inference_result_df = pd.read_csv(dataset_dir / 'inference_result_RNN_vanilla_2.csv', usecols=['Predicted_label', 'ReviewerID'])\n",
    "inference_result_df.head()"
   ]
  },
  {
   "cell_type": "code",
   "execution_count": 2,
   "metadata": {},
   "outputs": [
    {
     "data": {
      "text/html": [
       "<div>\n",
       "<style scoped>\n",
       "    .dataframe tbody tr th:only-of-type {\n",
       "        vertical-align: middle;\n",
       "    }\n",
       "\n",
       "    .dataframe tbody tr th {\n",
       "        vertical-align: top;\n",
       "    }\n",
       "\n",
       "    .dataframe thead th {\n",
       "        text-align: right;\n",
       "    }\n",
       "</style>\n",
       "<table border=\"1\" class=\"dataframe\">\n",
       "  <thead>\n",
       "    <tr style=\"text-align: right;\">\n",
       "      <th></th>\n",
       "      <th></th>\n",
       "      <th>Predicted_label</th>\n",
       "    </tr>\n",
       "    <tr>\n",
       "      <th>ReviewerID</th>\n",
       "      <th>Predicted_label</th>\n",
       "      <th></th>\n",
       "    </tr>\n",
       "  </thead>\n",
       "  <tbody>\n",
       "    <tr>\n",
       "      <th>8</th>\n",
       "      <th>0</th>\n",
       "      <td>3</td>\n",
       "    </tr>\n",
       "    <tr>\n",
       "      <th>15</th>\n",
       "      <th>0</th>\n",
       "      <td>14</td>\n",
       "    </tr>\n",
       "    <tr>\n",
       "      <th>17</th>\n",
       "      <th>0</th>\n",
       "      <td>2</td>\n",
       "    </tr>\n",
       "    <tr>\n",
       "      <th>21</th>\n",
       "      <th>0</th>\n",
       "      <td>7</td>\n",
       "    </tr>\n",
       "    <tr>\n",
       "      <th>22</th>\n",
       "      <th>0</th>\n",
       "      <td>4</td>\n",
       "    </tr>\n",
       "  </tbody>\n",
       "</table>\n",
       "</div>"
      ],
      "text/plain": [
       "                            Predicted_label\n",
       "ReviewerID Predicted_label                 \n",
       "8          0                              3\n",
       "15         0                             14\n",
       "17         0                              2\n",
       "21         0                              7\n",
       "22         0                              4"
      ]
     },
     "execution_count": 2,
     "metadata": {},
     "output_type": "execute_result"
    }
   ],
   "source": [
    "inference_result_grouped_df = inference_result_df.groupby('ReviewerID').agg({'Predicted_label': 'value_counts'})\n",
    "inference_result_grouped_df.head()"
   ]
  },
  {
   "cell_type": "code",
   "execution_count": 3,
   "metadata": {},
   "outputs": [
    {
     "data": {
      "text/html": [
       "<div>\n",
       "<style scoped>\n",
       "    .dataframe tbody tr th:only-of-type {\n",
       "        vertical-align: middle;\n",
       "    }\n",
       "\n",
       "    .dataframe tbody tr th {\n",
       "        vertical-align: top;\n",
       "    }\n",
       "\n",
       "    .dataframe thead th {\n",
       "        text-align: right;\n",
       "    }\n",
       "</style>\n",
       "<table border=\"1\" class=\"dataframe\">\n",
       "  <thead>\n",
       "    <tr style=\"text-align: right;\">\n",
       "      <th></th>\n",
       "      <th>Predicted_label</th>\n",
       "    </tr>\n",
       "    <tr>\n",
       "      <th>ReviewerID</th>\n",
       "      <th></th>\n",
       "    </tr>\n",
       "  </thead>\n",
       "  <tbody>\n",
       "    <tr>\n",
       "      <th>8</th>\n",
       "      <td>0</td>\n",
       "    </tr>\n",
       "    <tr>\n",
       "      <th>15</th>\n",
       "      <td>0</td>\n",
       "    </tr>\n",
       "    <tr>\n",
       "      <th>17</th>\n",
       "      <td>0</td>\n",
       "    </tr>\n",
       "    <tr>\n",
       "      <th>21</th>\n",
       "      <td>0</td>\n",
       "    </tr>\n",
       "    <tr>\n",
       "      <th>22</th>\n",
       "      <td>0</td>\n",
       "    </tr>\n",
       "  </tbody>\n",
       "</table>\n",
       "</div>"
      ],
      "text/plain": [
       "            Predicted_label\n",
       "ReviewerID                 \n",
       "8                         0\n",
       "15                        0\n",
       "17                        0\n",
       "21                        0\n",
       "22                        0"
      ]
     },
     "execution_count": 3,
     "metadata": {},
     "output_type": "execute_result"
    }
   ],
   "source": [
    "majority_voting_result_ser = inference_result_df.groupby('ReviewerID').max()\n",
    "majority_voting_result_ser.head()"
   ]
  },
  {
   "cell_type": "code",
   "execution_count": 4,
   "metadata": {},
   "outputs": [],
   "source": [
    "majority_voting_result_df = pd.DataFrame(majority_voting_result_ser.Predicted_label).reset_index()"
   ]
  },
  {
   "cell_type": "code",
   "execution_count": 5,
   "metadata": {},
   "outputs": [
    {
     "data": {
      "text/html": [
       "<div>\n",
       "<style scoped>\n",
       "    .dataframe tbody tr th:only-of-type {\n",
       "        vertical-align: middle;\n",
       "    }\n",
       "\n",
       "    .dataframe tbody tr th {\n",
       "        vertical-align: top;\n",
       "    }\n",
       "\n",
       "    .dataframe thead th {\n",
       "        text-align: right;\n",
       "    }\n",
       "</style>\n",
       "<table border=\"1\" class=\"dataframe\">\n",
       "  <thead>\n",
       "    <tr style=\"text-align: right;\">\n",
       "      <th></th>\n",
       "      <th>UserId</th>\n",
       "      <th>PredictedGender</th>\n",
       "    </tr>\n",
       "  </thead>\n",
       "  <tbody>\n",
       "    <tr>\n",
       "      <th>0</th>\n",
       "      <td>8</td>\n",
       "      <td>0</td>\n",
       "    </tr>\n",
       "    <tr>\n",
       "      <th>1</th>\n",
       "      <td>15</td>\n",
       "      <td>0</td>\n",
       "    </tr>\n",
       "    <tr>\n",
       "      <th>2</th>\n",
       "      <td>17</td>\n",
       "      <td>0</td>\n",
       "    </tr>\n",
       "    <tr>\n",
       "      <th>3</th>\n",
       "      <td>21</td>\n",
       "      <td>0</td>\n",
       "    </tr>\n",
       "    <tr>\n",
       "      <th>4</th>\n",
       "      <td>22</td>\n",
       "      <td>0</td>\n",
       "    </tr>\n",
       "  </tbody>\n",
       "</table>\n",
       "</div>"
      ],
      "text/plain": [
       "   UserId  PredictedGender\n",
       "0       8                0\n",
       "1      15                0\n",
       "2      17                0\n",
       "3      21                0\n",
       "4      22                0"
      ]
     },
     "execution_count": 5,
     "metadata": {},
     "output_type": "execute_result"
    }
   ],
   "source": [
    "majority_voting_result_df.columns = ['UserId', 'PredictedGender']\n",
    "majority_voting_result_df.head()"
   ]
  },
  {
   "cell_type": "code",
   "execution_count": 6,
   "metadata": {},
   "outputs": [
    {
     "data": {
      "text/plain": [
       "0    4326\n",
       "1       3\n",
       "Name: PredictedGender, dtype: int64"
      ]
     },
     "execution_count": 6,
     "metadata": {},
     "output_type": "execute_result"
    }
   ],
   "source": [
    "majority_voting_result_df.PredictedGender.value_counts()"
   ]
  },
  {
   "cell_type": "code",
   "execution_count": 7,
   "metadata": {},
   "outputs": [
    {
     "name": "stdout",
     "output_type": "stream",
     "text": [
      "undisclosed\n",
      "   UserId                                         AnswerText  PostTypeId  \\\n",
      "0      41  in comparison to other comparison-based sortin...           2   \n",
      "1      44  assuming you are storing a reference, not the ...           2   \n",
      "2      29  i think one of the main reasons why quicksort ...           2   \n",
      "3      22  even though quick-sort has a worst case run ti...           2   \n",
      "4      59  in the cooperative scheduling (preferably coop...           2   \n",
      "\n",
      "              CreationDate  Score          Name  Reputation   Gender  \n",
      "0  2012-03-06T19:19:20.237     20         Kaveh       18213     andy  \n",
      "1  2012-03-06T19:44:17.600      8  Rafe Kettler         181  unknown  \n",
      "2  2012-03-06T19:48:00.343     34         svick        1726  unknown  \n",
      "3  2012-03-06T20:18:27.510     16           0x0         565  unknown  \n",
      "4  2012-03-06T20:19:10.463      4         Ankit         627     andy  \n"
     ]
    }
   ],
   "source": [
    "import pandas as pd\n",
    "\n",
    "# so far only undisclosed needs to be voted\n",
    "disclosed_flag = False\n",
    "if disclosed_flag:\n",
    "    disclosed_dataset_df = pd.read_csv(dataset_dir / 'disclosed_dataset.csv')\n",
    "    mapping = {'female' : 1, 'male' : 0}\n",
    "    disclosed_dataset_df.replace({'Gender': mapping}, inplace=True)\n",
    "    test_df = disclosed_dataset_df.head()\n",
    "else:\n",
    "    print('undisclosed')\n",
    "    undisclosed_csv_df = pd.read_csv(dataset_dir / 'undisclosed_dataset.csv', header=0)\n",
    "    print(undisclosed_csv_df.head())\n"
   ]
  },
  {
   "cell_type": "markdown",
   "metadata": {},
   "source": [
    "# only for test"
   ]
  },
  {
   "cell_type": "code",
   "execution_count": null,
   "metadata": {},
   "outputs": [],
   "source": [
    "test_df = disclosed_dataset_df.iloc[1:100]"
   ]
  },
  {
   "cell_type": "code",
   "execution_count": null,
   "metadata": {},
   "outputs": [],
   "source": [
    "test_tmp = test_df.groupby('UserId').apply(lambda g: g.gender.mode())\n",
    "test_tmp.head()"
   ]
  },
  {
   "cell_type": "code",
   "execution_count": null,
   "metadata": {},
   "outputs": [],
   "source": [
    "ser = test_tmp.gender.groupby('UserId').max(level=0)\n",
    "ser"
   ]
  },
  {
   "cell_type": "code",
   "execution_count": null,
   "metadata": {},
   "outputs": [],
   "source": [
    "#"
   ]
  },
  {
   "cell_type": "markdown",
   "metadata": {},
   "source": [
    "# Merge"
   ]
  },
  {
   "cell_type": "code",
   "execution_count": 8,
   "metadata": {},
   "outputs": [],
   "source": [
    "merged_df = pd.merge(majority_voting_result_df, undisclosed_csv_df, on='UserId', how='outer')"
   ]
  },
  {
   "cell_type": "code",
   "execution_count": 10,
   "metadata": {},
   "outputs": [
    {
     "data": {
      "text/plain": [
       "683       5288\n",
       "755       2969\n",
       "17408      783\n",
       "91753      672\n",
       "4287       548\n",
       "8321       409\n",
       "39         376\n",
       "699        359\n",
       "6447       313\n",
       "472        312\n",
       "43599      307\n",
       "157        304\n",
       "1329       301\n",
       "2253       281\n",
       "72943      269\n",
       "7459       263\n",
       "35842      259\n",
       "6890       245\n",
       "6553       191\n",
       "2205       182\n",
       "4911       176\n",
       "83244      172\n",
       "22714      170\n",
       "140        167\n",
       "86844      154\n",
       "41         152\n",
       "4416       148\n",
       "4249       145\n",
       "70382      142\n",
       "45662      124\n",
       "          ... \n",
       "15472        1\n",
       "23660        1\n",
       "97384        1\n",
       "49429        1\n",
       "54352        1\n",
       "15440        1\n",
       "60650        1\n",
       "58603        1\n",
       "54525        1\n",
       "9491         1\n",
       "101782       1\n",
       "84164        1\n",
       "93578        1\n",
       "67788        1\n",
       "47322        1\n",
       "44402        1\n",
       "48496        1\n",
       "21869        1\n",
       "95593        1\n",
       "40292        1\n",
       "23900        1\n",
       "11586        1\n",
       "48448        1\n",
       "61667        1\n",
       "74465        1\n",
       "77106        1\n",
       "70949        1\n",
       "45307        1\n",
       "62745        1\n",
       "2047         1\n",
       "Name: UserId, Length: 4329, dtype: int64"
      ]
     },
     "execution_count": 10,
     "metadata": {},
     "output_type": "execute_result"
    }
   ],
   "source": [
    "# majority_voting_result_df.count\n",
    "undisclosed_csv_df.UserId.value_counts()"
   ]
  },
  {
   "cell_type": "code",
   "execution_count": 11,
   "metadata": {},
   "outputs": [
    {
     "data": {
      "text/plain": [
       "UserId          28889\n",
       "AnswerText      28888\n",
       "PostTypeId      28889\n",
       "CreationDate    28889\n",
       "Score           28889\n",
       "Name            28889\n",
       "Reputation      28889\n",
       "Gender          28889\n",
       "dtype: int64"
      ]
     },
     "execution_count": 11,
     "metadata": {},
     "output_type": "execute_result"
    }
   ],
   "source": [
    "undisclosed_csv_df.count()"
   ]
  },
  {
   "cell_type": "code",
   "execution_count": 12,
   "metadata": {},
   "outputs": [
    {
     "data": {
      "text/plain": [
       "UserId             4329\n",
       "PredictedGender    4329\n",
       "dtype: int64"
      ]
     },
     "execution_count": 12,
     "metadata": {},
     "output_type": "execute_result"
    }
   ],
   "source": [
    "majority_voting_result_df.count()"
   ]
  },
  {
   "cell_type": "code",
   "execution_count": 13,
   "metadata": {},
   "outputs": [
    {
     "data": {
      "text/plain": [
       "Predicted_label    4332\n",
       "dtype: int64"
      ]
     },
     "execution_count": 13,
     "metadata": {},
     "output_type": "execute_result"
    }
   ],
   "source": [
    "inference_result_grouped_df.count()"
   ]
  },
  {
   "cell_type": "code",
   "execution_count": 14,
   "metadata": {},
   "outputs": [
    {
     "data": {
      "text/plain": [
       "UserId             28889\n",
       "PredictedGender    28889\n",
       "AnswerText         28888\n",
       "PostTypeId         28889\n",
       "CreationDate       28889\n",
       "Score              28889\n",
       "Name               28889\n",
       "Reputation         28889\n",
       "Gender             28889\n",
       "dtype: int64"
      ]
     },
     "execution_count": 14,
     "metadata": {},
     "output_type": "execute_result"
    }
   ],
   "source": [
    "merged_df.count()"
   ]
  },
  {
   "cell_type": "code",
   "execution_count": 15,
   "metadata": {},
   "outputs": [
    {
     "data": {
      "text/plain": [
       "UserId             28888\n",
       "PredictedGender    28888\n",
       "AnswerText         28888\n",
       "PostTypeId         28888\n",
       "CreationDate       28888\n",
       "Score              28888\n",
       "Name               28888\n",
       "Reputation         28888\n",
       "Gender             28888\n",
       "dtype: int64"
      ]
     },
     "execution_count": 15,
     "metadata": {},
     "output_type": "execute_result"
    }
   ],
   "source": [
    "merged_dropna_df = merged_df.dropna()\n",
    "merged_dropna_df.count()"
   ]
  },
  {
   "cell_type": "code",
   "execution_count": 19,
   "metadata": {},
   "outputs": [
    {
     "name": "stderr",
     "output_type": "stream",
     "text": [
      "/home/yafei/.conda/envs/ma/lib/python3.7/site-packages/pandas/core/frame.py:3940: SettingWithCopyWarning: \n",
      "A value is trying to be set on a copy of a slice from a DataFrame\n",
      "\n",
      "See the caveats in the documentation: http://pandas.pydata.org/pandas-docs/stable/indexing.html#indexing-view-versus-copy\n",
      "  errors=errors)\n"
     ]
    },
    {
     "data": {
      "text/html": [
       "<div>\n",
       "<style scoped>\n",
       "    .dataframe tbody tr th:only-of-type {\n",
       "        vertical-align: middle;\n",
       "    }\n",
       "\n",
       "    .dataframe tbody tr th {\n",
       "        vertical-align: top;\n",
       "    }\n",
       "\n",
       "    .dataframe thead th {\n",
       "        text-align: right;\n",
       "    }\n",
       "</style>\n",
       "<table border=\"1\" class=\"dataframe\">\n",
       "  <thead>\n",
       "    <tr style=\"text-align: right;\">\n",
       "      <th></th>\n",
       "      <th>UserId</th>\n",
       "      <th>PredictedGender</th>\n",
       "      <th>AnswerText</th>\n",
       "      <th>PostTypeId</th>\n",
       "      <th>CreationDate</th>\n",
       "      <th>Score</th>\n",
       "      <th>Name</th>\n",
       "      <th>Reputation</th>\n",
       "    </tr>\n",
       "  </thead>\n",
       "  <tbody>\n",
       "    <tr>\n",
       "      <th>0</th>\n",
       "      <td>8</td>\n",
       "      <td>0</td>\n",
       "      <td>this is a problem of selecting the $k$th small...</td>\n",
       "      <td>2</td>\n",
       "      <td>2012-04-12T17:41:18.730</td>\n",
       "      <td>16</td>\n",
       "      <td>Opt</td>\n",
       "      <td>1146</td>\n",
       "    </tr>\n",
       "    <tr>\n",
       "      <th>1</th>\n",
       "      <td>8</td>\n",
       "      <td>0</td>\n",
       "      <td>i'd say the most well known barriers to solvin...</td>\n",
       "      <td>2</td>\n",
       "      <td>2012-05-17T02:27:37.430</td>\n",
       "      <td>76</td>\n",
       "      <td>Opt</td>\n",
       "      <td>1146</td>\n",
       "    </tr>\n",
       "    <tr>\n",
       "      <th>2</th>\n",
       "      <td>8</td>\n",
       "      <td>0</td>\n",
       "      <td>while the deductions made by $m$ can have equi...</td>\n",
       "      <td>2</td>\n",
       "      <td>2012-06-05T15:31:21.090</td>\n",
       "      <td>5</td>\n",
       "      <td>Opt</td>\n",
       "      <td>1146</td>\n",
       "    </tr>\n",
       "    <tr>\n",
       "      <th>3</th>\n",
       "      <td>15</td>\n",
       "      <td>0</td>\n",
       "      <td>this answer is about generic memory management...</td>\n",
       "      <td>2</td>\n",
       "      <td>2012-03-06T22:40:01.673</td>\n",
       "      <td>4</td>\n",
       "      <td>rgrig</td>\n",
       "      <td>1031</td>\n",
       "    </tr>\n",
       "    <tr>\n",
       "      <th>4</th>\n",
       "      <td>15</td>\n",
       "      <td>0</td>\n",
       "      <td>you get fewer special cases. in many situation...</td>\n",
       "      <td>2</td>\n",
       "      <td>2012-03-12T00:06:02.723</td>\n",
       "      <td>2</td>\n",
       "      <td>rgrig</td>\n",
       "      <td>1031</td>\n",
       "    </tr>\n",
       "  </tbody>\n",
       "</table>\n",
       "</div>"
      ],
      "text/plain": [
       "   UserId  PredictedGender                                         AnswerText  \\\n",
       "0       8                0  this is a problem of selecting the $k$th small...   \n",
       "1       8                0  i'd say the most well known barriers to solvin...   \n",
       "2       8                0  while the deductions made by $m$ can have equi...   \n",
       "3      15                0  this answer is about generic memory management...   \n",
       "4      15                0  you get fewer special cases. in many situation...   \n",
       "\n",
       "   PostTypeId             CreationDate  Score   Name  Reputation  \n",
       "0           2  2012-04-12T17:41:18.730     16    Opt        1146  \n",
       "1           2  2012-05-17T02:27:37.430     76    Opt        1146  \n",
       "2           2  2012-06-05T15:31:21.090      5    Opt        1146  \n",
       "3           2  2012-03-06T22:40:01.673      4  rgrig        1031  \n",
       "4           2  2012-03-12T00:06:02.723      2  rgrig        1031  "
      ]
     },
     "execution_count": 19,
     "metadata": {},
     "output_type": "execute_result"
    }
   ],
   "source": [
    "merged_dropna_df.drop(columns=['Gender'], inplace=True)\n",
    "merged_dropna_df.head()"
   ]
  },
  {
   "cell_type": "code",
   "execution_count": 20,
   "metadata": {},
   "outputs": [],
   "source": [
    "# fields = ['business_id','predicted_gender','useful','text', 'stars', 'timestamp']\n",
    "# merged_dropna_df = merged_dropna_df[fields]\n",
    "# merged_dropna_df.rename(columns={'predicted_gender': 'gender'})\n",
    "merged_dropna_df.to_csv(dataset_dir/ 'undisclosed_predicted_dataset.csv', index=False)"
   ]
  },
  {
   "cell_type": "code",
   "execution_count": null,
   "metadata": {},
   "outputs": [],
   "source": []
  }
 ],
 "metadata": {
  "kernelspec": {
   "display_name": "Python 3",
   "language": "python",
   "name": "python3"
  },
  "language_info": {
   "codemirror_mode": {
    "name": "ipython",
    "version": 3
   },
   "file_extension": ".py",
   "mimetype": "text/x-python",
   "name": "python",
   "nbconvert_exporter": "python",
   "pygments_lexer": "ipython3",
   "version": "3.7.3"
  }
 },
 "nbformat": 4,
 "nbformat_minor": 2
}
