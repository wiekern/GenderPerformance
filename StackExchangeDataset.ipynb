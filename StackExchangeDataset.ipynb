{
 "cells": [
  {
   "cell_type": "code",
   "execution_count": null,
   "metadata": {},
   "outputs": [],
   "source": [
    "import csv\n",
    "import pandas as pd\n",
    "import string\n",
    "# import requests\n",
    "from xml.dom import minidom\n",
    "import nltk\n",
    "from bs4 import BeautifulSoup\n",
    "from pathlib import Path\n",
    "dataset_dir = Path.cwd() / 'datasets/stackexchange'"
   ]
  },
  {
   "cell_type": "code",
   "execution_count": null,
   "metadata": {},
   "outputs": [],
   "source": [
    "import xml.etree.ElementTree as ET\n",
    "\n",
    "def xml2df(path):\n",
    "    tree = ET.parse(path)\n",
    "    root = tree.getroot()\n",
    "    data=[]\n",
    "    for child in root:\n",
    "        #print(child.attrib)\n",
    "        #df = pd.Series(child.attrib).to_frame()\n",
    "        data.append(child.attrib)\n",
    "    df = pd.DataFrame(data)\n",
    "    return df"
   ]
  },
  {
   "cell_type": "code",
   "execution_count": null,
   "metadata": {},
   "outputs": [],
   "source": [
    "# Posts.xml \n",
    "# PostTypeId = 1 Qeustion, Id: QuestionId, Tags: Category, OwnerUserId: AskerId(UserId), Tags: Category,\n",
    "# PostTypeId = 2 Answer, Id: AnswerId, ParentId： QuestionId, Score: Helpfulness, CreationDate: Timestamp, \n",
    "# OwnerUserId: AnswererId(UserId)\n",
    "# Users.xml Reputation: Reputation, DsiplayName: Username, Id: UserId\n",
    "# Tags.xml TagName: Category"
   ]
  },
  {
   "cell_type": "code",
   "execution_count": null,
   "metadata": {},
   "outputs": [],
   "source": [
    "from pathlib import Path\n",
    "abs_data_dir = Path.cwd() / 'csv_files/stackexchange/content'\n",
    "# data_dir = Path.home() / 'GenderPerformance/datasets/yelp'\n",
    "dataset_dir = Path.cwd() / 'csv_files/stackexchange'\n",
    "\n",
    "def create_data(category):\n",
    "    df_post= xml2df(abs_data_dir / 'Posts.xml')\n",
    "    df_user= xml2df(abs_data_dir / 'Users.xml')\n",
    "    \n",
    "    print(\"Posts: \",df_post.shape)\n",
    "    df_post = df_post[['OwnerUserId', 'Body', 'PostTypeId', 'CreationDate', 'Score']]\n",
    "    df_post = df_post[df_post['PostTypeId'].apply(lambda x: x == '2')]\n",
    "    df_post.rename(columns={'OwnerUserId': 'UserId'}, inplace=True)\n",
    "\n",
    "    print(\"Users: \", df_user.shape)\n",
    "    df_user = df_user[['Id', 'DisplayName', 'Reputation']]\n",
    "    df_user.rename(columns={'Id': 'UserId'}, inplace=True)\n",
    "    data = pd.merge(df_post, df_user, on='UserId', how='left')\n",
    "    data.dropna(inplace=True)\n",
    "    print(\"Combined frame shape\", data.shape)\n",
    "#     data.drop(['UserId'], axis=1, inplace=True)\n",
    "    data.rename(columns={'DisplayName':'Name', 'Body': 'AnswerText'}, inplace=True)\n",
    "#     data = data.reindex(columns=['Name', 'AnswerText'])\n",
    "\n",
    "    data['AnswerText'] = data['AnswerText'].apply(lambda x: BeautifulSoup(x, 'html.parser').get_text().replace('|', '').lower())\n",
    "    data['AnswerText'] = data['AnswerText'].apply(lambda x: \" \".join(x.split()))\n",
    "#     soup = BeautifulSoup(data.at[0,'Post'], 'html.parser')\n",
    "#     print(soup.get_text())\n",
    "    data.to_csv(dataset_dir /  (category + \".csv\"), sep='|', encoding='utf-8', header=False, index=False, na_rep=string)\n",
    "    print(\"Write complete for post: \", category)\n",
    "    return data"
   ]
  },
  {
   "cell_type": "code",
   "execution_count": null,
   "metadata": {},
   "outputs": [],
   "source": [
    "from pathlib import Path\n",
    "\n",
    "dataset_dir = Path.cwd() / 'datasets/stackexchange'\n",
    "\n",
    "\n",
    "# def create_data(category):\n",
    "df_comments = xml2df(dataset_dir / 'Comments.xml')\n",
    "df_users = xml2df(dataset_dir / 'Users.xml')\n",
    "\n",
    "print(\"Posts: \",df_comments.shape)\n",
    "df_comments = df_comments[['UserId', 'Text', 'CreationDate', 'Score']]\n",
    "\n",
    "print(\"Users: \", df_users.shape)\n",
    "df_users = df_users[['Id', 'DisplayName', 'Reputation']]\n",
    "df_users.rename(columns={'Id': 'UserId', 'DisplayName': 'UserName'}, inplace=True)\n",
    "merged_df = pd.merge(df_comments, df_users, on='UserId', how='left')\n",
    "merged_df.dropna(inplace=True)\n",
    "print(\"Combined frame shape\", merged_df.shape)\n",
    "\n",
    "\n",
    "# merged_df['Text'] = merged_df['Text'].apply(lambda x: BeautifulSoup(x, 'html.parser').get_text().replace('|', '').lower())\n",
    "# merged_df['Text'] = merged_df['Text'].apply(lambda x: \" \".join(x.split()))\n",
    "\n",
    "merged_df.to_csv(dataset_dir /  \"stackoverflow_full_dataset.csv\", sep='|', encoding='utf-8', header=False, index=False, na_rep=string)\n",
    "print(\"Write complete for post: \", category)\n"
   ]
  },
  {
   "cell_type": "code",
   "execution_count": null,
   "metadata": {},
   "outputs": [],
   "source": [
    "merged_df.to_csv(dataset_dir /  \"stackoverflow_full_dataset.csv\", sep='|', encoding='utf-8', index=False, na_rep=string)"
   ]
  },
  {
   "cell_type": "code",
   "execution_count": null,
   "metadata": {
    "scrolled": true
   },
   "outputs": [],
   "source": [
    "# df = create_data('stackoverflow_full_dataset')\n",
    "merged_sampled_df = merged_df.sample(6000000)"
   ]
  },
  {
   "cell_type": "code",
   "execution_count": null,
   "metadata": {},
   "outputs": [],
   "source": [
    "merged_sampled_df.to_csv(dataset_dir /  \"stackoverflow_sampled_dataset.csv\", sep='|', encoding='utf-8', index=False, na_rep=string)"
   ]
  },
  {
   "cell_type": "code",
   "execution_count": null,
   "metadata": {},
   "outputs": [],
   "source": [
    "merged_sampled_df = merged_sampled_df.reset_index(drop=True)"
   ]
  },
  {
   "cell_type": "code",
   "execution_count": null,
   "metadata": {},
   "outputs": [],
   "source": [
    "#UnicodeEncodeError: 'utf-8' codec can't encode character '\\udbff' in position 789: surrogates not allowed"
   ]
  },
  {
   "cell_type": "code",
   "execution_count": null,
   "metadata": {},
   "outputs": [],
   "source": [
    "def cleanser(text):\n",
    "    post = ''\n",
    "    try:\n",
    "        post = text.encode(\"utf-8\")\n",
    "    except UnicodeEncodeError as e:\n",
    "        if e.reason == 'surrogates not allowed':\n",
    "            post =  text.encode('utf-8', \"backslashreplace\").decode('utf-8')\n",
    "    \n",
    "    return post"
   ]
  },
  {
   "cell_type": "code",
   "execution_count": null,
   "metadata": {},
   "outputs": [],
   "source": [
    "df['AnswerText'] = df['AnswerText'].apply(lambda x: cleanser(x))"
   ]
  },
  {
   "cell_type": "code",
   "execution_count": null,
   "metadata": {},
   "outputs": [],
   "source": [
    "df.to_csv(dataset_dir / 'so_train_full_data.csv' , sep='|', header=False, index=False, na_rep=string)"
   ]
  },
  {
   "cell_type": "code",
   "execution_count": null,
   "metadata": {},
   "outputs": [],
   "source": [
    "def clean(text):\n",
    "    post =''\n",
    "    try:\n",
    "        post = text.decode('utf-8')\n",
    "    except AttributeError:\n",
    "        post =  text\n",
    "    return post"
   ]
  },
  {
   "cell_type": "code",
   "execution_count": null,
   "metadata": {},
   "outputs": [],
   "source": [
    "df['AnswerText'] = df['AnswerText'].apply(lambda x: clean(x))"
   ]
  },
  {
   "cell_type": "code",
   "execution_count": null,
   "metadata": {},
   "outputs": [],
   "source": [
    "df.to_csv(dataset_dir / 'so_train_full_data.csv', sep='|', encoding='utf-8', header=False, index=False, na_rep=string)"
   ]
  },
  {
   "cell_type": "markdown",
   "metadata": {},
   "source": [
    "# gender guesser "
   ]
  },
  {
   "cell_type": "code",
   "execution_count": null,
   "metadata": {},
   "outputs": [],
   "source": [
    "df = pd.read_csv(dataset_dir / 'stackoverflow_sampled_dataset.csv', sep='|', encoding='utf8', name=[]'UserId', 'Text', 'CreationDate', 'Score', 'UserName', 'Reputation'])\n",
    "df = pd.read_csv(dataset_dir / 'stackoverflow_full_dataset.csv', sep='|', encoding='utf8', )"
   ]
  },
  {
   "cell_type": "code",
   "execution_count": null,
   "metadata": {},
   "outputs": [],
   "source": [
    "df.columns = ['UserId', 'Text', 'CreationDate', 'Score', 'UserName', 'Reputation']"
   ]
  },
  {
   "cell_type": "code",
   "execution_count": null,
   "metadata": {},
   "outputs": [],
   "source": [
    "df = merged_sampled_df"
   ]
  },
  {
   "cell_type": "code",
   "execution_count": null,
   "metadata": {},
   "outputs": [],
   "source": [
    "import gender_guesser.detector as gender\n",
    "\n",
    "d = gender.Detector(case_sensitive=False)\n",
    "translator = str.maketrans('', '', string.punctuation)\n",
    "\n",
    "def get_gender(name):\n",
    "    try:\n",
    "        n = name.lower()\n",
    "        if ('mom' in n) or ('girl' in n) or ('angel' in n) or ('mum' in n) or ('mother' in n) or ('woman' in n):\n",
    "            return 'female'\n",
    "        if ('boy' in n) or ('dude' in n):\n",
    "            return 'male'\n",
    "        temp = name.translate(translator).split()\n",
    "    except:\n",
    "        return 'unknown'\n",
    "    \n",
    "    if len(temp)>0:\n",
    "        first_name = temp[0]\n",
    "        first_name = ''.join([i for i in first_name if not i.isdigit()])\n",
    "        gender = d.get_gender(first_name,'usa')\n",
    "        if(gender=='unknown'):\n",
    "            first_name= first_name[:-1]\n",
    "            gender = d.get_gender(first_name,'usa')\n",
    "        return gender\n",
    "    else:\n",
    "        return 'unknown'"
   ]
  },
  {
   "cell_type": "code",
   "execution_count": null,
   "metadata": {},
   "outputs": [],
   "source": [
    "df['Gender'] = df['UserName'].apply(lambda x:get_gender(x))"
   ]
  },
  {
   "cell_type": "code",
   "execution_count": null,
   "metadata": {},
   "outputs": [],
   "source": [
    "df.Gender.value_counts()"
   ]
  },
  {
   "cell_type": "code",
   "execution_count": null,
   "metadata": {},
   "outputs": [],
   "source": [
    "df.head()"
   ]
  },
  {
   "cell_type": "code",
   "execution_count": null,
   "metadata": {},
   "outputs": [],
   "source": [
    "# disclosed_flag = df.Gender.isin(['mostly_male', 'male', 'mostly_female', 'female'])\n",
    "disclosed_flag = df.Gender.isin(['male', 'female'])\n",
    "undisclosed_flag = ~disclosed_flag"
   ]
  },
  {
   "cell_type": "code",
   "execution_count": null,
   "metadata": {},
   "outputs": [],
   "source": [
    "disclosed_gender_df =  df[disclosed_flag]\n",
    "undisclosed_gender_df = df[undisclosed_flag]"
   ]
  },
  {
   "cell_type": "code",
   "execution_count": null,
   "metadata": {},
   "outputs": [],
   "source": [
    "import os.path\n",
    "import pandas as pd\n",
    "if not os.path.exists(dataset_dir / 'disclosed_dataset.csv'):\n",
    "    print('saving disclosed dataset to csv')\n",
    "    disclosed_gender_df.to_csv(dataset_dir / 'disclosed_dataset.csv', index=False)\n",
    "else:\n",
    "    disclosed_gender_df = pd.read_csv(dataset_dir / 'disclosed_dataset.csv')\n",
    "\n",
    "if not os.path.exists(dataset_dir / 'undisclosed_dataset.csv'):\n",
    "    print('saving undisclosed dataset to csv')\n",
    "    undisclosed_gender_df.to_csv(dataset_dir / 'undisclosed_dataset.csv', index=False)\n",
    "else:\n",
    "    undisclosed_gender_df = pd.read_csv(dataset_dir / 'undisclosed_dataset.csv')"
   ]
  },
  {
   "cell_type": "code",
   "execution_count": null,
   "metadata": {},
   "outputs": [],
   "source": [
    "dataset_dir = Path.cwd() / 'datasets/stackexchange/'"
   ]
  },
  {
   "cell_type": "code",
   "execution_count": null,
   "metadata": {},
   "outputs": [],
   "source": [
    "# mapping = {'female' : 1, 'male' : 0, 'mostly_female': 1, 'mostly_male': 0}\n",
    "mapping = {'female' : 1, 'male' : 0}\n",
    "disclosed_dataset_df = disclosed_gender_df[['UserName', 'Text', 'Gender']]\n",
    "disclosed_dataset_df.replace(to_replace=[r\"\\\\t|\\\\n|\\\\r\", \"\\t|\\n|\\r\"], value=[\"\",\"\"], regex=True, inplace=True)\n",
    "disclosed_dataset_df.replace({'Gender': mapping}, inplace=True)\n",
    "\n",
    "undisclosed_dataset_df = undisclosed_gender_df[['UserName', 'Text', 'Gender']]\n",
    "undisclosed_dataset_df.replace(to_replace=[r\"\\\\t|\\\\n|\\\\r\", \"\\t|\\n|\\r\"], value=[\"\",\"\"], regex=True, inplace=True)\n",
    "# undisclosed_dataset_df.to_csv(dataset_dir / 'undisclosed_id_text_gender.csv', index=False, header=False)"
   ]
  },
  {
   "cell_type": "markdown",
   "metadata": {},
   "source": [
    "# plot data distribution"
   ]
  },
  {
   "cell_type": "code",
   "execution_count": null,
   "metadata": {},
   "outputs": [],
   "source": [
    "DF_shape = disclosed_dataset_df.loc[disclosed_dataset_df['Gender'] == 1].shape\n",
    "DM_shape = disclosed_dataset_df.loc[disclosed_dataset_df['Gender'] == 0].shape\n",
    "UNDIS_shape = undisclosed_dataset_df.shape\n",
    "total_size = disclosed_dataset_df.shape[0] + UNDIS_shape[0]"
   ]
  },
  {
   "cell_type": "code",
   "execution_count": null,
   "metadata": {},
   "outputs": [],
   "source": [
    "total_size = disclosed_dataset_df.shape[0] + UNDIS_shape[0]"
   ]
  },
  {
   "cell_type": "code",
   "execution_count": null,
   "metadata": {},
   "outputs": [],
   "source": [
    "print(total_size, disclosed_dataset_df.shape[0], UNDIS_shape[0], DM_shape[0], DF_shape[0])"
   ]
  },
  {
   "cell_type": "code",
   "execution_count": null,
   "metadata": {},
   "outputs": [],
   "source": [
    "import matplotlib.pyplot as plt\n",
    "labels = 'SM', 'SW', 'Performing'\n",
    "sizes = [DM_shape[0]/total_size, DF_shape[0]/total_size, UNDIS_shape[0]/total_size]\n",
    "explode = (0, 0, 0)  # only \"explode\" the 2nd slice (i.e. 'Hogs')\n",
    "\n",
    "fig1, ax1 = plt.subplots()\n",
    "ax1.pie(sizes, explode=explode, labels=labels, autopct='%1.1f%%',\n",
    "        shadow=True, startangle=90)\n",
    "ax1.axis('equal')  # Equal aspect ratio ensures that pie is drawn as a circle.\n",
    "\n",
    "plt.show()"
   ]
  },
  {
   "cell_type": "markdown",
   "metadata": {},
   "source": [
    "# generate training/test datasets"
   ]
  },
  {
   "cell_type": "code",
   "execution_count": null,
   "metadata": {},
   "outputs": [],
   "source": [
    "from sklearn.model_selection import train_test_split\n",
    "\n",
    "# dataset_df = pd.read_csv('train_dataset.csv')\n",
    "if 'disclosed_dataset_df' in locals():\n",
    "    # 80/20 train/test\n",
    "    train_df, test_df = train_test_split(disclosed_dataset_df, test_size=0.2)\n",
    "    # 80/20 train/validation\n",
    "    train_df, validation_df = train_test_split(train_df, test_size=0.2)\n",
    "else:\n",
    "    disclosed_dataset_df = pd.read_csv(dataset_dir / 'disclosed_dataset.csv')\n",
    "    # 80/20 train/test\n",
    "    train_df, test_df = train_test_split(disclosed_dataset_df, test_size=0.2)\n",
    "    # 80/20 train/validation\n",
    "    train_df, validation_df = train_test_split(train_df, test_size=0.2)"
   ]
  },
  {
   "cell_type": "code",
   "execution_count": null,
   "metadata": {},
   "outputs": [],
   "source": [
    "# extracting related attributes for training, validation and test\n",
    "train_gender_text_df = train_df[['Gender', 'Text']]\n",
    "validation_gender_text_df = validation_df[['Gender', 'Text']]\n",
    "test_name_text_gender_df = test_df[['UserName', 'Text', 'Gender']]\n",
    "\n",
    "train_gender_text_df.replace(to_replace=[r\"\\\\t|\\\\n|\\\\r\", \"\\t|\\n|\\r\"], value=[\"\",\"\"], regex=True, inplace=True)\n",
    "train_gender_text_df.to_csv(dataset_dir / 'training_gender_text.csv', index=False, header=False)\n",
    "\n",
    "validation_gender_text_df.replace(to_replace=[r\"\\\\t|\\\\n|\\\\r\", \"\\t|\\n|\\r\"], value=[\"\",\"\"], regex=True, inplace=True)\n",
    "validation_gender_text_df.to_csv(dataset_dir / 'validation_gender_text.csv', index=False, header=False)\n",
    "\n",
    "test_name_text_gender_df.replace(to_replace=[r\"\\\\t|\\\\n|\\\\r\", \"\\t|\\n|\\r\"], value=[\"\",\"\"], regex=True, inplace=True)\n",
    "test_name_text_gender_df.to_csv(dataset_dir / 'test_name_text_gender.csv', index=False, header=False)"
   ]
  },
  {
   "cell_type": "code",
   "execution_count": null,
   "metadata": {},
   "outputs": [],
   "source": [
    "import pandas as pd\n",
    "undisclosed_dataset_df = pd.read_csv(dataset_dir / 'undisclosed_dataset.csv')\n",
    "undisclosed_dataset_df.head()"
   ]
  },
  {
   "cell_type": "code",
   "execution_count": null,
   "metadata": {},
   "outputs": [],
   "source": [
    "undisclosed_gender_df = undisclosed_dataset_df[['UserId', 'Text', 'Gender']]\n",
    "undisclosed_gender_df.replace(to_replace=[r\"\\\\t|\\\\n|\\\\r\", \"\\t|\\n|\\r\"], value=[\"\",\"\"], regex=True, inplace=True)\n",
    "undisclosed_gender_df.to_csv(dataset_dir / 'undisclosed_id_text_gender.csv', index=False, header=False)"
   ]
  },
  {
   "cell_type": "code",
   "execution_count": null,
   "metadata": {},
   "outputs": [],
   "source": [
    "undisclosed_dataset_df.head()"
   ]
  },
  {
   "cell_type": "markdown",
   "metadata": {},
   "source": [
    "# plot data distribution"
   ]
  },
  {
   "cell_type": "code",
   "execution_count": null,
   "metadata": {},
   "outputs": [],
   "source": [
    "sampled_df = pd.read_csv(dataset_dir / 'stackoverflow_sampled_dataset.csv', sep='|', encoding='utf8', names=['UserId', 'Text', 'CreationDate', 'Score', 'UserName', 'Reputation'])"
   ]
  },
  {
   "cell_type": "code",
   "execution_count": null,
   "metadata": {},
   "outputs": [],
   "source": [
    "sampled_df['Gender'] = sampled_df['UserName'].apply(lambda x:get_gender(x))"
   ]
  },
  {
   "cell_type": "code",
   "execution_count": null,
   "metadata": {},
   "outputs": [],
   "source": [
    "sampled_df.shape"
   ]
  },
  {
   "cell_type": "code",
   "execution_count": null,
   "metadata": {},
   "outputs": [],
   "source": [
    "disclosed_flag = sampled_df.Gender.isin(['male', 'female'])\n",
    "undisclosed_flag = ~disclosed_flag"
   ]
  },
  {
   "cell_type": "code",
   "execution_count": null,
   "metadata": {},
   "outputs": [],
   "source": [
    "disclosed_gender_sampled_df =  sampled_df[disclosed_flag]\n",
    "undisclosed_gender_sampled_df = sampled_df[undisclosed_flag]"
   ]
  },
  {
   "cell_type": "code",
   "execution_count": null,
   "metadata": {},
   "outputs": [],
   "source": [
    "mapping = {'female' : 1, 'male' : 0}\n",
    "disclosed_dataset_sampled_df = disclosed_gender_sampled_df[['UserName', 'Text', 'Gender']]\n",
    "disclosed_dataset_sampled_df.replace(to_replace=[r\"\\\\t|\\\\n|\\\\r\", \"\\t|\\n|\\r\"], value=[\"\",\"\"], regex=True, inplace=True)\n",
    "disclosed_dataset_sampled_df.replace({'Gender': mapping}, inplace=True)\n",
    "\n",
    "undisclosed_dataset_sampled_df = undisclosed_gender_sampled_df[['UserName', 'Text', 'Gender']]\n",
    "undisclosed_dataset_sampled_df.replace(to_replace=[r\"\\\\t|\\\\n|\\\\r\", \"\\t|\\n|\\r\"], value=[\"\",\"\"], regex=True, inplace=True)"
   ]
  },
  {
   "cell_type": "code",
   "execution_count": null,
   "metadata": {},
   "outputs": [],
   "source": [
    "DF_shape = disclosed_dataset_sampled_df.loc[disclosed_dataset_sampled_df['Gender'] == 1].shape\n",
    "DM_shape = disclosed_dataset_sampled_df.loc[disclosed_dataset_sampled_df['Gender'] == 0].shape\n",
    "UNDIS_shape = undisclosed_dataset_sampled_df.shape"
   ]
  },
  {
   "cell_type": "code",
   "execution_count": null,
   "metadata": {},
   "outputs": [],
   "source": [
    "total_size = disclosed_gender_sampled_df.shape[0] + UNDIS_shape[0]"
   ]
  },
  {
   "cell_type": "code",
   "execution_count": null,
   "metadata": {},
   "outputs": [],
   "source": [
    "print(total_size, disclosed_gender_sampled_df.shape[0], UNDIS_shape[0], DM_shape[0], DF_shape[0])"
   ]
  },
  {
   "cell_type": "code",
   "execution_count": null,
   "metadata": {},
   "outputs": [],
   "source": [
    "import matplotlib.pyplot as plt\n",
    "labels = 'DM', 'DF', 'UNDISCLOSED'\n",
    "sizes = [DM_shape[0]/total_size, DF_shape[0]/total_size, UNDIS_shape[0]/total_size]\n",
    "explode = (0, 0, 0)  # only \"explode\" the 2nd slice (i.e. 'Hogs')\n",
    "\n",
    "fig1, ax1 = plt.subplots()\n",
    "ax1.pie(sizes, explode=explode, labels=labels, autopct='%1.1f%%',\n",
    "        shadow=True, startangle=90)\n",
    "ax1.axis('equal')  # Equal aspect ratio ensures that pie is drawn as a circle.\n",
    "\n",
    "plt.show()"
   ]
  }
 ],
 "metadata": {
  "kernelspec": {
   "display_name": "Python 3",
   "language": "python",
   "name": "python3"
  },
  "language_info": {
   "codemirror_mode": {
    "name": "ipython",
    "version": 3
   },
   "file_extension": ".py",
   "mimetype": "text/x-python",
   "name": "python",
   "nbconvert_exporter": "python",
   "pygments_lexer": "ipython3",
   "version": "3.7.3"
  }
 },
 "nbformat": 4,
 "nbformat_minor": 2
}
