{
 "cells": [
  {
   "cell_type": "code",
   "execution_count": 1,
   "metadata": {},
   "outputs": [
    {
     "data": {
      "text/html": [
       "<div>\n",
       "<style scoped>\n",
       "    .dataframe tbody tr th:only-of-type {\n",
       "        vertical-align: middle;\n",
       "    }\n",
       "\n",
       "    .dataframe tbody tr th {\n",
       "        vertical-align: top;\n",
       "    }\n",
       "\n",
       "    .dataframe thead th {\n",
       "        text-align: right;\n",
       "    }\n",
       "</style>\n",
       "<table border=\"1\" class=\"dataframe\">\n",
       "  <thead>\n",
       "    <tr style=\"text-align: right;\">\n",
       "      <th></th>\n",
       "      <th>review_id</th>\n",
       "      <th>user_id</th>\n",
       "      <th>business_id</th>\n",
       "      <th>stars</th>\n",
       "      <th>date</th>\n",
       "      <th>useful</th>\n",
       "      <th>text</th>\n",
       "      <th>business_name</th>\n",
       "      <th>user_name</th>\n",
       "      <th>timestamp</th>\n",
       "      <th>gender</th>\n",
       "    </tr>\n",
       "  </thead>\n",
       "  <tbody>\n",
       "    <tr>\n",
       "      <td>0</td>\n",
       "      <td>Pm6qydbW58BB0zdWCPlBmg</td>\n",
       "      <td>Skzdl0sWhW88525a1vr59g</td>\n",
       "      <td>ujmEBvifdJM6h6RLv4wQIg</td>\n",
       "      <td>1.0</td>\n",
       "      <td>2018-05-08 19:27:59</td>\n",
       "      <td>3.0</td>\n",
       "      <td>Went in for a broken finger, was asked if I wa...</td>\n",
       "      <td>MountainView Hospital</td>\n",
       "      <td>Renee</td>\n",
       "      <td>1.525800e+09</td>\n",
       "      <td>female</td>\n",
       "    </tr>\n",
       "    <tr>\n",
       "      <td>1</td>\n",
       "      <td>US_dupN8RTXGNdmDeksQIg</td>\n",
       "      <td>Skzdl0sWhW88525a1vr59g</td>\n",
       "      <td>I5TnTKHzJuLA0YLZPGCNwQ</td>\n",
       "      <td>5.0</td>\n",
       "      <td>2016-09-03 02:52:45</td>\n",
       "      <td>0.0</td>\n",
       "      <td>Absolutely love this place! Great food for the...</td>\n",
       "      <td>Teriyaki Boy Healthy Grill</td>\n",
       "      <td>Renee</td>\n",
       "      <td>1.472864e+09</td>\n",
       "      <td>female</td>\n",
       "    </tr>\n",
       "    <tr>\n",
       "      <td>2</td>\n",
       "      <td>b5mIIyHZKwYuaFQPnO1BCw</td>\n",
       "      <td>Skzdl0sWhW88525a1vr59g</td>\n",
       "      <td>3dC3opMY67zrquz_yYc-tw</td>\n",
       "      <td>1.0</td>\n",
       "      <td>2017-04-25 21:38:51</td>\n",
       "      <td>0.0</td>\n",
       "      <td>Frequent this place a lot, well today there wa...</td>\n",
       "      <td>Pepe's Tacos</td>\n",
       "      <td>Renee</td>\n",
       "      <td>1.493149e+09</td>\n",
       "      <td>female</td>\n",
       "    </tr>\n",
       "    <tr>\n",
       "      <td>3</td>\n",
       "      <td>afOVxx5-s_ZQyhkhk2drNA</td>\n",
       "      <td>Skzdl0sWhW88525a1vr59g</td>\n",
       "      <td>_GqNHoWtBOksNcfVjnl0YQ</td>\n",
       "      <td>5.0</td>\n",
       "      <td>2017-04-11 20:54:24</td>\n",
       "      <td>0.0</td>\n",
       "      <td>Phil Brown is a very knowledgeable person, he ...</td>\n",
       "      <td>Brown Law Offices</td>\n",
       "      <td>Renee</td>\n",
       "      <td>1.491937e+09</td>\n",
       "      <td>female</td>\n",
       "    </tr>\n",
       "    <tr>\n",
       "      <td>4</td>\n",
       "      <td>X3qb2HL3o-FMTJywO2THSA</td>\n",
       "      <td>Skzdl0sWhW88525a1vr59g</td>\n",
       "      <td>WSGHEQdcdbBWXDpna99EiQ</td>\n",
       "      <td>5.0</td>\n",
       "      <td>2016-12-04 03:10:34</td>\n",
       "      <td>0.0</td>\n",
       "      <td>I absolutely love this place. It's delicious a...</td>\n",
       "      <td>Teriyaki Madness</td>\n",
       "      <td>Renee</td>\n",
       "      <td>1.480817e+09</td>\n",
       "      <td>female</td>\n",
       "    </tr>\n",
       "  </tbody>\n",
       "</table>\n",
       "</div>"
      ],
      "text/plain": [
       "                review_id                 user_id             business_id  \\\n",
       "0  Pm6qydbW58BB0zdWCPlBmg  Skzdl0sWhW88525a1vr59g  ujmEBvifdJM6h6RLv4wQIg   \n",
       "1  US_dupN8RTXGNdmDeksQIg  Skzdl0sWhW88525a1vr59g  I5TnTKHzJuLA0YLZPGCNwQ   \n",
       "2  b5mIIyHZKwYuaFQPnO1BCw  Skzdl0sWhW88525a1vr59g  3dC3opMY67zrquz_yYc-tw   \n",
       "3  afOVxx5-s_ZQyhkhk2drNA  Skzdl0sWhW88525a1vr59g  _GqNHoWtBOksNcfVjnl0YQ   \n",
       "4  X3qb2HL3o-FMTJywO2THSA  Skzdl0sWhW88525a1vr59g  WSGHEQdcdbBWXDpna99EiQ   \n",
       "\n",
       "   stars                 date  useful  \\\n",
       "0    1.0  2018-05-08 19:27:59     3.0   \n",
       "1    5.0  2016-09-03 02:52:45     0.0   \n",
       "2    1.0  2017-04-25 21:38:51     0.0   \n",
       "3    5.0  2017-04-11 20:54:24     0.0   \n",
       "4    5.0  2016-12-04 03:10:34     0.0   \n",
       "\n",
       "                                                text  \\\n",
       "0  Went in for a broken finger, was asked if I wa...   \n",
       "1  Absolutely love this place! Great food for the...   \n",
       "2  Frequent this place a lot, well today there wa...   \n",
       "3  Phil Brown is a very knowledgeable person, he ...   \n",
       "4  I absolutely love this place. It's delicious a...   \n",
       "\n",
       "                business_name user_name     timestamp  gender  \n",
       "0       MountainView Hospital     Renee  1.525800e+09  female  \n",
       "1  Teriyaki Boy Healthy Grill     Renee  1.472864e+09  female  \n",
       "2                Pepe's Tacos     Renee  1.493149e+09  female  \n",
       "3           Brown Law Offices     Renee  1.491937e+09  female  \n",
       "4            Teriyaki Madness     Renee  1.480817e+09  female  "
      ]
     },
     "execution_count": 1,
     "metadata": {},
     "output_type": "execute_result"
    }
   ],
   "source": [
    "import pandas as pd\n",
    "\n",
    "inference_result_df = pd.read_csv('inference_result_RNN_vanilla_2.csv', usecols=['Predicted_label', 'ReviewerID'])\n",
    "inference_result_df.head()"
   ]
  },
  {
   "cell_type": "code",
   "execution_count": 3,
   "metadata": {},
   "outputs": [
    {
     "data": {
      "text/html": [
       "<div>\n",
       "<style scoped>\n",
       "    .dataframe tbody tr th:only-of-type {\n",
       "        vertical-align: middle;\n",
       "    }\n",
       "\n",
       "    .dataframe tbody tr th {\n",
       "        vertical-align: top;\n",
       "    }\n",
       "\n",
       "    .dataframe thead th {\n",
       "        text-align: right;\n",
       "    }\n",
       "</style>\n",
       "<table border=\"1\" class=\"dataframe\">\n",
       "  <thead>\n",
       "    <tr style=\"text-align: right;\">\n",
       "      <th></th>\n",
       "      <th></th>\n",
       "      <th>Predicted_label</th>\n",
       "    </tr>\n",
       "    <tr>\n",
       "      <th>ReviewerID</th>\n",
       "      <th>Predicted_label</th>\n",
       "      <th></th>\n",
       "    </tr>\n",
       "  </thead>\n",
       "  <tbody>\n",
       "    <tr>\n",
       "      <td rowspan=\"2\" valign=\"top\">---1lKK3aKOuomHnwAkAow</td>\n",
       "      <td>1</td>\n",
       "      <td>97</td>\n",
       "    </tr>\n",
       "    <tr>\n",
       "      <td>0</td>\n",
       "      <td>31</td>\n",
       "    </tr>\n",
       "    <tr>\n",
       "      <td>---PLwSf5gKdIoVnyRHgBA</td>\n",
       "      <td>1</td>\n",
       "      <td>2</td>\n",
       "    </tr>\n",
       "    <tr>\n",
       "      <td>--0RtXvcOIE4XbErYca6Rw</td>\n",
       "      <td>0</td>\n",
       "      <td>1</td>\n",
       "    </tr>\n",
       "    <tr>\n",
       "      <td>--0VhLFv2XfEKHL0YSCSuw</td>\n",
       "      <td>1</td>\n",
       "      <td>1</td>\n",
       "    </tr>\n",
       "  </tbody>\n",
       "</table>\n",
       "</div>"
      ],
      "text/plain": [
       "                                        Predicted_label\n",
       "ReviewerID             Predicted_label                 \n",
       "---1lKK3aKOuomHnwAkAow 1                             97\n",
       "                       0                             31\n",
       "---PLwSf5gKdIoVnyRHgBA 1                              2\n",
       "--0RtXvcOIE4XbErYca6Rw 0                              1\n",
       "--0VhLFv2XfEKHL0YSCSuw 1                              1"
      ]
     },
     "execution_count": 3,
     "metadata": {},
     "output_type": "execute_result"
    }
   ],
   "source": [
    "\n",
    "inference_result_grouped_df = inference_result_df.groupby('ReviewerID').agg({'Predicted_label': 'value_counts'})\n",
    "inference_result_grouped_df.head()"
   ]
  },
  {
   "cell_type": "code",
   "execution_count": 4,
   "metadata": {},
   "outputs": [
    {
     "data": {
      "text/html": [
       "<div>\n",
       "<style scoped>\n",
       "    .dataframe tbody tr th:only-of-type {\n",
       "        vertical-align: middle;\n",
       "    }\n",
       "\n",
       "    .dataframe tbody tr th {\n",
       "        vertical-align: top;\n",
       "    }\n",
       "\n",
       "    .dataframe thead th {\n",
       "        text-align: right;\n",
       "    }\n",
       "</style>\n",
       "<table border=\"1\" class=\"dataframe\">\n",
       "  <thead>\n",
       "    <tr style=\"text-align: right;\">\n",
       "      <th></th>\n",
       "      <th>Predicted_label</th>\n",
       "    </tr>\n",
       "    <tr>\n",
       "      <th>ReviewerID</th>\n",
       "      <th></th>\n",
       "    </tr>\n",
       "  </thead>\n",
       "  <tbody>\n",
       "    <tr>\n",
       "      <td>---1lKK3aKOuomHnwAkAow</td>\n",
       "      <td>1</td>\n",
       "    </tr>\n",
       "    <tr>\n",
       "      <td>---PLwSf5gKdIoVnyRHgBA</td>\n",
       "      <td>1</td>\n",
       "    </tr>\n",
       "    <tr>\n",
       "      <td>--0RtXvcOIE4XbErYca6Rw</td>\n",
       "      <td>0</td>\n",
       "    </tr>\n",
       "    <tr>\n",
       "      <td>--0VhLFv2XfEKHL0YSCSuw</td>\n",
       "      <td>1</td>\n",
       "    </tr>\n",
       "    <tr>\n",
       "      <td>--2DMAd_kGHgbF88H2SLuw</td>\n",
       "      <td>1</td>\n",
       "    </tr>\n",
       "  </tbody>\n",
       "</table>\n",
       "</div>"
      ],
      "text/plain": [
       "                        Predicted_label\n",
       "ReviewerID                             \n",
       "---1lKK3aKOuomHnwAkAow                1\n",
       "---PLwSf5gKdIoVnyRHgBA                1\n",
       "--0RtXvcOIE4XbErYca6Rw                0\n",
       "--0VhLFv2XfEKHL0YSCSuw                1\n",
       "--2DMAd_kGHgbF88H2SLuw                1"
      ]
     },
     "execution_count": 4,
     "metadata": {},
     "output_type": "execute_result"
    }
   ],
   "source": [
    "majority_voting_result_ser = inference_result_df.groupby('ReviewerID').max()\n",
    "majority_voting_result_ser.head()"
   ]
  },
  {
   "cell_type": "code",
   "execution_count": 5,
   "metadata": {},
   "outputs": [],
   "source": [
    "majority_voting_result_df = pd.DataFrame(majority_voting_result_ser.Predicted_label).reset_index()\n"
   ]
  },
  {
   "cell_type": "code",
   "execution_count": 6,
   "metadata": {},
   "outputs": [
    {
     "data": {
      "text/html": [
       "<div>\n",
       "<style scoped>\n",
       "    .dataframe tbody tr th:only-of-type {\n",
       "        vertical-align: middle;\n",
       "    }\n",
       "\n",
       "    .dataframe tbody tr th {\n",
       "        vertical-align: top;\n",
       "    }\n",
       "\n",
       "    .dataframe thead th {\n",
       "        text-align: right;\n",
       "    }\n",
       "</style>\n",
       "<table border=\"1\" class=\"dataframe\">\n",
       "  <thead>\n",
       "    <tr style=\"text-align: right;\">\n",
       "      <th></th>\n",
       "      <th>user_id</th>\n",
       "      <th>predicted_gender</th>\n",
       "    </tr>\n",
       "  </thead>\n",
       "  <tbody>\n",
       "    <tr>\n",
       "      <td>0</td>\n",
       "      <td>---1lKK3aKOuomHnwAkAow</td>\n",
       "      <td>1</td>\n",
       "    </tr>\n",
       "    <tr>\n",
       "      <td>1</td>\n",
       "      <td>---PLwSf5gKdIoVnyRHgBA</td>\n",
       "      <td>1</td>\n",
       "    </tr>\n",
       "    <tr>\n",
       "      <td>2</td>\n",
       "      <td>--0RtXvcOIE4XbErYca6Rw</td>\n",
       "      <td>0</td>\n",
       "    </tr>\n",
       "    <tr>\n",
       "      <td>3</td>\n",
       "      <td>--0VhLFv2XfEKHL0YSCSuw</td>\n",
       "      <td>1</td>\n",
       "    </tr>\n",
       "    <tr>\n",
       "      <td>4</td>\n",
       "      <td>--2DMAd_kGHgbF88H2SLuw</td>\n",
       "      <td>1</td>\n",
       "    </tr>\n",
       "  </tbody>\n",
       "</table>\n",
       "</div>"
      ],
      "text/plain": [
       "                  user_id  predicted_gender\n",
       "0  ---1lKK3aKOuomHnwAkAow                 1\n",
       "1  ---PLwSf5gKdIoVnyRHgBA                 1\n",
       "2  --0RtXvcOIE4XbErYca6Rw                 0\n",
       "3  --0VhLFv2XfEKHL0YSCSuw                 1\n",
       "4  --2DMAd_kGHgbF88H2SLuw                 1"
      ]
     },
     "execution_count": 6,
     "metadata": {},
     "output_type": "execute_result"
    }
   ],
   "source": [
    "majority_voting_result_df.columns = ['user_id', 'predicted_gender']\n",
    "majority_voting_result_df.head()"
   ]
  },
  {
   "cell_type": "code",
   "execution_count": 42,
   "metadata": {},
   "outputs": [
    {
     "ename": "NameError",
     "evalue": "name 'majority_voting_result_df' is not defined",
     "output_type": "error",
     "traceback": [
      "\u001b[1;31m---------------------------------------------------------------------------\u001b[0m",
      "\u001b[1;31mNameError\u001b[0m                                 Traceback (most recent call last)",
      "\u001b[1;32m<ipython-input-42-a3748c1c90b6>\u001b[0m in \u001b[0;36m<module>\u001b[1;34m\u001b[0m\n\u001b[1;32m----> 1\u001b[1;33m \u001b[0mmajority_voting_result_df\u001b[0m\u001b[1;33m.\u001b[0m\u001b[0mpredicted_gender\u001b[0m\u001b[1;33m.\u001b[0m\u001b[0mvalue_counts\u001b[0m\u001b[1;33m(\u001b[0m\u001b[1;33m)\u001b[0m\u001b[1;33m.\u001b[0m\u001b[0mmax\u001b[0m\u001b[1;33m(\u001b[0m\u001b[0mlevel\u001b[0m\u001b[1;33m=\u001b[0m\u001b[1;34m'user_id'\u001b[0m\u001b[1;33m)\u001b[0m\u001b[1;33m\u001b[0m\u001b[1;33m\u001b[0m\u001b[0m\n\u001b[0m",
      "\u001b[1;31mNameError\u001b[0m: name 'majority_voting_result_df' is not defined"
     ]
    }
   ],
   "source": [
    "majority_voting_result_df.predicted_gender.value_counts()"
   ]
  },
  {
   "cell_type": "code",
   "execution_count": 1,
   "metadata": {},
   "outputs": [],
   "source": [
    "import pandas as pd\n",
    "\n",
    "\n",
    "disclosed_flag = True\n",
    "if disclosed_flag:\n",
    "    disclosed_dataset_df = pd.read_csv('disclosed_dataset.csv')\n",
    "    mapping = {'female' : 1, 'male' : 0}\n",
    "    disclosed_dataset_df.replace({'gender': mapping}, inplace=True)\n",
    "    test_df = disclosed_dataset_df.head()\n",
    "else:\n",
    "    undisclosed_csv_df = pd.read_csv('undisclosed_dataset.csv')\n",
    "    undisclosed_csv_df.head()"
   ]
  },
  {
   "cell_type": "code",
   "execution_count": 28,
   "metadata": {},
   "outputs": [],
   "source": [
    "test_df = disclosed_dataset_df.iloc[1:100]"
   ]
  },
  {
   "cell_type": "code",
   "execution_count": 94,
   "metadata": {},
   "outputs": [
    {
     "data": {
      "text/html": [
       "<div>\n",
       "<style scoped>\n",
       "    .dataframe tbody tr th:only-of-type {\n",
       "        vertical-align: middle;\n",
       "    }\n",
       "\n",
       "    .dataframe tbody tr th {\n",
       "        vertical-align: top;\n",
       "    }\n",
       "\n",
       "    .dataframe thead th {\n",
       "        text-align: right;\n",
       "    }\n",
       "</style>\n",
       "<table border=\"1\" class=\"dataframe\">\n",
       "  <thead>\n",
       "    <tr style=\"text-align: right;\">\n",
       "      <th></th>\n",
       "      <th>0</th>\n",
       "    </tr>\n",
       "    <tr>\n",
       "      <th>user_id</th>\n",
       "      <th></th>\n",
       "    </tr>\n",
       "  </thead>\n",
       "  <tbody>\n",
       "    <tr>\n",
       "      <td>3Y25VDfnQVcuc33T-U3Z6A</td>\n",
       "      <td>1</td>\n",
       "    </tr>\n",
       "    <tr>\n",
       "      <td>CHuPGiofxPPIxK5cXAS4qg</td>\n",
       "      <td>1</td>\n",
       "    </tr>\n",
       "    <tr>\n",
       "      <td>HjyfcIOv1PoLJAoqt-J4GQ</td>\n",
       "      <td>1</td>\n",
       "    </tr>\n",
       "    <tr>\n",
       "      <td>MJYkCvxASq9GKEXDrmhB0Q</td>\n",
       "      <td>1</td>\n",
       "    </tr>\n",
       "    <tr>\n",
       "      <td>PgjzouAp8FyOwh6J83D4rA</td>\n",
       "      <td>1</td>\n",
       "    </tr>\n",
       "  </tbody>\n",
       "</table>\n",
       "</div>"
      ],
      "text/plain": [
       "                        0\n",
       "user_id                  \n",
       "3Y25VDfnQVcuc33T-U3Z6A  1\n",
       "CHuPGiofxPPIxK5cXAS4qg  1\n",
       "HjyfcIOv1PoLJAoqt-J4GQ  1\n",
       "MJYkCvxASq9GKEXDrmhB0Q  1\n",
       "PgjzouAp8FyOwh6J83D4rA  1"
      ]
     },
     "execution_count": 94,
     "metadata": {},
     "output_type": "execute_result"
    }
   ],
   "source": [
    "test_tmp = test_df.groupby('user_id').apply(lambda g: g.gender.mode())\n",
    "test_tmp.head()"
   ]
  },
  {
   "cell_type": "code",
   "execution_count": 57,
   "metadata": {},
   "outputs": [
    {
     "data": {
      "text/plain": [
       "user_id\n",
       "3Y25VDfnQVcuc33T-U3Z6A     4\n",
       "CHuPGiofxPPIxK5cXAS4qg    16\n",
       "HjyfcIOv1PoLJAoqt-J4GQ     8\n",
       "MJYkCvxASq9GKEXDrmhB0Q     3\n",
       "PgjzouAp8FyOwh6J83D4rA     3\n",
       "Skzdl0sWhW88525a1vr59g     4\n",
       "i5aJIiQk91PK9Z0aYJpOrg    61\n",
       "Name: gender, dtype: int64"
      ]
     },
     "execution_count": 57,
     "metadata": {},
     "output_type": "execute_result"
    }
   ],
   "source": [
    "ser = test_tmp.gender.groupby('user_id').max(level=0)\n",
    "ser"
   ]
  },
  {
   "cell_type": "code",
   "execution_count": 20,
   "metadata": {},
   "outputs": [],
   "source": [
    "merged_df = pd.merge(majority_voting_result_df, undisclosed_csv_df, on='user_id', how='outer')\n"
   ]
  },
  {
   "cell_type": "code",
   "execution_count": 21,
   "metadata": {},
   "outputs": [
    {
     "data": {
      "text/plain": [
       "bLbSNkLggFnqwNNzzq-Ijw    2354\n",
       "PKEzKWv_FktMm2mGPjwd0Q    1822\n",
       "QJI9OSEn6ujRCtrX06vs1w    1496\n",
       "YRcaNlwQ6XXPFDXWtuMGdA    1234\n",
       "dIIKEfOgo0KqUfGQvGikPg    1198\n",
       "                          ... \n",
       "_dz_a3GSGZ0unVKbRFC32A       1\n",
       "FlcqUPN8UArhD2J_YlurWA       1\n",
       "9IvdoNXPoUGCHZG9OZ2LEQ       1\n",
       "w9nQhf2ppUqhuDxmumkkdw       1\n",
       "CqS4mNQkd_FYgtjNxgLvew       1\n",
       "Name: user_id, Length: 597765, dtype: int64"
      ]
     },
     "execution_count": 21,
     "metadata": {},
     "output_type": "execute_result"
    }
   ],
   "source": [
    "# majority_voting_result_df.count\n",
    "undisclosed_csv_df.user_id.value_counts()"
   ]
  },
  {
   "cell_type": "code",
   "execution_count": 22,
   "metadata": {},
   "outputs": [
    {
     "data": {
      "text/plain": [
       "review_id        2416933\n",
       "user_id          2416933\n",
       "business_id      2416933\n",
       "stars            2416933\n",
       "date             2416933\n",
       "useful           2416933\n",
       "text             2416933\n",
       "business_name    2416933\n",
       "user_name        2416933\n",
       "timestamp        2416933\n",
       "gender           2416933\n",
       "dtype: int64"
      ]
     },
     "execution_count": 22,
     "metadata": {},
     "output_type": "execute_result"
    }
   ],
   "source": [
    "undisclosed_csv_df.count()"
   ]
  },
  {
   "cell_type": "code",
   "execution_count": 23,
   "metadata": {},
   "outputs": [
    {
     "data": {
      "text/plain": [
       "user_id             597749\n",
       "predicted_gender    597749\n",
       "dtype: int64"
      ]
     },
     "execution_count": 23,
     "metadata": {},
     "output_type": "execute_result"
    }
   ],
   "source": [
    "majority_voting_result_df.count()"
   ]
  },
  {
   "cell_type": "code",
   "execution_count": 24,
   "metadata": {},
   "outputs": [
    {
     "data": {
      "text/plain": [
       "Predicted_label    771549\n",
       "dtype: int64"
      ]
     },
     "execution_count": 24,
     "metadata": {},
     "output_type": "execute_result"
    }
   ],
   "source": [
    "inference_result_grouped_df.count()"
   ]
  },
  {
   "cell_type": "code",
   "execution_count": 25,
   "metadata": {},
   "outputs": [
    {
     "data": {
      "text/plain": [
       "user_id             2416933\n",
       "predicted_gender    2416916\n",
       "review_id           2416933\n",
       "business_id         2416933\n",
       "stars               2416933\n",
       "date                2416933\n",
       "useful              2416933\n",
       "text                2416933\n",
       "business_name       2416933\n",
       "user_name           2416933\n",
       "timestamp           2416933\n",
       "gender              2416933\n",
       "dtype: int64"
      ]
     },
     "execution_count": 25,
     "metadata": {},
     "output_type": "execute_result"
    }
   ],
   "source": [
    "merged_df.count()"
   ]
  },
  {
   "cell_type": "code",
   "execution_count": 26,
   "metadata": {},
   "outputs": [
    {
     "data": {
      "text/plain": [
       "user_id             2416916\n",
       "predicted_gender    2416916\n",
       "review_id           2416916\n",
       "business_id         2416916\n",
       "stars               2416916\n",
       "date                2416916\n",
       "useful              2416916\n",
       "text                2416916\n",
       "business_name       2416916\n",
       "user_name           2416916\n",
       "timestamp           2416916\n",
       "gender              2416916\n",
       "dtype: int64"
      ]
     },
     "execution_count": 26,
     "metadata": {},
     "output_type": "execute_result"
    }
   ],
   "source": [
    "merged_dropna_df = merged_df.dropna()\n",
    "merged_dropna_df.count()"
   ]
  },
  {
   "cell_type": "code",
   "execution_count": 27,
   "metadata": {},
   "outputs": [
    {
     "data": {
      "text/html": [
       "<div>\n",
       "<style scoped>\n",
       "    .dataframe tbody tr th:only-of-type {\n",
       "        vertical-align: middle;\n",
       "    }\n",
       "\n",
       "    .dataframe tbody tr th {\n",
       "        vertical-align: top;\n",
       "    }\n",
       "\n",
       "    .dataframe thead th {\n",
       "        text-align: right;\n",
       "    }\n",
       "</style>\n",
       "<table border=\"1\" class=\"dataframe\">\n",
       "  <thead>\n",
       "    <tr style=\"text-align: right;\">\n",
       "      <th></th>\n",
       "      <th>user_id</th>\n",
       "      <th>predicted_gender</th>\n",
       "      <th>review_id</th>\n",
       "      <th>business_id</th>\n",
       "      <th>stars</th>\n",
       "      <th>date</th>\n",
       "      <th>useful</th>\n",
       "      <th>text</th>\n",
       "      <th>business_name</th>\n",
       "      <th>user_name</th>\n",
       "      <th>timestamp</th>\n",
       "      <th>gender</th>\n",
       "    </tr>\n",
       "  </thead>\n",
       "  <tbody>\n",
       "    <tr>\n",
       "      <td>0</td>\n",
       "      <td>---1lKK3aKOuomHnwAkAow</td>\n",
       "      <td>1.0</td>\n",
       "      <td>7MAUYp00ICZUK14WBYlfxg</td>\n",
       "      <td>qmymSqVwHYRqdwfcBatzpQ</td>\n",
       "      <td>5.0</td>\n",
       "      <td>2010-11-23 18:10:24</td>\n",
       "      <td>4.0</td>\n",
       "      <td>So it is 5 stars when Josh(Im pretty sure it i...</td>\n",
       "      <td>Vintner Grill</td>\n",
       "      <td>Monera</td>\n",
       "      <td>1.290532e+09</td>\n",
       "      <td>unknown</td>\n",
       "    </tr>\n",
       "    <tr>\n",
       "      <td>1</td>\n",
       "      <td>---1lKK3aKOuomHnwAkAow</td>\n",
       "      <td>1.0</td>\n",
       "      <td>be61S6GrtjoINP4BW8xicg</td>\n",
       "      <td>jobP3ywRd3QNZ_GCoPG2DQ</td>\n",
       "      <td>3.0</td>\n",
       "      <td>2011-01-07 01:37:15</td>\n",
       "      <td>0.0</td>\n",
       "      <td>I came to see Tron in IMAX because it was cent...</td>\n",
       "      <td>Brenden Theatres</td>\n",
       "      <td>Monera</td>\n",
       "      <td>1.294361e+09</td>\n",
       "      <td>unknown</td>\n",
       "    </tr>\n",
       "    <tr>\n",
       "      <td>2</td>\n",
       "      <td>---1lKK3aKOuomHnwAkAow</td>\n",
       "      <td>1.0</td>\n",
       "      <td>5MKDmlI1_wJLKicPH4aqaw</td>\n",
       "      <td>mz9ltimeAIy2c2qf5ctljw</td>\n",
       "      <td>5.0</td>\n",
       "      <td>2011-05-01 15:46:15</td>\n",
       "      <td>1.0</td>\n",
       "      <td>Lets start out by saying that I am not a Beatl...</td>\n",
       "      <td>Cirque du Soleil - The Beatles LOVE</td>\n",
       "      <td>Monera</td>\n",
       "      <td>1.304258e+09</td>\n",
       "      <td>unknown</td>\n",
       "    </tr>\n",
       "    <tr>\n",
       "      <td>3</td>\n",
       "      <td>---1lKK3aKOuomHnwAkAow</td>\n",
       "      <td>1.0</td>\n",
       "      <td>KkNpgkf0iTUoSk5jB2LqdQ</td>\n",
       "      <td>HZdtHOEaKUL2SlWj5owgCA</td>\n",
       "      <td>5.0</td>\n",
       "      <td>2010-11-27 04:36:03</td>\n",
       "      <td>1.0</td>\n",
       "      <td>So if you hate pumping your own gas they have ...</td>\n",
       "      <td>Fabulous Freddy's Summerlin</td>\n",
       "      <td>Monera</td>\n",
       "      <td>1.290829e+09</td>\n",
       "      <td>unknown</td>\n",
       "    </tr>\n",
       "    <tr>\n",
       "      <td>4</td>\n",
       "      <td>---1lKK3aKOuomHnwAkAow</td>\n",
       "      <td>1.0</td>\n",
       "      <td>_U_ctMQkF3Smqo9mjpw1Iw</td>\n",
       "      <td>CWNMLT-ppaUjLMmrnYDPVg</td>\n",
       "      <td>5.0</td>\n",
       "      <td>2010-11-05 21:58:29</td>\n",
       "      <td>3.0</td>\n",
       "      <td>Why the hell does anyone go to Kona Grill?  Un...</td>\n",
       "      <td>Roy's Restaurant</td>\n",
       "      <td>Monera</td>\n",
       "      <td>1.288991e+09</td>\n",
       "      <td>unknown</td>\n",
       "    </tr>\n",
       "  </tbody>\n",
       "</table>\n",
       "</div>"
      ],
      "text/plain": [
       "                  user_id  predicted_gender               review_id  \\\n",
       "0  ---1lKK3aKOuomHnwAkAow               1.0  7MAUYp00ICZUK14WBYlfxg   \n",
       "1  ---1lKK3aKOuomHnwAkAow               1.0  be61S6GrtjoINP4BW8xicg   \n",
       "2  ---1lKK3aKOuomHnwAkAow               1.0  5MKDmlI1_wJLKicPH4aqaw   \n",
       "3  ---1lKK3aKOuomHnwAkAow               1.0  KkNpgkf0iTUoSk5jB2LqdQ   \n",
       "4  ---1lKK3aKOuomHnwAkAow               1.0  _U_ctMQkF3Smqo9mjpw1Iw   \n",
       "\n",
       "              business_id  stars                 date  useful  \\\n",
       "0  qmymSqVwHYRqdwfcBatzpQ    5.0  2010-11-23 18:10:24     4.0   \n",
       "1  jobP3ywRd3QNZ_GCoPG2DQ    3.0  2011-01-07 01:37:15     0.0   \n",
       "2  mz9ltimeAIy2c2qf5ctljw    5.0  2011-05-01 15:46:15     1.0   \n",
       "3  HZdtHOEaKUL2SlWj5owgCA    5.0  2010-11-27 04:36:03     1.0   \n",
       "4  CWNMLT-ppaUjLMmrnYDPVg    5.0  2010-11-05 21:58:29     3.0   \n",
       "\n",
       "                                                text  \\\n",
       "0  So it is 5 stars when Josh(Im pretty sure it i...   \n",
       "1  I came to see Tron in IMAX because it was cent...   \n",
       "2  Lets start out by saying that I am not a Beatl...   \n",
       "3  So if you hate pumping your own gas they have ...   \n",
       "4  Why the hell does anyone go to Kona Grill?  Un...   \n",
       "\n",
       "                         business_name user_name     timestamp   gender  \n",
       "0                        Vintner Grill    Monera  1.290532e+09  unknown  \n",
       "1                     Brenden Theatres    Monera  1.294361e+09  unknown  \n",
       "2  Cirque du Soleil - The Beatles LOVE    Monera  1.304258e+09  unknown  \n",
       "3          Fabulous Freddy's Summerlin    Monera  1.290829e+09  unknown  \n",
       "4                     Roy's Restaurant    Monera  1.288991e+09  unknown  "
      ]
     },
     "execution_count": 27,
     "metadata": {},
     "output_type": "execute_result"
    }
   ],
   "source": [
    "merged_dropna_df.head()"
   ]
  },
  {
   "cell_type": "code",
   "execution_count": 28,
   "metadata": {},
   "outputs": [],
   "source": [
    "merged_dropna_df.to_csv('undisclosed_predicted_dataset.csv', index=False)"
   ]
  },
  {
   "cell_type": "code",
   "execution_count": 29,
   "metadata": {},
   "outputs": [
    {
     "data": {
      "text/html": [
       "<div>\n",
       "<style scoped>\n",
       "    .dataframe tbody tr th:only-of-type {\n",
       "        vertical-align: middle;\n",
       "    }\n",
       "\n",
       "    .dataframe tbody tr th {\n",
       "        vertical-align: top;\n",
       "    }\n",
       "\n",
       "    .dataframe thead th {\n",
       "        text-align: right;\n",
       "    }\n",
       "</style>\n",
       "<table border=\"1\" class=\"dataframe\">\n",
       "  <thead>\n",
       "    <tr style=\"text-align: right;\">\n",
       "      <th></th>\n",
       "      <th>business_id</th>\n",
       "      <th>predicted_gender</th>\n",
       "      <th>useful</th>\n",
       "      <th>text</th>\n",
       "      <th>stars</th>\n",
       "      <th>timestamp</th>\n",
       "    </tr>\n",
       "  </thead>\n",
       "  <tbody>\n",
       "    <tr>\n",
       "      <td>0</td>\n",
       "      <td>qmymSqVwHYRqdwfcBatzpQ</td>\n",
       "      <td>1.0</td>\n",
       "      <td>4.0</td>\n",
       "      <td>So it is 5 stars when Josh(Im pretty sure it i...</td>\n",
       "      <td>5.0</td>\n",
       "      <td>1.290532e+09</td>\n",
       "    </tr>\n",
       "    <tr>\n",
       "      <td>1</td>\n",
       "      <td>jobP3ywRd3QNZ_GCoPG2DQ</td>\n",
       "      <td>1.0</td>\n",
       "      <td>0.0</td>\n",
       "      <td>I came to see Tron in IMAX because it was cent...</td>\n",
       "      <td>3.0</td>\n",
       "      <td>1.294361e+09</td>\n",
       "    </tr>\n",
       "    <tr>\n",
       "      <td>2</td>\n",
       "      <td>mz9ltimeAIy2c2qf5ctljw</td>\n",
       "      <td>1.0</td>\n",
       "      <td>1.0</td>\n",
       "      <td>Lets start out by saying that I am not a Beatl...</td>\n",
       "      <td>5.0</td>\n",
       "      <td>1.304258e+09</td>\n",
       "    </tr>\n",
       "    <tr>\n",
       "      <td>3</td>\n",
       "      <td>HZdtHOEaKUL2SlWj5owgCA</td>\n",
       "      <td>1.0</td>\n",
       "      <td>1.0</td>\n",
       "      <td>So if you hate pumping your own gas they have ...</td>\n",
       "      <td>5.0</td>\n",
       "      <td>1.290829e+09</td>\n",
       "    </tr>\n",
       "    <tr>\n",
       "      <td>4</td>\n",
       "      <td>CWNMLT-ppaUjLMmrnYDPVg</td>\n",
       "      <td>1.0</td>\n",
       "      <td>3.0</td>\n",
       "      <td>Why the hell does anyone go to Kona Grill?  Un...</td>\n",
       "      <td>5.0</td>\n",
       "      <td>1.288991e+09</td>\n",
       "    </tr>\n",
       "  </tbody>\n",
       "</table>\n",
       "</div>"
      ],
      "text/plain": [
       "              business_id  predicted_gender  useful  \\\n",
       "0  qmymSqVwHYRqdwfcBatzpQ               1.0     4.0   \n",
       "1  jobP3ywRd3QNZ_GCoPG2DQ               1.0     0.0   \n",
       "2  mz9ltimeAIy2c2qf5ctljw               1.0     1.0   \n",
       "3  HZdtHOEaKUL2SlWj5owgCA               1.0     1.0   \n",
       "4  CWNMLT-ppaUjLMmrnYDPVg               1.0     3.0   \n",
       "\n",
       "                                                text  stars     timestamp  \n",
       "0  So it is 5 stars when Josh(Im pretty sure it i...    5.0  1.290532e+09  \n",
       "1  I came to see Tron in IMAX because it was cent...    3.0  1.294361e+09  \n",
       "2  Lets start out by saying that I am not a Beatl...    5.0  1.304258e+09  \n",
       "3  So if you hate pumping your own gas they have ...    5.0  1.290829e+09  \n",
       "4  Why the hell does anyone go to Kona Grill?  Un...    5.0  1.288991e+09  "
      ]
     },
     "execution_count": 29,
     "metadata": {},
     "output_type": "execute_result"
    }
   ],
   "source": [
    "fields = ['business_id','predicted_gender','useful','text', 'stars', 'timestamp']\n",
    "df_male = merged_dropna_df[fields]\n",
    "df_male.head()"
   ]
  },
  {
   "cell_type": "code",
   "execution_count": null,
   "metadata": {},
   "outputs": [],
   "source": []
  }
 ],
 "metadata": {
  "kernelspec": {
   "display_name": "Python 3",
   "language": "python",
   "name": "python3"
  },
  "language_info": {
   "codemirror_mode": {
    "name": "ipython",
    "version": 3
   },
   "file_extension": ".py",
   "mimetype": "text/x-python",
   "name": "python",
   "nbconvert_exporter": "python",
   "pygments_lexer": "ipython3",
   "version": "3.7.3"
  }
 },
 "nbformat": 4,
 "nbformat_minor": 2
}
