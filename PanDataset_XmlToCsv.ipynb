{
 "cells": [
  {
   "cell_type": "code",
   "execution_count": null,
   "metadata": {},
   "outputs": [],
   "source": [
    "import xml.etree.ElementTree as ET\n",
    "import pandas as pd\n",
    "import glob\n",
    "import os\n",
    "import re\n",
    "import numpy as np\n",
    "from pathlib import Path"
   ]
  },
  {
   "cell_type": "code",
   "execution_count": null,
   "metadata": {},
   "outputs": [],
   "source": [
    "train_label_file = Path.cwd() / 'datasets/pan/en.txt'\n",
    "train_xml_files_dir =  Path.cwd() / 'datasets/pan/text_xml'\n",
    "tweets_all = dict()\n",
    "tweets_all_cleaned = dict()\n",
    "tweets_all_df = None\n",
    "\n",
    "gender_map = {'female':1, 'male':0}\n",
    "author_labels = dict()\n",
    "for line in open(train_label_file, 'r'):\n",
    "    res = line.split(':::')\n",
    "    author_labels[res[0]] = gender_map[res[1].rstrip('\\n')]\n",
    "\n",
    "for xml_file in train_xml_files_dir.glob('*.xml'):\n",
    "    tree = ET.parse(xml_file)\n",
    "    root = tree.getroot()\n",
    "    tweets_single = []\n",
    "    tweets_single_cleaned = []\n",
    "    for cdata in root.iter('document'):\n",
    "        tweets_single.append(cdata.text)\n",
    "        text = cdata.text\n",
    "        text = text.encode('ascii', 'ignore').decode('ascii')\n",
    "        cleaned_text = re.sub(r'@\\S+|https?:\\/\\/.*[\\r\\n]*', '', text, flags=re.MULTILINE)\n",
    "        tweets_single_cleaned.append(cleaned_text)\n",
    "        \n",
    "    path, file = os.path.split(xml_file)\n",
    "    author_id = file.rstrip('.xml')\n",
    "    tweets_all[author_id] = tweets_single\n",
    "    tweets_all_cleaned[author_id] = tweets_single_cleaned\n",
    "    number_of_tweets = len(tweets_single_cleaned)\n",
    "    author_repeated = np.repeat(author_id, number_of_tweets)\n",
    "    gender_repeated = np.repeat(author_labels[author_id], number_of_tweets)\n",
    "    if tweets_all_df is None:\n",
    "        tweets_all_df = pd.DataFrame(data={'id': author_repeated, 'text': tweets_single_cleaned, 'gender': gender_repeated})\n",
    "    else:\n",
    "        df = pd.DataFrame({'id':author_repeated, 'text': tweets_single_cleaned, 'gender': gender_repeated})\n",
    "        tweets_all_df = pd.concat([tweets_all_df, df], ignore_index=True)\n",
    "        print(tweets_all_df.shape)\n",
    "#         print(tweets_all_df.tail(1))"
   ]
  },
  {
   "cell_type": "code",
   "execution_count": null,
   "metadata": {},
   "outputs": [],
   "source": [
    "train_data.replace(to_replace=[r\"\\\\t|\\\\n|\\\\r\", \"\\t|\\n|\\r\"], value=[\"\",\"\"], regex=True, inplace=True)\n",
    "test_data.replace(to_replace=[r\"\\\\t|\\\\n|\\\\r\", \"\\t|\\n|\\r\"], value=[\"\",\"\"], regex=True, inplace=True)\n",
    "train_data.to_csv('pan_train.csv', index=False, header=False)\n",
    "test_data.to_csv('pan_test.csv', index=False, header=False)"
   ]
  }
 ],
 "metadata": {
  "kernelspec": {
   "display_name": "Python 3",
   "language": "python",
   "name": "python3"
  },
  "language_info": {
   "codemirror_mode": {
    "name": "ipython",
    "version": 3
   },
   "file_extension": ".py",
   "mimetype": "text/x-python",
   "name": "python",
   "nbconvert_exporter": "python",
   "pygments_lexer": "ipython3",
   "version": "3.7.3"
  }
 },
 "nbformat": 4,
 "nbformat_minor": 2
}
