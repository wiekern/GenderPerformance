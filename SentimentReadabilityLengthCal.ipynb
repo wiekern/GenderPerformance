{
 "cells": [
  {
   "cell_type": "markdown",
   "metadata": {},
   "source": [
    "# Notebook for calculating sentiment, readability and length for the entire dataset covering each category"
   ]
  },
  {
   "cell_type": "code",
   "execution_count": 1,
   "metadata": {},
   "outputs": [],
   "source": [
    "import pandas as pd\n",
    "import numpy as np\n",
    "import gzip\n",
    "import csv\n",
    "import string\n",
    "import math\n",
    "import nltk\n",
    "from nltk.tokenize import sent_tokenize, word_tokenize\n",
    "from nltk.corpus import cmudict\n",
    "from nltk.corpus import stopwords\n",
    "from nltk.tokenize import RegexpTokenizer\n",
    "import matplotlib.pyplot as plt\n",
    "import matplotlib.patches as mpatches\n",
    "from datetime import datetime\n",
    "from pathlib import Path\n",
    "%matplotlib inline"
   ]
  },
  {
   "cell_type": "markdown",
   "metadata": {},
   "source": [
    "# Processing disclosed and undisclosed dataset seperately, so run code below twice after one dataset finished"
   ]
  },
  {
   "cell_type": "markdown",
   "metadata": {},
   "source": [
    "# YELP"
   ]
  },
  {
   "cell_type": "code",
   "execution_count": 33,
   "metadata": {},
   "outputs": [
    {
     "data": {
      "text/html": [
       "<div>\n",
       "<style scoped>\n",
       "    .dataframe tbody tr th:only-of-type {\n",
       "        vertical-align: middle;\n",
       "    }\n",
       "\n",
       "    .dataframe tbody tr th {\n",
       "        vertical-align: top;\n",
       "    }\n",
       "\n",
       "    .dataframe thead th {\n",
       "        text-align: right;\n",
       "    }\n",
       "</style>\n",
       "<table border=\"1\" class=\"dataframe\">\n",
       "  <thead>\n",
       "    <tr style=\"text-align: right;\">\n",
       "      <th></th>\n",
       "      <th>Gender</th>\n",
       "      <th>text</th>\n",
       "      <th>stars</th>\n",
       "      <th>useful</th>\n",
       "      <th>business_id</th>\n",
       "      <th>categories</th>\n",
       "      <th>timestamp</th>\n",
       "    </tr>\n",
       "  </thead>\n",
       "  <tbody>\n",
       "    <tr>\n",
       "      <th>0</th>\n",
       "      <td>1.0</td>\n",
       "      <td>So it is 5 stars when Josh(Im pretty sure it i...</td>\n",
       "      <td>5.0</td>\n",
       "      <td>4.0</td>\n",
       "      <td>qmymSqVwHYRqdwfcBatzpQ</td>\n",
       "      <td>American (New), Wine Bars, Sandwiches, Cocktai...</td>\n",
       "      <td>1.290536e+09</td>\n",
       "    </tr>\n",
       "    <tr>\n",
       "      <th>1</th>\n",
       "      <td>1.0</td>\n",
       "      <td>I came to see Tron in IMAX because it was cent...</td>\n",
       "      <td>3.0</td>\n",
       "      <td>0.0</td>\n",
       "      <td>jobP3ywRd3QNZ_GCoPG2DQ</td>\n",
       "      <td>Cinema, Arts &amp; Entertainment</td>\n",
       "      <td>1.294364e+09</td>\n",
       "    </tr>\n",
       "    <tr>\n",
       "      <th>2</th>\n",
       "      <td>1.0</td>\n",
       "      <td>Lets start out by saying that I am not a Beatl...</td>\n",
       "      <td>5.0</td>\n",
       "      <td>1.0</td>\n",
       "      <td>mz9ltimeAIy2c2qf5ctljw</td>\n",
       "      <td>Arts &amp; Entertainment, Music Venues, Nightlife,...</td>\n",
       "      <td>1.304265e+09</td>\n",
       "    </tr>\n",
       "    <tr>\n",
       "      <th>3</th>\n",
       "      <td>1.0</td>\n",
       "      <td>So if you hate pumping your own gas they have ...</td>\n",
       "      <td>5.0</td>\n",
       "      <td>1.0</td>\n",
       "      <td>HZdtHOEaKUL2SlWj5owgCA</td>\n",
       "      <td>Auto Detailing, Oil Change Stations, Automotiv...</td>\n",
       "      <td>1.290833e+09</td>\n",
       "    </tr>\n",
       "    <tr>\n",
       "      <th>4</th>\n",
       "      <td>1.0</td>\n",
       "      <td>Why the hell does anyone go to Kona Grill?  Un...</td>\n",
       "      <td>5.0</td>\n",
       "      <td>3.0</td>\n",
       "      <td>CWNMLT-ppaUjLMmrnYDPVg</td>\n",
       "      <td>Asian Fusion, Restaurants, Hawaiian</td>\n",
       "      <td>1.288994e+09</td>\n",
       "    </tr>\n",
       "  </tbody>\n",
       "</table>\n",
       "</div>"
      ],
      "text/plain": [
       "   Gender                                               text  stars  useful  \\\n",
       "0     1.0  So it is 5 stars when Josh(Im pretty sure it i...    5.0     4.0   \n",
       "1     1.0  I came to see Tron in IMAX because it was cent...    3.0     0.0   \n",
       "2     1.0  Lets start out by saying that I am not a Beatl...    5.0     1.0   \n",
       "3     1.0  So if you hate pumping your own gas they have ...    5.0     1.0   \n",
       "4     1.0  Why the hell does anyone go to Kona Grill?  Un...    5.0     3.0   \n",
       "\n",
       "              business_id                                         categories  \\\n",
       "0  qmymSqVwHYRqdwfcBatzpQ  American (New), Wine Bars, Sandwiches, Cocktai...   \n",
       "1  jobP3ywRd3QNZ_GCoPG2DQ                       Cinema, Arts & Entertainment   \n",
       "2  mz9ltimeAIy2c2qf5ctljw  Arts & Entertainment, Music Venues, Nightlife,...   \n",
       "3  HZdtHOEaKUL2SlWj5owgCA  Auto Detailing, Oil Change Stations, Automotiv...   \n",
       "4  CWNMLT-ppaUjLMmrnYDPVg                Asian Fusion, Restaurants, Hawaiian   \n",
       "\n",
       "      timestamp  \n",
       "0  1.290536e+09  \n",
       "1  1.294364e+09  \n",
       "2  1.304265e+09  \n",
       "3  1.290833e+09  \n",
       "4  1.288994e+09  "
      ]
     },
     "execution_count": 33,
     "metadata": {},
     "output_type": "execute_result"
    }
   ],
   "source": [
    "# set flag to handle either disclosed or undisclosed that has gender label predicted by trained model\n",
    "dataset_dir = Path.cwd() / 'datasets/yelp'\n",
    "disclosed_flag = False\n",
    "fields = ['business_id','gender','useful','text', 'stars', 'timestamp', 'categories']\n",
    "dis_raw_df = pd.read_csv(dataset_dir / 'disclosed_dataset.csv', usecols=fields)\n",
    "mapping = {'female' : 1, 'male' : 0}\n",
    "dis_raw_df.replace({'gender': mapping}, inplace=True)\n",
    "\n",
    "fields = ['business_id','Gender','useful','text', 'stars', 'timestamp', 'categories']\n",
    "undis_raw_df = pd.read_csv(dataset_dir / 'undisclosed_predicted_dataset.csv', usecols=fields)\n",
    "# undis_raw_df.rename(columns={'predicted_gender': 'Gender'}, inplace=True)\n",
    "undis_raw_df.head()"
   ]
  },
  {
   "cell_type": "markdown",
   "metadata": {},
   "source": [
    "# StackExchange"
   ]
  },
  {
   "cell_type": "code",
   "execution_count": 2,
   "metadata": {},
   "outputs": [
    {
     "data": {
      "text/html": [
       "<div>\n",
       "<style scoped>\n",
       "    .dataframe tbody tr th:only-of-type {\n",
       "        vertical-align: middle;\n",
       "    }\n",
       "\n",
       "    .dataframe tbody tr th {\n",
       "        vertical-align: top;\n",
       "    }\n",
       "\n",
       "    .dataframe thead th {\n",
       "        text-align: right;\n",
       "    }\n",
       "</style>\n",
       "<table border=\"1\" class=\"dataframe\">\n",
       "  <thead>\n",
       "    <tr style=\"text-align: right;\">\n",
       "      <th></th>\n",
       "      <th>Gender</th>\n",
       "      <th>Text</th>\n",
       "      <th>Timestamp</th>\n",
       "      <th>Score</th>\n",
       "      <th>Reputation</th>\n",
       "    </tr>\n",
       "  </thead>\n",
       "  <tbody>\n",
       "    <tr>\n",
       "      <th>0</th>\n",
       "      <td>0.0</td>\n",
       "      <td>You realise that `nth-element` is a built-in f...</td>\n",
       "      <td>2013-06-26T12:51:07.277</td>\n",
       "      <td>0.0</td>\n",
       "      <td>187952.0</td>\n",
       "    </tr>\n",
       "    <tr>\n",
       "      <th>1</th>\n",
       "      <td>0.0</td>\n",
       "      <td>Is this just a learning experience, or do peop...</td>\n",
       "      <td>2010-02-11T03:47:21.490</td>\n",
       "      <td>0.0</td>\n",
       "      <td>187952.0</td>\n",
       "    </tr>\n",
       "    <tr>\n",
       "      <th>2</th>\n",
       "      <td>0.0</td>\n",
       "      <td>That's the runtime-type-checking option. For a...</td>\n",
       "      <td>2008-12-29T11:01:43.270</td>\n",
       "      <td>0.0</td>\n",
       "      <td>187952.0</td>\n",
       "    </tr>\n",
       "    <tr>\n",
       "      <th>3</th>\n",
       "      <td>0.0</td>\n",
       "      <td>@seh: What the OP wants is to be able to creat...</td>\n",
       "      <td>2009-12-17T15:40:12.390</td>\n",
       "      <td>1.0</td>\n",
       "      <td>187952.0</td>\n",
       "    </tr>\n",
       "    <tr>\n",
       "      <th>4</th>\n",
       "      <td>0.0</td>\n",
       "      <td>The reason is that if you use ordinals, then w...</td>\n",
       "      <td>2013-08-20T15:07:14.957</td>\n",
       "      <td>2.0</td>\n",
       "      <td>187952.0</td>\n",
       "    </tr>\n",
       "  </tbody>\n",
       "</table>\n",
       "</div>"
      ],
      "text/plain": [
       "   Gender                                               Text  \\\n",
       "0     0.0  You realise that `nth-element` is a built-in f...   \n",
       "1     0.0  Is this just a learning experience, or do peop...   \n",
       "2     0.0  That's the runtime-type-checking option. For a...   \n",
       "3     0.0  @seh: What the OP wants is to be able to creat...   \n",
       "4     0.0  The reason is that if you use ordinals, then w...   \n",
       "\n",
       "                 Timestamp  Score  Reputation  \n",
       "0  2013-06-26T12:51:07.277    0.0    187952.0  \n",
       "1  2010-02-11T03:47:21.490    0.0    187952.0  \n",
       "2  2008-12-29T11:01:43.270    0.0    187952.0  \n",
       "3  2009-12-17T15:40:12.390    1.0    187952.0  \n",
       "4  2013-08-20T15:07:14.957    2.0    187952.0  "
      ]
     },
     "execution_count": 2,
     "metadata": {},
     "output_type": "execute_result"
    }
   ],
   "source": [
    "# set flag to handle either disclosed or undisclosed that has gender label predicted by trained model\n",
    "dataset_dir = Path.cwd() /  'datasets/stackexchange'\n",
    "fields = ['Gender', 'Score', 'Text', 'CreationDate', 'Reputation']\n",
    "dis_raw_df = pd.read_csv(dataset_dir / 'disclosed_dataset.csv', usecols=fields)\n",
    "mapping = {'female' : 1, 'male' : 0}\n",
    "dis_raw_df.replace({'Gender': mapping}, inplace=True)\n",
    "# dis_raw_df.rename(columns={ 'AnswerText': 'Text', 'CreationDate': 'Timestamp'}, inplace=True)\n",
    "dis_raw_df.rename(columns={'CreationDate': 'Timestamp'}, inplace=True)\n",
    "    \n",
    "# fields = ['PredictedGender', 'Score', 'AnswerText', 'CreationDate', 'Reputation']\n",
    "fields = ['Gender', 'Score', 'Text', 'CreationDate', 'Reputation']\n",
    "undis_raw_df = pd.read_csv(dataset_dir / 'undisclosed_predicted_dataset.csv', usecols=fields)\n",
    "undis_raw_df.rename(columns={'CreationDate': 'Timestamp'}, inplace=True)\n",
    "undis_raw_df.head()"
   ]
  },
  {
   "cell_type": "markdown",
   "metadata": {},
   "source": [
    "# Reddit"
   ]
  },
  {
   "cell_type": "code",
   "execution_count": 3,
   "metadata": {},
   "outputs": [],
   "source": [
    "# set flag to handle either disclosed or undisclosed that has gender label predicted by trained model\n",
    "dataset_dir = Path.cwd() / 'datasets/reddit'\n",
    "# UserName,Text,Timestamp,Score,Categories,Gender\n",
    "fields = ['Gender', 'Score', 'Text', 'Timestamp', 'Categories']\n",
    "dis_raw_df = pd.read_csv(dataset_dir / 'disclosed_dataset.csv', usecols=fields)\n",
    "mapping = {'female' : 1, 'male' : 0}\n",
    "dis_raw_df.replace({'Gender': mapping}, inplace=True)\n",
    "    \n",
    "fields = ['Gender', 'Score', 'Text', 'Timestamp', 'Categories']\n",
    "undis_raw_df = pd.read_csv(dataset_dir / 'undisclosed_predicted_dataset.csv', usecols=fields)"
   ]
  },
  {
   "cell_type": "markdown",
   "metadata": {},
   "source": [
    "# seperate disclosed/undisclosed males and females"
   ]
  },
  {
   "cell_type": "code",
   "execution_count": 20,
   "metadata": {},
   "outputs": [
    {
     "name": "stdout",
     "output_type": "stream",
     "text": [
      "disclosed 0 or 1 csv not exist\n",
      "undisclosed 0 or 1 csv not exist\n"
     ]
    }
   ],
   "source": [
    "df_dict = {}\n",
    "if (dataset_dir / 'disclosed_0.csv').exists() or not (dataset_dir / 'disclosed_1.csv').exists():\n",
    "    print('disclosed 0 or 1 csv not exist')\n",
    "    dis_raw_df.rename(columns={'gender': 'Gender'}, inplace=True)\n",
    "    for i, g in dis_raw_df.groupby('Gender'):\n",
    "        i = int(i)\n",
    "        df_dict[i] = g\n",
    "        g.to_csv(dataset_dir / 'disclosed_{}.csv'.format(i), index=False)\n",
    "    dis_male_df = df_dict[0]\n",
    "    dis_female_df = df_dict[1]\n",
    "else:\n",
    "    dis_male_df = pd.read_csv(dataset_dir / 'disclosed_0.csv')\n",
    "    dis_female_df = pd.read_csv(dataset_dir / 'disclosed_1.csv')\n",
    "if not (dataset_dir / 'undisclosed_0.csv').exists() or not (dataset_dir / 'undisclosed_1.csv').exists():\n",
    "    print('undisclosed 0 or 1 csv not exist')\n",
    "    for i, g in undis_raw_df.groupby('Gender'):\n",
    "        i = int(i)\n",
    "        df_dict[i] = g\n",
    "        g.to_csv(dataset_dir / 'undisclosed_{}.csv'.format(i), index=False)\n",
    "    undis_male_df = df_dict[0]\n",
    "    undis_female_df = df_dict[1]\n",
    "else:\n",
    "    undis_male_df = pd.read_csv(dataset_dir / 'undisclosed_0.csv')\n",
    "    undis_female_df = pd.read_csv(dataset_dir / 'undisclosed_1.csv')"
   ]
  },
  {
   "cell_type": "code",
   "execution_count": 21,
   "metadata": {},
   "outputs": [
    {
     "data": {
      "text/html": [
       "<div>\n",
       "<style scoped>\n",
       "    .dataframe tbody tr th:only-of-type {\n",
       "        vertical-align: middle;\n",
       "    }\n",
       "\n",
       "    .dataframe tbody tr th {\n",
       "        vertical-align: top;\n",
       "    }\n",
       "\n",
       "    .dataframe thead th {\n",
       "        text-align: right;\n",
       "    }\n",
       "</style>\n",
       "<table border=\"1\" class=\"dataframe\">\n",
       "  <thead>\n",
       "    <tr style=\"text-align: right;\">\n",
       "      <th></th>\n",
       "      <th>Text</th>\n",
       "      <th>Timestamp</th>\n",
       "      <th>Score</th>\n",
       "      <th>Reputation</th>\n",
       "      <th>Gender</th>\n",
       "    </tr>\n",
       "  </thead>\n",
       "  <tbody>\n",
       "    <tr>\n",
       "      <th>13</th>\n",
       "      <td>need to see your code.</td>\n",
       "      <td>2012-09-29T17:19:40.433</td>\n",
       "      <td>0</td>\n",
       "      <td>331</td>\n",
       "      <td>1</td>\n",
       "    </tr>\n",
       "    <tr>\n",
       "      <th>45</th>\n",
       "      <td>Great answer. I moved ``wn.ensure_loaded`` out...</td>\n",
       "      <td>2014-12-12T23:39:21.487</td>\n",
       "      <td>0</td>\n",
       "      <td>2514</td>\n",
       "      <td>1</td>\n",
       "    </tr>\n",
       "    <tr>\n",
       "      <th>73</th>\n",
       "      <td>I had the same problem with `knit`ing to Word....</td>\n",
       "      <td>2014-11-12T23:08:54.263</td>\n",
       "      <td>0</td>\n",
       "      <td>1121</td>\n",
       "      <td>1</td>\n",
       "    </tr>\n",
       "    <tr>\n",
       "      <th>101</th>\n",
       "      <td>Record for other order</td>\n",
       "      <td>2015-06-01T17:38:49.103</td>\n",
       "      <td>0</td>\n",
       "      <td>115</td>\n",
       "      <td>1</td>\n",
       "    </tr>\n",
       "    <tr>\n",
       "      <th>107</th>\n",
       "      <td>Thank u for support! It works for me.</td>\n",
       "      <td>2017-01-04T08:10:15.330</td>\n",
       "      <td>1</td>\n",
       "      <td>49</td>\n",
       "      <td>1</td>\n",
       "    </tr>\n",
       "  </tbody>\n",
       "</table>\n",
       "</div>"
      ],
      "text/plain": [
       "                                                  Text  \\\n",
       "13                              need to see your code.   \n",
       "45   Great answer. I moved ``wn.ensure_loaded`` out...   \n",
       "73   I had the same problem with `knit`ing to Word....   \n",
       "101                             Record for other order   \n",
       "107              Thank u for support! It works for me.   \n",
       "\n",
       "                   Timestamp  Score  Reputation  Gender  \n",
       "13   2012-09-29T17:19:40.433      0         331       1  \n",
       "45   2014-12-12T23:39:21.487      0        2514       1  \n",
       "73   2014-11-12T23:08:54.263      0        1121       1  \n",
       "101  2015-06-01T17:38:49.103      0         115       1  \n",
       "107  2017-01-04T08:10:15.330      1          49       1  "
      ]
     },
     "execution_count": 21,
     "metadata": {},
     "output_type": "execute_result"
    }
   ],
   "source": [
    "undis_female_df.head()"
   ]
  },
  {
   "cell_type": "code",
   "execution_count": 18,
   "metadata": {},
   "outputs": [],
   "source": [
    "import datetime\n",
    "import time\n",
    "def date_to_timestamp(date_str):\n",
    "    if type(date_str) is str:\n",
    "        return time.mktime(datetime.datetime.strptime(date_str, '%Y-%m-%dT%H:%M:%S.%f').timetuple())\n",
    "    else:\n",
    "        return np.nan"
   ]
  },
  {
   "cell_type": "code",
   "execution_count": 19,
   "metadata": {},
   "outputs": [
    {
     "ename": "TypeError",
     "evalue": "strptime() argument 1 must be str, not float",
     "output_type": "error",
     "traceback": [
      "\u001b[0;31m---------------------------------------------------------------------------\u001b[0m",
      "\u001b[0;31mTypeError\u001b[0m                                 Traceback (most recent call last)",
      "\u001b[0;32m<ipython-input-19-2d6255f2284b>\u001b[0m in \u001b[0;36m<module>\u001b[0;34m\u001b[0m\n\u001b[1;32m      2\u001b[0m \u001b[0mundis_male_df\u001b[0m\u001b[0;34m[\u001b[0m\u001b[0;34m'Timestamp'\u001b[0m\u001b[0;34m]\u001b[0m \u001b[0;34m=\u001b[0m \u001b[0mundis_male_df\u001b[0m\u001b[0;34m[\u001b[0m\u001b[0;34m'Timestamp'\u001b[0m\u001b[0;34m]\u001b[0m\u001b[0;34m.\u001b[0m\u001b[0mapply\u001b[0m\u001b[0;34m(\u001b[0m\u001b[0;32mlambda\u001b[0m \u001b[0mx\u001b[0m\u001b[0;34m:\u001b[0m \u001b[0mdate_to_timestamp\u001b[0m\u001b[0;34m(\u001b[0m\u001b[0mx\u001b[0m\u001b[0;34m)\u001b[0m\u001b[0;34m)\u001b[0m\u001b[0;34m\u001b[0m\u001b[0;34m\u001b[0m\u001b[0m\n\u001b[1;32m      3\u001b[0m \u001b[0mdis_male_df\u001b[0m\u001b[0;34m[\u001b[0m\u001b[0;34m'Timestamp'\u001b[0m\u001b[0;34m]\u001b[0m \u001b[0;34m=\u001b[0m \u001b[0mdis_male_df\u001b[0m\u001b[0;34m[\u001b[0m\u001b[0;34m'Timestamp'\u001b[0m\u001b[0;34m]\u001b[0m\u001b[0;34m.\u001b[0m\u001b[0mapply\u001b[0m\u001b[0;34m(\u001b[0m\u001b[0;32mlambda\u001b[0m \u001b[0mx\u001b[0m\u001b[0;34m:\u001b[0m \u001b[0mdate_to_timestamp\u001b[0m\u001b[0;34m(\u001b[0m\u001b[0mx\u001b[0m\u001b[0;34m)\u001b[0m\u001b[0;34m)\u001b[0m\u001b[0;34m\u001b[0m\u001b[0;34m\u001b[0m\u001b[0m\n\u001b[0;32m----> 4\u001b[0;31m \u001b[0mdis_female_df\u001b[0m\u001b[0;34m[\u001b[0m\u001b[0;34m'Timestamp'\u001b[0m\u001b[0;34m]\u001b[0m \u001b[0;34m=\u001b[0m \u001b[0mdis_female_df\u001b[0m\u001b[0;34m[\u001b[0m\u001b[0;34m'Timestamp'\u001b[0m\u001b[0;34m]\u001b[0m\u001b[0;34m.\u001b[0m\u001b[0mapply\u001b[0m\u001b[0;34m(\u001b[0m\u001b[0;32mlambda\u001b[0m \u001b[0mx\u001b[0m\u001b[0;34m:\u001b[0m \u001b[0mdate_to_timestamp\u001b[0m\u001b[0;34m(\u001b[0m\u001b[0mx\u001b[0m\u001b[0;34m)\u001b[0m\u001b[0;34m)\u001b[0m\u001b[0;34m\u001b[0m\u001b[0;34m\u001b[0m\u001b[0m\n\u001b[0m",
      "\u001b[0;32m~/anaconda3/envs/ma/lib/python3.7/site-packages/pandas/core/series.py\u001b[0m in \u001b[0;36mapply\u001b[0;34m(self, func, convert_dtype, args, **kwds)\u001b[0m\n\u001b[1;32m   3589\u001b[0m             \u001b[0;32melse\u001b[0m\u001b[0;34m:\u001b[0m\u001b[0;34m\u001b[0m\u001b[0;34m\u001b[0m\u001b[0m\n\u001b[1;32m   3590\u001b[0m                 \u001b[0mvalues\u001b[0m \u001b[0;34m=\u001b[0m \u001b[0mself\u001b[0m\u001b[0;34m.\u001b[0m\u001b[0mastype\u001b[0m\u001b[0;34m(\u001b[0m\u001b[0mobject\u001b[0m\u001b[0;34m)\u001b[0m\u001b[0;34m.\u001b[0m\u001b[0mvalues\u001b[0m\u001b[0;34m\u001b[0m\u001b[0;34m\u001b[0m\u001b[0m\n\u001b[0;32m-> 3591\u001b[0;31m                 \u001b[0mmapped\u001b[0m \u001b[0;34m=\u001b[0m \u001b[0mlib\u001b[0m\u001b[0;34m.\u001b[0m\u001b[0mmap_infer\u001b[0m\u001b[0;34m(\u001b[0m\u001b[0mvalues\u001b[0m\u001b[0;34m,\u001b[0m \u001b[0mf\u001b[0m\u001b[0;34m,\u001b[0m \u001b[0mconvert\u001b[0m\u001b[0;34m=\u001b[0m\u001b[0mconvert_dtype\u001b[0m\u001b[0;34m)\u001b[0m\u001b[0;34m\u001b[0m\u001b[0;34m\u001b[0m\u001b[0m\n\u001b[0m\u001b[1;32m   3592\u001b[0m \u001b[0;34m\u001b[0m\u001b[0m\n\u001b[1;32m   3593\u001b[0m         \u001b[0;32mif\u001b[0m \u001b[0mlen\u001b[0m\u001b[0;34m(\u001b[0m\u001b[0mmapped\u001b[0m\u001b[0;34m)\u001b[0m \u001b[0;32mand\u001b[0m \u001b[0misinstance\u001b[0m\u001b[0;34m(\u001b[0m\u001b[0mmapped\u001b[0m\u001b[0;34m[\u001b[0m\u001b[0;36m0\u001b[0m\u001b[0;34m]\u001b[0m\u001b[0;34m,\u001b[0m \u001b[0mSeries\u001b[0m\u001b[0;34m)\u001b[0m\u001b[0;34m:\u001b[0m\u001b[0;34m\u001b[0m\u001b[0;34m\u001b[0m\u001b[0m\n",
      "\u001b[0;32mpandas/_libs/lib.pyx\u001b[0m in \u001b[0;36mpandas._libs.lib.map_infer\u001b[0;34m()\u001b[0m\n",
      "\u001b[0;32m<ipython-input-19-2d6255f2284b>\u001b[0m in \u001b[0;36m<lambda>\u001b[0;34m(x)\u001b[0m\n\u001b[1;32m      2\u001b[0m \u001b[0mundis_male_df\u001b[0m\u001b[0;34m[\u001b[0m\u001b[0;34m'Timestamp'\u001b[0m\u001b[0;34m]\u001b[0m \u001b[0;34m=\u001b[0m \u001b[0mundis_male_df\u001b[0m\u001b[0;34m[\u001b[0m\u001b[0;34m'Timestamp'\u001b[0m\u001b[0;34m]\u001b[0m\u001b[0;34m.\u001b[0m\u001b[0mapply\u001b[0m\u001b[0;34m(\u001b[0m\u001b[0;32mlambda\u001b[0m \u001b[0mx\u001b[0m\u001b[0;34m:\u001b[0m \u001b[0mdate_to_timestamp\u001b[0m\u001b[0;34m(\u001b[0m\u001b[0mx\u001b[0m\u001b[0;34m)\u001b[0m\u001b[0;34m)\u001b[0m\u001b[0;34m\u001b[0m\u001b[0;34m\u001b[0m\u001b[0m\n\u001b[1;32m      3\u001b[0m \u001b[0mdis_male_df\u001b[0m\u001b[0;34m[\u001b[0m\u001b[0;34m'Timestamp'\u001b[0m\u001b[0;34m]\u001b[0m \u001b[0;34m=\u001b[0m \u001b[0mdis_male_df\u001b[0m\u001b[0;34m[\u001b[0m\u001b[0;34m'Timestamp'\u001b[0m\u001b[0;34m]\u001b[0m\u001b[0;34m.\u001b[0m\u001b[0mapply\u001b[0m\u001b[0;34m(\u001b[0m\u001b[0;32mlambda\u001b[0m \u001b[0mx\u001b[0m\u001b[0;34m:\u001b[0m \u001b[0mdate_to_timestamp\u001b[0m\u001b[0;34m(\u001b[0m\u001b[0mx\u001b[0m\u001b[0;34m)\u001b[0m\u001b[0;34m)\u001b[0m\u001b[0;34m\u001b[0m\u001b[0;34m\u001b[0m\u001b[0m\n\u001b[0;32m----> 4\u001b[0;31m \u001b[0mdis_female_df\u001b[0m\u001b[0;34m[\u001b[0m\u001b[0;34m'Timestamp'\u001b[0m\u001b[0;34m]\u001b[0m \u001b[0;34m=\u001b[0m \u001b[0mdis_female_df\u001b[0m\u001b[0;34m[\u001b[0m\u001b[0;34m'Timestamp'\u001b[0m\u001b[0;34m]\u001b[0m\u001b[0;34m.\u001b[0m\u001b[0mapply\u001b[0m\u001b[0;34m(\u001b[0m\u001b[0;32mlambda\u001b[0m \u001b[0mx\u001b[0m\u001b[0;34m:\u001b[0m \u001b[0mdate_to_timestamp\u001b[0m\u001b[0;34m(\u001b[0m\u001b[0mx\u001b[0m\u001b[0;34m)\u001b[0m\u001b[0;34m)\u001b[0m\u001b[0;34m\u001b[0m\u001b[0;34m\u001b[0m\u001b[0m\n\u001b[0m",
      "\u001b[0;32m<ipython-input-18-b04eaf8045d9>\u001b[0m in \u001b[0;36mdate_to_timestamp\u001b[0;34m(date_str)\u001b[0m\n\u001b[1;32m      2\u001b[0m \u001b[0;32mimport\u001b[0m \u001b[0mtime\u001b[0m\u001b[0;34m\u001b[0m\u001b[0;34m\u001b[0m\u001b[0m\n\u001b[1;32m      3\u001b[0m \u001b[0;32mdef\u001b[0m \u001b[0mdate_to_timestamp\u001b[0m\u001b[0;34m(\u001b[0m\u001b[0mdate_str\u001b[0m\u001b[0;34m)\u001b[0m\u001b[0;34m:\u001b[0m\u001b[0;34m\u001b[0m\u001b[0;34m\u001b[0m\u001b[0m\n\u001b[0;32m----> 4\u001b[0;31m     \u001b[0;32mreturn\u001b[0m \u001b[0mtime\u001b[0m\u001b[0;34m.\u001b[0m\u001b[0mmktime\u001b[0m\u001b[0;34m(\u001b[0m\u001b[0mdatetime\u001b[0m\u001b[0;34m.\u001b[0m\u001b[0mdatetime\u001b[0m\u001b[0;34m.\u001b[0m\u001b[0mstrptime\u001b[0m\u001b[0;34m(\u001b[0m\u001b[0mdate_str\u001b[0m\u001b[0;34m,\u001b[0m \u001b[0;34m'%Y-%m-%dT%H:%M:%S.%f'\u001b[0m\u001b[0;34m)\u001b[0m\u001b[0;34m.\u001b[0m\u001b[0mtimetuple\u001b[0m\u001b[0;34m(\u001b[0m\u001b[0;34m)\u001b[0m\u001b[0;34m)\u001b[0m\u001b[0;34m\u001b[0m\u001b[0;34m\u001b[0m\u001b[0m\n\u001b[0m",
      "\u001b[0;31mTypeError\u001b[0m: strptime() argument 1 must be str, not float"
     ]
    }
   ],
   "source": [
    "undis_female_df['Timestamp'] = undis_female_df['Timestamp'].apply(lambda x: date_to_timestamp(x))\n",
    "undis_female_df.dropna(inplace=True)\n",
    "undis_male_df['Timestamp'] = undis_male_df['Timestamp'].apply(lambda x: date_to_timestamp(x))\n",
    "undis_male_df.dropna(inplace=True)\n",
    "dis_male_df['Timestamp'] = dis_male_df['Timestamp'].apply(lambda x: date_to_timestamp(x))\n",
    "dis_male_df.dropna(inplace=True)\n",
    "dis_female_df['Timestamp'] = dis_female_df['Timestamp'].apply(lambda x: date_to_timestamp(x))\n",
    "dis_female_df.dropna(inplace=True)"
   ]
  },
  {
   "cell_type": "code",
   "execution_count": 5,
   "metadata": {},
   "outputs": [],
   "source": [
    "not_punctuation = lambda w: not (len(w) == 1 and (not w.isalpha()))\n",
    "get_sent_count = lambda text: len(sent_tokenize(text))"
   ]
  },
  {
   "cell_type": "code",
   "execution_count": 6,
   "metadata": {},
   "outputs": [],
   "source": [
    "TOKENIZER = RegexpTokenizer('(?u)\\W+|\\$[\\d\\.]+|\\S+')\n",
    "SPECIAL_CHARS = ['.', ',', '!', '?']\n",
    "\n",
    "def get_words(text=''):\n",
    "    words = []\n",
    "    words = TOKENIZER.tokenize(text)\n",
    "    filtered_words = []\n",
    "    for word in words:\n",
    "        if word in SPECIAL_CHARS or word == \" \":\n",
    "            pass\n",
    "        else:\n",
    "            new_word = word.replace(\",\",\"\").replace(\".\",\"\")\n",
    "            new_word = new_word.replace(\"!\",\"\").replace(\"?\",\"\")\n",
    "            filtered_words.append(new_word)\n",
    "    return filtered_words"
   ]
  },
  {
   "cell_type": "markdown",
   "metadata": {},
   "source": [
    "# set download flag to download dicts, stopwords etc. once while run at first time"
   ]
  },
  {
   "cell_type": "code",
   "execution_count": 8,
   "metadata": {},
   "outputs": [],
   "source": [
    "# download dicts, stopwords etc. once while run at first time\n",
    "need_download = True"
   ]
  },
  {
   "cell_type": "code",
   "execution_count": 9,
   "metadata": {},
   "outputs": [
    {
     "name": "stderr",
     "output_type": "stream",
     "text": [
      "[nltk_data] Downloading package cmudict to /home/yafei/nltk_data...\n",
      "[nltk_data]   Package cmudict is already up-to-date!\n"
     ]
    }
   ],
   "source": [
    "if need_download:\n",
    "    nltk.download('cmudict')\n",
    "prondict = cmudict.dict()"
   ]
  },
  {
   "cell_type": "code",
   "execution_count": 10,
   "metadata": {},
   "outputs": [],
   "source": [
    "def numsyllables(word):\n",
    "    try:\n",
    "        return [len(list(y for y in x if (y[-1]).isdigit())) for x in prondict[word.lower()]]\n",
    "    except KeyError:\n",
    "        return [0]"
   ]
  },
  {
   "cell_type": "code",
   "execution_count": 11,
   "metadata": {},
   "outputs": [],
   "source": [
    "def text_statistics(text):\n",
    "    word_count = len(get_words(text))\n",
    "    sent_count = get_sent_count(text)\n",
    "    # if more than one pronunciation, take the largest no. of syllables\n",
    "    syllable_count = sum(map(lambda w: max(numsyllables(w)), word_tokenize(text)))\n",
    "    \n",
    "    analyzedVars = {\n",
    "        'word_cnt': float(word_count),\n",
    "        'sentence_cnt': float(sent_count),\n",
    "        'syllable_cnt': float(syllable_count),\n",
    "    }\n",
    "    \n",
    "    return analyzedVars['word_cnt'],analyzedVars['sentence_cnt'], analyzedVars['syllable_cnt']"
   ]
  },
  {
   "cell_type": "code",
   "execution_count": 12,
   "metadata": {},
   "outputs": [],
   "source": [
    "# Flesch Kincaid measure of readability\n",
    "\n",
    "# readability ease\n",
    "flesch_formula = lambda word_count, sent_count, syllable_count: 206.835 - 1.015*word_count/sent_count - 84.6*syllable_count/word_count\n",
    "\n",
    "def flesch(text):\n",
    "    word_count, sent_count, syllable_count = text_statistics(text)\n",
    "    #print(word_count,sent_count,syllable_count)\n",
    "    score = 0.0\n",
    "    if word_count > 0.0:\n",
    "        score = round(flesch_formula(word_count, sent_count, syllable_count))\n",
    "    return score\n",
    "\n",
    "# grade level\n",
    "fk_formula = lambda word_count, sent_count, syllable_count : 0.39 * word_count / sent_count + 11.8 * syllable_count / word_count - 15.59\n",
    "\n",
    "def flesch_kincaid(text):\n",
    "    word_count, sent_count, syllable_count = text_statistics(text)\n",
    "    score = 0.0\n",
    "    if word_count > 0.0 and sent_count > 0.0:\n",
    "        score = round(fk_formula(word_count, sent_count, syllable_count))\n",
    "    return score"
   ]
  },
  {
   "cell_type": "code",
   "execution_count": 13,
   "metadata": {},
   "outputs": [],
   "source": [
    "def length(text):\n",
    "    word_count, sent_count, syllable_count = text_statistics(text)\n",
    "    return word_count"
   ]
  },
  {
   "cell_type": "code",
   "execution_count": 14,
   "metadata": {},
   "outputs": [
    {
     "name": "stderr",
     "output_type": "stream",
     "text": [
      "[nltk_data] Downloading package stopwords to /home/yafei/nltk_data...\n",
      "[nltk_data]   Package stopwords is already up-to-date!\n"
     ]
    }
   ],
   "source": [
    "if need_download:\n",
    "    nltk.download('stopwords')\n",
    "# nltk 'punkt'\n",
    "words = stopwords.words(\"english\")\n",
    "\n",
    "# remove punctuation for each word\n",
    "# maketrans() method returns a translation table that maps each character in the \n",
    "# intab string into the character at the same position in the outtab string\n",
    "table = str.maketrans('', '', string.punctuation)"
   ]
  },
  {
   "cell_type": "code",
   "execution_count": 15,
   "metadata": {},
   "outputs": [
    {
     "name": "stderr",
     "output_type": "stream",
     "text": [
      "[nltk_data] Downloading package vader_lexicon to\n",
      "[nltk_data]     /home/yafei/nltk_data...\n",
      "[nltk_data]   Package vader_lexicon is already up-to-date!\n"
     ]
    }
   ],
   "source": [
    "from  nltk.sentiment.vader import SentimentIntensityAnalyzer as SIA\n",
    "\n",
    "if need_download:\n",
    "    nltk.download('vader_lexicon')\n",
    "sia = SIA()\n",
    "\n",
    "def sentiment(text):\n",
    "    cleaned_text = \" \".join([i.translate(table) for i in text.split() if i.isalpha() if i not in words]).lower()\n",
    "    return sia.polarity_scores(cleaned_text)"
   ]
  },
  {
   "cell_type": "code",
   "execution_count": 16,
   "metadata": {},
   "outputs": [],
   "source": [
    "dis_male_df = dis_male_df.dropna()\n",
    "dis_female_df = dis_female_df.dropna()"
   ]
  },
  {
   "cell_type": "code",
   "execution_count": 17,
   "metadata": {},
   "outputs": [
    {
     "data": {
      "text/html": [
       "<div>\n",
       "<style scoped>\n",
       "    .dataframe tbody tr th:only-of-type {\n",
       "        vertical-align: middle;\n",
       "    }\n",
       "\n",
       "    .dataframe tbody tr th {\n",
       "        vertical-align: top;\n",
       "    }\n",
       "\n",
       "    .dataframe thead th {\n",
       "        text-align: right;\n",
       "    }\n",
       "</style>\n",
       "<table border=\"1\" class=\"dataframe\">\n",
       "  <thead>\n",
       "    <tr style=\"text-align: right;\">\n",
       "      <th></th>\n",
       "      <th>Text</th>\n",
       "      <th>Timestamp</th>\n",
       "      <th>Score</th>\n",
       "      <th>Categories</th>\n",
       "      <th>Gender</th>\n",
       "    </tr>\n",
       "  </thead>\n",
       "  <tbody>\n",
       "    <tr>\n",
       "      <th>2</th>\n",
       "      <td>just keep playing you'll be fine.</td>\n",
       "      <td>1451606402</td>\n",
       "      <td>1</td>\n",
       "      <td>fo4</td>\n",
       "      <td>0</td>\n",
       "    </tr>\n",
       "    <tr>\n",
       "      <th>3</th>\n",
       "      <td>this sideline shit makes nonsense</td>\n",
       "      <td>1451606403</td>\n",
       "      <td>5</td>\n",
       "      <td>CFB</td>\n",
       "      <td>0</td>\n",
       "    </tr>\n",
       "    <tr>\n",
       "      <th>4</th>\n",
       "      <td>dude just accept clemson is nasty</td>\n",
       "      <td>1451606409</td>\n",
       "      <td>0</td>\n",
       "      <td>CFB</td>\n",
       "      <td>0</td>\n",
       "    </tr>\n",
       "    <tr>\n",
       "      <th>5</th>\n",
       "      <td>kosh has been as good the last few years as sm...</td>\n",
       "      <td>1451606410</td>\n",
       "      <td>0</td>\n",
       "      <td>soccer</td>\n",
       "      <td>0</td>\n",
       "    </tr>\n",
       "    <tr>\n",
       "      <th>8</th>\n",
       "      <td>see i guess maybe i'm more forgiving because i...</td>\n",
       "      <td>1451606411</td>\n",
       "      <td>1</td>\n",
       "      <td>AskReddit</td>\n",
       "      <td>0</td>\n",
       "    </tr>\n",
       "  </tbody>\n",
       "</table>\n",
       "</div>"
      ],
      "text/plain": [
       "                                                Text   Timestamp  Score  \\\n",
       "2                  just keep playing you'll be fine.  1451606402      1   \n",
       "3                 this sideline shit makes nonsense   1451606403      5   \n",
       "4                  dude just accept clemson is nasty  1451606409      0   \n",
       "5  kosh has been as good the last few years as sm...  1451606410      0   \n",
       "8  see i guess maybe i'm more forgiving because i...  1451606411      1   \n",
       "\n",
       "  Categories  Gender  \n",
       "2        fo4       0  \n",
       "3        CFB       0  \n",
       "4        CFB       0  \n",
       "5     soccer       0  \n",
       "8  AskReddit       0  "
      ]
     },
     "execution_count": 17,
     "metadata": {},
     "output_type": "execute_result"
    }
   ],
   "source": [
    "dis_male_df.head()"
   ]
  },
  {
   "cell_type": "code",
   "execution_count": 18,
   "metadata": {},
   "outputs": [],
   "source": [
    "if 'Text' not in dis_male_df.columns:\n",
    "    dis_male_df.rename(columns={'text': 'Text'}, inplace=True)\n",
    "    dis_female_df.rename(columns={'text': 'Text'}, inplace=True)\n",
    "\n",
    "dis_male_df['Length'] = dis_male_df['Text'].apply(lambda x: length(x))\n",
    "dis_female_df['Length'] = dis_female_df['Text'].apply(lambda x: length(x))"
   ]
  },
  {
   "cell_type": "code",
   "execution_count": 19,
   "metadata": {},
   "outputs": [],
   "source": [
    "dis_male_df['Sentiment'] = dis_male_df['Text'].apply(lambda x: sentiment(x))\n",
    "dis_female_df['Sentiment'] = dis_female_df['Text'].apply(lambda x: sentiment(x))"
   ]
  },
  {
   "cell_type": "code",
   "execution_count": 20,
   "metadata": {},
   "outputs": [],
   "source": [
    "dis_male_df['GradeLevel'] = dis_male_df['Text'].apply(lambda x: flesch_kincaid(x))\n",
    "dis_female_df['GradeLevel'] = dis_female_df['Text'].apply(lambda x: flesch_kincaid(x))"
   ]
  },
  {
   "cell_type": "code",
   "execution_count": 21,
   "metadata": {},
   "outputs": [],
   "source": [
    "dis_male_df.to_csv(dataset_dir / 'disclosed_male_l_s_r.csv', sep='|')\n",
    "dis_female_df.to_csv(dataset_dir / 'disclosed_female_l_s_r.csv', sep='|')"
   ]
  },
  {
   "cell_type": "code",
   "execution_count": 22,
   "metadata": {},
   "outputs": [
    {
     "data": {
      "text/plain": [
       "68"
      ]
     },
     "execution_count": 22,
     "metadata": {},
     "output_type": "execute_result"
    }
   ],
   "source": [
    "# free memory\n",
    "import gc\n",
    "del dis_male_df\n",
    "del dis_female_df\n",
    "gc.collect()"
   ]
  },
  {
   "cell_type": "code",
   "execution_count": 23,
   "metadata": {},
   "outputs": [
    {
     "data": {
      "text/html": [
       "<div>\n",
       "<style scoped>\n",
       "    .dataframe tbody tr th:only-of-type {\n",
       "        vertical-align: middle;\n",
       "    }\n",
       "\n",
       "    .dataframe tbody tr th {\n",
       "        vertical-align: top;\n",
       "    }\n",
       "\n",
       "    .dataframe thead th {\n",
       "        text-align: right;\n",
       "    }\n",
       "</style>\n",
       "<table border=\"1\" class=\"dataframe\">\n",
       "  <thead>\n",
       "    <tr style=\"text-align: right;\">\n",
       "      <th></th>\n",
       "      <th>Gender</th>\n",
       "      <th>Text</th>\n",
       "      <th>Timestamp</th>\n",
       "      <th>Score</th>\n",
       "      <th>Categories</th>\n",
       "    </tr>\n",
       "  </thead>\n",
       "  <tbody>\n",
       "    <tr>\n",
       "      <th>0</th>\n",
       "      <td>0.0</td>\n",
       "      <td>where's the banana for scale?!?!?!</td>\n",
       "      <td>1459303830</td>\n",
       "      <td>2</td>\n",
       "      <td>pics</td>\n",
       "    </tr>\n",
       "    <tr>\n",
       "      <th>1</th>\n",
       "      <td>0.0</td>\n",
       "      <td>lmao average bernie supporter</td>\n",
       "      <td>1457395012</td>\n",
       "      <td>1</td>\n",
       "      <td>trees</td>\n",
       "    </tr>\n",
       "    <tr>\n",
       "      <th>2</th>\n",
       "      <td>0.0</td>\n",
       "      <td>i hope they dont make him a pussy</td>\n",
       "      <td>1457504648</td>\n",
       "      <td>7</td>\n",
       "      <td>television</td>\n",
       "    </tr>\n",
       "    <tr>\n",
       "      <th>3</th>\n",
       "      <td>0.0</td>\n",
       "      <td>can anyone tell me what the temperature actual...</td>\n",
       "      <td>1457585810</td>\n",
       "      <td>1</td>\n",
       "      <td>survivor</td>\n",
       "    </tr>\n",
       "    <tr>\n",
       "      <th>4</th>\n",
       "      <td>0.0</td>\n",
       "      <td>it is suddenly, when she was released devourer...</td>\n",
       "      <td>1457862203</td>\n",
       "      <td>1</td>\n",
       "      <td>leagueoflegends</td>\n",
       "    </tr>\n",
       "  </tbody>\n",
       "</table>\n",
       "</div>"
      ],
      "text/plain": [
       "   Gender                                               Text   Timestamp  \\\n",
       "0     0.0                 where's the banana for scale?!?!?!  1459303830   \n",
       "1     0.0                  lmao average bernie supporter      1457395012   \n",
       "2     0.0                  i hope they dont make him a pussy  1457504648   \n",
       "3     0.0  can anyone tell me what the temperature actual...  1457585810   \n",
       "4     0.0  it is suddenly, when she was released devourer...  1457862203   \n",
       "\n",
       "   Score       Categories  \n",
       "0      2             pics  \n",
       "1      1            trees  \n",
       "2      7       television  \n",
       "3      1         survivor  \n",
       "4      1  leagueoflegends  "
      ]
     },
     "execution_count": 23,
     "metadata": {},
     "output_type": "execute_result"
    }
   ],
   "source": [
    "undis_male_df = undis_male_df.dropna()\n",
    "undis_female_df = undis_female_df.dropna()\n",
    "undis_male_df.head()"
   ]
  },
  {
   "cell_type": "code",
   "execution_count": 24,
   "metadata": {},
   "outputs": [],
   "source": [
    "undis_male_df.rename(columns={'text': 'Text'}, inplace=True)\n",
    "undis_female_df.rename(columns={'text': 'Text'}, inplace=True)\n",
    "undis_male_df['Length'] = undis_male_df['Text'].apply(lambda x: length(x))\n",
    "undis_female_df['Length'] = undis_female_df['Text'].apply(lambda x: length(x))\n",
    "undis_male_df['Sentiment'] = undis_male_df['Text'].apply(lambda x: sentiment(x))\n",
    "undis_female_df['Sentiment'] = undis_female_df['Text'].apply(lambda x: sentiment(x))\n"
   ]
  },
  {
   "cell_type": "code",
   "execution_count": 25,
   "metadata": {},
   "outputs": [
    {
     "data": {
      "text/html": [
       "<div>\n",
       "<style scoped>\n",
       "    .dataframe tbody tr th:only-of-type {\n",
       "        vertical-align: middle;\n",
       "    }\n",
       "\n",
       "    .dataframe tbody tr th {\n",
       "        vertical-align: top;\n",
       "    }\n",
       "\n",
       "    .dataframe thead th {\n",
       "        text-align: right;\n",
       "    }\n",
       "</style>\n",
       "<table border=\"1\" class=\"dataframe\">\n",
       "  <thead>\n",
       "    <tr style=\"text-align: right;\">\n",
       "      <th></th>\n",
       "      <th>Gender</th>\n",
       "      <th>Text</th>\n",
       "      <th>Timestamp</th>\n",
       "      <th>Score</th>\n",
       "      <th>Categories</th>\n",
       "      <th>Length</th>\n",
       "      <th>Sentiment</th>\n",
       "    </tr>\n",
       "  </thead>\n",
       "  <tbody>\n",
       "    <tr>\n",
       "      <th>0</th>\n",
       "      <td>0.0</td>\n",
       "      <td>where's the banana for scale?!?!?!</td>\n",
       "      <td>1459303830</td>\n",
       "      <td>2</td>\n",
       "      <td>pics</td>\n",
       "      <td>5.0</td>\n",
       "      <td>{'neg': 0.0, 'neu': 1.0, 'pos': 0.0, 'compound...</td>\n",
       "    </tr>\n",
       "    <tr>\n",
       "      <th>1</th>\n",
       "      <td>0.0</td>\n",
       "      <td>lmao average bernie supporter</td>\n",
       "      <td>1457395012</td>\n",
       "      <td>1</td>\n",
       "      <td>trees</td>\n",
       "      <td>5.0</td>\n",
       "      <td>{'neg': 0.0, 'neu': 0.25, 'pos': 0.75, 'compou...</td>\n",
       "    </tr>\n",
       "    <tr>\n",
       "      <th>2</th>\n",
       "      <td>0.0</td>\n",
       "      <td>i hope they dont make him a pussy</td>\n",
       "      <td>1457504648</td>\n",
       "      <td>7</td>\n",
       "      <td>television</td>\n",
       "      <td>8.0</td>\n",
       "      <td>{'neg': 0.0, 'neu': 0.508, 'pos': 0.492, 'comp...</td>\n",
       "    </tr>\n",
       "    <tr>\n",
       "      <th>3</th>\n",
       "      <td>0.0</td>\n",
       "      <td>can anyone tell me what the temperature actual...</td>\n",
       "      <td>1457585810</td>\n",
       "      <td>1</td>\n",
       "      <td>survivor</td>\n",
       "      <td>9.0</td>\n",
       "      <td>{'neg': 0.0, 'neu': 1.0, 'pos': 0.0, 'compound...</td>\n",
       "    </tr>\n",
       "    <tr>\n",
       "      <th>4</th>\n",
       "      <td>0.0</td>\n",
       "      <td>it is suddenly, when she was released devourer...</td>\n",
       "      <td>1457862203</td>\n",
       "      <td>1</td>\n",
       "      <td>leagueoflegends</td>\n",
       "      <td>37.0</td>\n",
       "      <td>{'neg': 0.0, 'neu': 1.0, 'pos': 0.0, 'compound...</td>\n",
       "    </tr>\n",
       "  </tbody>\n",
       "</table>\n",
       "</div>"
      ],
      "text/plain": [
       "   Gender                                               Text   Timestamp  \\\n",
       "0     0.0                 where's the banana for scale?!?!?!  1459303830   \n",
       "1     0.0                  lmao average bernie supporter      1457395012   \n",
       "2     0.0                  i hope they dont make him a pussy  1457504648   \n",
       "3     0.0  can anyone tell me what the temperature actual...  1457585810   \n",
       "4     0.0  it is suddenly, when she was released devourer...  1457862203   \n",
       "\n",
       "   Score       Categories  Length  \\\n",
       "0      2             pics     5.0   \n",
       "1      1            trees     5.0   \n",
       "2      7       television     8.0   \n",
       "3      1         survivor     9.0   \n",
       "4      1  leagueoflegends    37.0   \n",
       "\n",
       "                                           Sentiment  \n",
       "0  {'neg': 0.0, 'neu': 1.0, 'pos': 0.0, 'compound...  \n",
       "1  {'neg': 0.0, 'neu': 0.25, 'pos': 0.75, 'compou...  \n",
       "2  {'neg': 0.0, 'neu': 0.508, 'pos': 0.492, 'comp...  \n",
       "3  {'neg': 0.0, 'neu': 1.0, 'pos': 0.0, 'compound...  \n",
       "4  {'neg': 0.0, 'neu': 1.0, 'pos': 0.0, 'compound...  "
      ]
     },
     "execution_count": 25,
     "metadata": {},
     "output_type": "execute_result"
    }
   ],
   "source": [
    "undis_male_df.head()"
   ]
  },
  {
   "cell_type": "code",
   "execution_count": 26,
   "metadata": {},
   "outputs": [],
   "source": [
    "undis_male_df['GradeLevel'] = undis_male_df['Text'].apply(lambda x: flesch_kincaid(x))\n",
    "undis_female_df['GradeLevel'] = undis_female_df['Text'].apply(lambda x: flesch_kincaid(x))"
   ]
  },
  {
   "cell_type": "code",
   "execution_count": 27,
   "metadata": {},
   "outputs": [],
   "source": [
    "undis_male_df.to_csv(dataset_dir / 'undisclosed_male_l_s_r.csv', sep='|')\n",
    "undis_female_df.to_csv(dataset_dir / 'undisclosed_female_l_s_r.csv', sep='|')"
   ]
  },
  {
   "cell_type": "code",
   "execution_count": null,
   "metadata": {},
   "outputs": [],
   "source": []
  }
 ],
 "metadata": {
  "kernelspec": {
   "display_name": "Python 3",
   "language": "python",
   "name": "python3"
  },
  "language_info": {
   "codemirror_mode": {
    "name": "ipython",
    "version": 3
   },
   "file_extension": ".py",
   "mimetype": "text/x-python",
   "name": "python",
   "nbconvert_exporter": "python",
   "pygments_lexer": "ipython3",
   "version": "3.7.3"
  }
 },
 "nbformat": 4,
 "nbformat_minor": 2
}
