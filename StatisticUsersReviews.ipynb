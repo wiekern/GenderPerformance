{
 "cells": [
  {
   "cell_type": "code",
   "execution_count": 15,
   "metadata": {},
   "outputs": [],
   "source": [
    "import json\n",
    "import pandas as pd\n",
    "import numpy as np\n",
    "from pathlib import Path"
   ]
  },
  {
   "cell_type": "code",
   "execution_count": 18,
   "metadata": {},
   "outputs": [],
   "source": [
    "data_classes = ['yelp', 'reddit', 'stackexchange']"
   ]
  },
  {
   "cell_type": "code",
   "execution_count": 19,
   "metadata": {},
   "outputs": [
    {
     "name": "stderr",
     "output_type": "stream",
     "text": [
      "/home/yafei/anaconda3/envs/ma/lib/python3.7/site-packages/IPython/core/interactiveshell.py:3058: DtypeWarning: Columns (0,1) have mixed types. Specify dtype option on import or set low_memory=False.\n",
      "  interactivity=interactivity, compiler=compiler, result=result)\n"
     ]
    }
   ],
   "source": [
    "numberOfUsers = []\n",
    "numberOfReviews = []\n",
    "for data_class in data_classes:\n",
    "    if data_class == 'yelp':\n",
    "        data_dir = Path.cwd() / 'datasets/yelp/'\n",
    "    elif data_class == 'reddit':\n",
    "        data_dir = Path.cwd() / 'datasets/reddit/'\n",
    "    elif data_class == 'stackexchange':\n",
    "        data_dir = Path.cwd() / 'datasets/stackexchange/'\n",
    "    else:\n",
    "        print('Class not found.')\n",
    "        \n",
    "    disclosed_gender_df = pd.read_csv(data_dir / 'disclosed_dataset.csv')\n",
    "    undisclosed_gender_df = pd.read_csv(data_dir / 'undisclosed_dataset.csv')\n",
    "    \n",
    "    if data_class == 'yelp':\n",
    "        numberOfUsers.append(disclosed_gender_df.user_id.unique().shape[0] + undisclosed_gender_df.user_id.unique().shape[0])\n",
    "        numberOfReviews.append(disclosed_gender_df.shape[0] + undisclosed_gender_df.shape[0])\n",
    "    elif data_class == 'reddit':\n",
    "        numberOfUsers.append(disclosed_gender_df.UserName.unique().shape[0] + undisclosed_gender_df.UserName.unique().shape[0])\n",
    "        numberOfReviews.append(disclosed_gender_df.shape[0] + undisclosed_gender_df.shape[0])\n",
    "    elif data_class == 'stackexchange':\n",
    "        numberOfUsers.append(disclosed_gender_df.UserId.unique().shape[0] + undisclosed_gender_df.UserId.unique().shape[0])\n",
    "        numberOfReviews.append(disclosed_gender_df.shape[0] + undisclosed_gender_df.shape[0])\n",
    "    else:\n",
    "        print('Class not found.')\n",
    "\n",
    "        "
   ]
  },
  {
   "cell_type": "code",
   "execution_count": 20,
   "metadata": {},
   "outputs": [
    {
     "data": {
      "image/png": "[encoded data removed]",
      "text/plain": [
       "<Figure size 432x288 with 1 Axes>"
      ]
     },
     "metadata": {
      "needs_background": "light"
     },
     "output_type": "display_data"
    }
   ],
   "source": [
    "import numpy as np\n",
    "import matplotlib.pyplot as plt\n",
    "\n",
    "N = 3\n",
    "numberOfUsers = (yelp_data[0],reddit_data[0], stack_data[0])\n",
    "# men_std = (2, 3, 4, 1, 2)\n",
    "\n",
    "ind = np.arange(N)  # the x locations for the groups\n",
    "width = 0.35       # the width of the bars\n",
    "\n",
    "fig, ax = plt.subplots()\n",
    "rects1 = ax.bar(ind, numberOfUsers, width, color='g')\n",
    "\n",
    "numberOfReviews = (yelp_data[1],reddit_data[1], stack_data[1])\n",
    "# women_std = (3, 5, 2, 3, 3)\n",
    "rects2 = ax.bar(ind + width, numberOfReviews, width, color='y')\n",
    "\n",
    "# add some text for labels, title and axes ticks\n",
    "ax.set_ylabel('Amount')\n",
    "ax.set_title('The number of Users and Reviews')\n",
    "ax.set_xticks(ind + width / 2)\n",
    "ax.set_xticklabels(('Yelp', 'Reddit', 'StackOverflow'))\n",
    "\n",
    "ax.legend((rects1[0], rects2[0]), ('#Users', '#Reviews'))\n",
    "\n",
    "\n",
    "def autolabel(rects):\n",
    "    \"\"\"\n",
    "    Attach a text label above each bar displaying its height\n",
    "    \"\"\"\n",
    "    for rect in rects:\n",
    "        height = rect.get_height()\n",
    "        ax.text(rect.get_x() + rect.get_width()/2., height,\n",
    "                '%d' % int(height),\n",
    "                ha='center', va='bottom')\n",
    "\n",
    "autolabel(rects1)\n",
    "autolabel(rects2)\n",
    "\n",
    "plt.show()\n",
    "# plt.savefig(\"dataset_statistic.png\", dpi=300)"
   ]
  },
  {
   "cell_type": "code",
   "execution_count": null,
   "metadata": {},
   "outputs": [],
   "source": []
  }
 ],
 "metadata": {
  "kernelspec": {
   "display_name": "Python 3",
   "language": "python",
   "name": "python3"
  },
  "language_info": {
   "codemirror_mode": {
    "name": "ipython",
    "version": 3
   },
   "file_extension": ".py",
   "mimetype": "text/x-python",
   "name": "python",
   "nbconvert_exporter": "python",
   "pygments_lexer": "ipython3",
   "version": "3.7.3"
  }
 },
 "nbformat": 4,
 "nbformat_minor": 2
}
